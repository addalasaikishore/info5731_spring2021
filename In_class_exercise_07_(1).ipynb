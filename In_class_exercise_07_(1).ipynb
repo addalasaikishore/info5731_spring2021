{
  "nbformat": 4,
  "nbformat_minor": 0,
  "metadata": {
    "kernelspec": {
      "display_name": "Python 3",
      "language": "python",
      "name": "python3"
    },
    "language_info": {
      "codemirror_mode": {
        "name": "ipython",
        "version": 3
      },
      "file_extension": ".py",
      "mimetype": "text/x-python",
      "name": "python",
      "nbconvert_exporter": "python",
      "pygments_lexer": "ipython3",
      "version": "3.7.4"
    },
    "colab": {
      "name": "In_class_exercise_07 (1).ipynb",
      "provenance": [],
      "collapsed_sections": [],
      "toc_visible": true,
      "include_colab_link": true
    }
  },
  "cells": [
    {
      "cell_type": "markdown",
      "metadata": {
        "id": "view-in-github",
        "colab_type": "text"
      },
      "source": [
        "<a href=\"https://colab.research.google.com/github/addalasaikishore/info5731_spring2021/blob/main/In_class_exercise_07_(1).ipynb\" target=\"_parent\"><img src=\"https://colab.research.google.com/assets/colab-badge.svg\" alt=\"Open In Colab\"/></a>"
      ]
    },
    {
      "cell_type": "markdown",
      "metadata": {
        "id": "NHbTBOOZozvP"
      },
      "source": [
        "# **The seventh in-class-exercise (20 points in total, 10/21/2020)**"
      ]
    },
    {
      "cell_type": "markdown",
      "metadata": {
        "id": "f-hQUbmmozvQ"
      },
      "source": [
        "Question description: In the last in-class-exercise (exercise-06), you collected the titles of 100 articles about data science, natural language processing, and machine learning. The 100 article titles will be used as the text corpus of this exercise. Perform the following tasks:"
      ]
    },
    {
      "cell_type": "markdown",
      "metadata": {
        "id": "8nMoHgly2_By"
      },
      "source": [
        "# **Downloading and Installing required modules**"
      ]
    },
    {
      "cell_type": "markdown",
      "metadata": {
        "id": "__fseGFY3E3C"
      },
      "source": [
        "**Installing nltk and stopwords**"
      ]
    },
    {
      "cell_type": "code",
      "metadata": {
        "id": "yjZ_rF4j9XvW",
        "colab": {
          "base_uri": "https://localhost:8080/"
        },
        "outputId": "208e024d-47ae-412f-9c38-4694b8af4f5f"
      },
      "source": [
        "import nltk\n",
        "nltk.download('stopwords')"
      ],
      "execution_count": null,
      "outputs": [
        {
          "output_type": "stream",
          "text": [
            "[nltk_data] Downloading package stopwords to /root/nltk_data...\n",
            "[nltk_data]   Unzipping corpora/stopwords.zip.\n"
          ],
          "name": "stdout"
        },
        {
          "output_type": "execute_result",
          "data": {
            "text/plain": [
              "True"
            ]
          },
          "metadata": {
            "tags": []
          },
          "execution_count": 1
        }
      ]
    },
    {
      "cell_type": "markdown",
      "metadata": {
        "id": "KpKz9wHo3M9O"
      },
      "source": [
        "**Installing java**"
      ]
    },
    {
      "cell_type": "code",
      "metadata": {
        "id": "tdEi6wQA2bv8",
        "colab": {
          "base_uri": "https://localhost:8080/"
        },
        "outputId": "e8264870-9689-4c3d-d812-c872d7c1e7ba"
      },
      "source": [
        "import os\n",
        "def install_java():\n",
        "  !apt-get install -y openjdk-8-jdk-headless -qq > /dev/null\n",
        "  os.environ[\"JAVA_HOME\"] = \"/usr/lib/jvm/java-8-openjdk-amd64\"\n",
        "  !java -version\n",
        "install_java()"
      ],
      "execution_count": null,
      "outputs": [
        {
          "output_type": "stream",
          "text": [
            "openjdk version \"11.0.10\" 2021-01-19\n",
            "OpenJDK Runtime Environment (build 11.0.10+9-Ubuntu-0ubuntu1.18.04)\n",
            "OpenJDK 64-Bit Server VM (build 11.0.10+9-Ubuntu-0ubuntu1.18.04, mixed mode, sharing)\n"
          ],
          "name": "stdout"
        }
      ]
    },
    {
      "cell_type": "markdown",
      "metadata": {
        "id": "NWfgb9k13ZB3"
      },
      "source": [
        "**Upgrading Gensim**"
      ]
    },
    {
      "cell_type": "code",
      "metadata": {
        "id": "nAcjaA3O2sLG",
        "colab": {
          "base_uri": "https://localhost:8080/"
        },
        "outputId": "0b033e43-5e28-4c91-8927-893e0fa6874d"
      },
      "source": [
        "!pip install --upgrade gensim"
      ],
      "execution_count": null,
      "outputs": [
        {
          "output_type": "stream",
          "text": [
            "Collecting gensim\n",
            "\u001b[?25l  Downloading https://files.pythonhosted.org/packages/5c/4e/afe2315e08a38967f8a3036bbe7e38b428e9b7a90e823a83d0d49df1adf5/gensim-3.8.3-cp37-cp37m-manylinux1_x86_64.whl (24.2MB)\n",
            "\u001b[K     |████████████████████████████████| 24.2MB 140kB/s \n",
            "\u001b[?25hRequirement already satisfied, skipping upgrade: six>=1.5.0 in /usr/local/lib/python3.7/dist-packages (from gensim) (1.15.0)\n",
            "Requirement already satisfied, skipping upgrade: smart-open>=1.8.1 in /usr/local/lib/python3.7/dist-packages (from gensim) (4.2.0)\n",
            "Requirement already satisfied, skipping upgrade: scipy>=0.18.1 in /usr/local/lib/python3.7/dist-packages (from gensim) (1.4.1)\n",
            "Requirement already satisfied, skipping upgrade: numpy>=1.11.3 in /usr/local/lib/python3.7/dist-packages (from gensim) (1.19.5)\n",
            "Installing collected packages: gensim\n",
            "  Found existing installation: gensim 3.6.0\n",
            "    Uninstalling gensim-3.6.0:\n",
            "      Successfully uninstalled gensim-3.6.0\n",
            "Successfully installed gensim-3.8.3\n"
          ],
          "name": "stdout"
        }
      ]
    },
    {
      "cell_type": "markdown",
      "metadata": {
        "id": "QTxMSdBV3c9T"
      },
      "source": [
        "**Downloading en module in spicy**"
      ]
    },
    {
      "cell_type": "code",
      "metadata": {
        "id": "SS0ML_p22yAR",
        "colab": {
          "base_uri": "https://localhost:8080/"
        },
        "outputId": "121bb96d-5c71-4b50-a25c-a84ef84d4fca"
      },
      "source": [
        "import spacy.cli\n",
        "spacy.cli.download(\"en\")"
      ],
      "execution_count": null,
      "outputs": [
        {
          "output_type": "stream",
          "text": [
            "\u001b[38;5;2m✔ Download and installation successful\u001b[0m\n",
            "You can now load the model via spacy.load('en_core_web_sm')\n",
            "\u001b[38;5;2m✔ Linking successful\u001b[0m\n",
            "/usr/local/lib/python3.7/dist-packages/en_core_web_sm -->\n",
            "/usr/local/lib/python3.7/dist-packages/spacy/data/en\n",
            "You can now load the model via spacy.load('en')\n"
          ],
          "name": "stdout"
        }
      ]
    },
    {
      "cell_type": "markdown",
      "metadata": {
        "id": "VTAnQssPozvS"
      },
      "source": [
        "## (1) (8 points) Generate K topics by using LDA, the number of topics K should be decided by the coherence score, then summarize what are the topics. You may refer the code here: \n",
        "\n",
        "https://www.machinelearningplus.com/nlp/topic-modeling-gensim-python/"
      ]
    },
    {
      "cell_type": "markdown",
      "metadata": {
        "id": "-4Z6m-Xn4BGG"
      },
      "source": [
        "**Importing Required Modules**"
      ]
    },
    {
      "cell_type": "code",
      "metadata": {
        "id": "MhlMC3pqiFDz",
        "colab": {
          "base_uri": "https://localhost:8080/"
        },
        "outputId": "03a8da23-3225-4c69-9630-36d3d2411f11"
      },
      "source": [
        "import re\n",
        "import numpy as np\n",
        "import pandas as pd\n",
        "from pprint import pprint\n",
        "import gensim\n",
        "import gensim.corpora as corpora\n",
        "from gensim.utils import simple_preprocess\n",
        "from gensim.models import CoherenceModel\n",
        "import spacy\n",
        "!pip install pyLDAvis\n",
        "import pyLDAvis\n",
        "import pyLDAvis.gensim\n",
        "import matplotlib.pyplot as plt\n",
        "%matplotlib inline\n",
        "import warnings\n",
        "warnings.filterwarnings(\"ignore\",category=DeprecationWarning)"
      ],
      "execution_count": null,
      "outputs": [
        {
          "output_type": "stream",
          "text": [
            "Requirement already satisfied: pyLDAvis in /usr/local/lib/python3.7/dist-packages (3.2.2)\n",
            "Requirement already satisfied: pandas>=0.17.0; python_version > \"3.5\" in /usr/local/lib/python3.7/dist-packages (from pyLDAvis) (1.1.5)\n",
            "Requirement already satisfied: numexpr in /usr/local/lib/python3.7/dist-packages (from pyLDAvis) (2.7.3)\n",
            "Requirement already satisfied: numpy>=1.9.2 in /usr/local/lib/python3.7/dist-packages (from pyLDAvis) (1.19.5)\n",
            "Requirement already satisfied: joblib>=0.8.4 in /usr/local/lib/python3.7/dist-packages (from pyLDAvis) (1.0.1)\n",
            "Requirement already satisfied: future in /usr/local/lib/python3.7/dist-packages (from pyLDAvis) (0.16.0)\n",
            "Requirement already satisfied: wheel>=0.23.0 in /usr/local/lib/python3.7/dist-packages (from pyLDAvis) (0.36.2)\n",
            "Requirement already satisfied: jinja2>=2.7.2 in /usr/local/lib/python3.7/dist-packages (from pyLDAvis) (2.11.3)\n",
            "Requirement already satisfied: scipy>=0.18.0 in /usr/local/lib/python3.7/dist-packages (from pyLDAvis) (1.4.1)\n",
            "Requirement already satisfied: funcy in /usr/local/lib/python3.7/dist-packages (from pyLDAvis) (1.15)\n",
            "Requirement already satisfied: pytz>=2017.2 in /usr/local/lib/python3.7/dist-packages (from pandas>=0.17.0; python_version > \"3.5\"->pyLDAvis) (2018.9)\n",
            "Requirement already satisfied: python-dateutil>=2.7.3 in /usr/local/lib/python3.7/dist-packages (from pandas>=0.17.0; python_version > \"3.5\"->pyLDAvis) (2.8.1)\n",
            "Requirement already satisfied: MarkupSafe>=0.23 in /usr/local/lib/python3.7/dist-packages (from jinja2>=2.7.2->pyLDAvis) (1.1.1)\n",
            "Requirement already satisfied: six>=1.5 in /usr/local/lib/python3.7/dist-packages (from python-dateutil>=2.7.3->pandas>=0.17.0; python_version > \"3.5\"->pyLDAvis) (1.15.0)\n"
          ],
          "name": "stdout"
        }
      ]
    },
    {
      "cell_type": "markdown",
      "metadata": {
        "id": "KJdhIa_I4F3Q"
      },
      "source": [
        "**Importing Stopwords module from nltk**"
      ]
    },
    {
      "cell_type": "code",
      "metadata": {
        "id": "c5SSjC7CivoB"
      },
      "source": [
        "from nltk.corpus import stopwords\n",
        "stop_words = stopwords.words('english')\n",
        "stop_words.extend(['from', 'subject', 're', 'edu', 'use'])"
      ],
      "execution_count": null,
      "outputs": []
    },
    {
      "cell_type": "markdown",
      "metadata": {
        "id": "T6FFx1ms4Jp0"
      },
      "source": [
        "**Reading Google Articles from csv to df**"
      ]
    },
    {
      "cell_type": "code",
      "metadata": {
        "id": "5Iao5Rlpi7M6",
        "colab": {
          "base_uri": "https://localhost:8080/",
          "height": 355
        },
        "outputId": "0887f2c9-553a-43d8-b625-473051a1969f"
      },
      "source": [
        "google_articles_titles = pd.read_csv('data.csv', encoding = \"ISO-8859-1\")\n",
        "google_articles_titles.head(10)"
      ],
      "execution_count": null,
      "outputs": [
        {
          "output_type": "execute_result",
          "data": {
            "text/html": [
              "<div>\n",
              "<style scoped>\n",
              "    .dataframe tbody tr th:only-of-type {\n",
              "        vertical-align: middle;\n",
              "    }\n",
              "\n",
              "    .dataframe tbody tr th {\n",
              "        vertical-align: top;\n",
              "    }\n",
              "\n",
              "    .dataframe thead th {\n",
              "        text-align: right;\n",
              "    }\n",
              "</style>\n",
              "<table border=\"1\" class=\"dataframe\">\n",
              "  <thead>\n",
              "    <tr style=\"text-align: right;\">\n",
              "      <th></th>\n",
              "      <th>Review Title</th>\n",
              "    </tr>\n",
              "  </thead>\n",
              "  <tbody>\n",
              "    <tr>\n",
              "      <th>0</th>\n",
              "      <td>Machine learning comparison between WorldView-...</td>\n",
              "    </tr>\n",
              "    <tr>\n",
              "      <th>1</th>\n",
              "      <td>Unintended consequences of machine learning in...</td>\n",
              "    </tr>\n",
              "    <tr>\n",
              "      <th>2</th>\n",
              "      <td>Trend analysis in machine learning research us...</td>\n",
              "    </tr>\n",
              "    <tr>\n",
              "      <th>3</th>\n",
              "      <td>Machine learning applications in cancer progno...</td>\n",
              "    </tr>\n",
              "    <tr>\n",
              "      <th>4</th>\n",
              "      <td>Nanomaterial synthesis insights from machine l...</td>\n",
              "    </tr>\n",
              "    <tr>\n",
              "      <th>5</th>\n",
              "      <td>Implementation of machine-learning classificat...</td>\n",
              "    </tr>\n",
              "    <tr>\n",
              "      <th>6</th>\n",
              "      <td>A review of using machine learning approaches ...</td>\n",
              "    </tr>\n",
              "    <tr>\n",
              "      <th>7</th>\n",
              "      <td>Exploring characteristics of online news comme...</td>\n",
              "    </tr>\n",
              "    <tr>\n",
              "      <th>8</th>\n",
              "      <td>A review of research on machine learning in ed...</td>\n",
              "    </tr>\n",
              "    <tr>\n",
              "      <th>9</th>\n",
              "      <td>Literature review: Machine learning techniques...</td>\n",
              "    </tr>\n",
              "  </tbody>\n",
              "</table>\n",
              "</div>"
            ],
            "text/plain": [
              "                                        Review Title\n",
              "0  Machine learning comparison between WorldView-...\n",
              "1  Unintended consequences of machine learning in...\n",
              "2  Trend analysis in machine learning research us...\n",
              "3  Machine learning applications in cancer progno...\n",
              "4  Nanomaterial synthesis insights from machine l...\n",
              "5  Implementation of machine-learning classificat...\n",
              "6  A review of using machine learning approaches ...\n",
              "7  Exploring characteristics of online news comme...\n",
              "8  A review of research on machine learning in ed...\n",
              "9  Literature review: Machine learning techniques..."
            ]
          },
          "metadata": {
            "tags": []
          },
          "execution_count": 11
        }
      ]
    },
    {
      "cell_type": "markdown",
      "metadata": {
        "id": "iHSMPekc4Q4h"
      },
      "source": [
        "**Dataframe to list**"
      ]
    },
    {
      "cell_type": "code",
      "metadata": {
        "id": "ZvKRWq15j8fb"
      },
      "source": [
        "data = google_articles_titles['Review Title'].tolist()"
      ],
      "execution_count": 15,
      "outputs": []
    },
    {
      "cell_type": "markdown",
      "metadata": {
        "id": "rRmfqwwm4Z0h"
      },
      "source": [
        "**Tokenization and punctuation**"
      ]
    },
    {
      "cell_type": "code",
      "metadata": {
        "id": "7QBXHsTWkSeQ"
      },
      "source": [
        "data_words = []\n",
        "for line in data:\n",
        "  data_words.append(gensim.utils.simple_preprocess(str(line), deacc=True))"
      ],
      "execution_count": 16,
      "outputs": []
    },
    {
      "cell_type": "markdown",
      "metadata": {
        "id": "6WCl37Hv4dpp"
      },
      "source": [
        "**Building Bigrams and Trigrams models**"
      ]
    },
    {
      "cell_type": "code",
      "metadata": {
        "id": "i5zFu7bak0h0"
      },
      "source": [
        "bigram = gensim.models.Phrases(data_words, min_count=5, threshold=100)\n",
        "trigram = gensim.models.Phrases(bigram[data_words], threshold=100)\n",
        "bigram_mod = gensim.models.phrases.Phraser(bigram)\n",
        "trigram_mod = gensim.models.phrases.Phraser(trigram)"
      ],
      "execution_count": 17,
      "outputs": []
    },
    {
      "cell_type": "markdown",
      "metadata": {
        "id": "YzuFJcxFwZ6a"
      },
      "source": [
        ""
      ]
    },
    {
      "cell_type": "markdown",
      "metadata": {
        "id": "8nTW08d34kUy"
      },
      "source": [
        "**Removing Stopwords and getting Bigrams**"
      ]
    },
    {
      "cell_type": "code",
      "metadata": {
        "id": "5ZMrkJzsl4Uu"
      },
      "source": [
        "after_stopword_removal = [[word for word in simple_preprocess(str(doc)) if word not in stop_words] for doc in data_words]\n",
        "bigrams = [bigram_mod[doc] for doc in after_stopword_removal]"
      ],
      "execution_count": 18,
      "outputs": []
    },
    {
      "cell_type": "markdown",
      "metadata": {
        "id": "PpxgAruk4qf5"
      },
      "source": [
        "**Lemmatization**"
      ]
    },
    {
      "cell_type": "code",
      "metadata": {
        "id": "SZt2cgyBm49r"
      },
      "source": [
        "nlp = spacy.load('en', disable=['parser', 'ner'])\n",
        "allowed_postags=['NOUN', 'ADJ', 'VERB', 'ADV']\n",
        "after_lemmatization = []\n",
        "for sent in bigrams:\n",
        "  doc = nlp(\" \".join(sent)) \n",
        "  after_lemmatization.append([token.lemma_ for token in doc if token.pos_ in allowed_postags])"
      ],
      "execution_count": 19,
      "outputs": []
    },
    {
      "cell_type": "markdown",
      "metadata": {
        "id": "z0eGe6Yk4poM"
      },
      "source": [
        "**Building Dictionary, Corpus and Term Document Frequency**"
      ]
    },
    {
      "cell_type": "code",
      "metadata": {
        "id": "zwSnIycgoKDw",
        "colab": {
          "base_uri": "https://localhost:8080/"
        },
        "outputId": "5b6a613c-7a65-43bf-9c4a-5380ea6d46da"
      },
      "source": [
        "id2word = corpora.Dictionary(after_lemmatization)\n",
        "texts = after_lemmatization\n",
        "corpus = [id2word.doc2bow(text) for text in after_lemmatization]\n",
        "print(corpus[:1])"
      ],
      "execution_count": 20,
      "outputs": [
        {
          "output_type": "stream",
          "text": [
            "[[(0, 1), (1, 1), (2, 1), (3, 1), (4, 1), (5, 1), (6, 1), (7, 1), (8, 1)]]\n"
          ],
          "name": "stdout"
        }
      ]
    },
    {
      "cell_type": "code",
      "metadata": {
        "id": "VvCTa9N7pKFP",
        "colab": {
          "base_uri": "https://localhost:8080/",
          "height": 34
        },
        "outputId": "aa4c4304-a8f3-4e24-c1cd-9fffbb77a7a0"
      },
      "source": [
        "[[(id2word[id], freq) for id, freq in cp] for cp in corpus[:1]]"
      ],
      "execution_count": null,
      "outputs": [
        {
          "output_type": "execute_result",
          "data": {
            "text/plain": [
              "[[('language', 1), ('natural', 1), ('processing', 1)]]"
            ]
          },
          "metadata": {
            "tags": []
          },
          "execution_count": 139
        }
      ]
    },
    {
      "cell_type": "markdown",
      "metadata": {
        "id": "KAzspD-P5GpL"
      },
      "source": [
        "**Building LDA Model with 20 topics**"
      ]
    },
    {
      "cell_type": "code",
      "metadata": {
        "id": "4JVppzPDpkWz"
      },
      "source": [
        "lda_model = gensim.models.ldamodel.LdaModel(corpus=corpus,\n",
        "                                           id2word=id2word,\n",
        "                                           num_topics=20, \n",
        "                                           random_state=100,\n",
        "                                           update_every=1,\n",
        "                                           chunksize=100,\n",
        "                                           passes=10,\n",
        "                                           alpha='auto',\n",
        "                                           per_word_topics=True)"
      ],
      "execution_count": 21,
      "outputs": []
    },
    {
      "cell_type": "markdown",
      "metadata": {
        "id": "5pQXSVU45yEt"
      },
      "source": [
        "**Compute Model Perplexity and Coherence Score**"
      ]
    },
    {
      "cell_type": "code",
      "metadata": {
        "id": "8TSzGZBDp1af",
        "colab": {
          "base_uri": "https://localhost:8080/"
        },
        "outputId": "126a845b-db19-4c0a-e69f-59dff76ab9e4"
      },
      "source": [
        "print('\\nPerplexity: ', lda_model.log_perplexity(corpus)) \n",
        "coherence_model_lda = CoherenceModel(model=lda_model, texts=after_lemmatization, dictionary=id2word, coherence='c_v')\n",
        "coherence_lda = coherence_model_lda.get_coherence()\n",
        "print('\\nCoherence Score: ', coherence_lda)"
      ],
      "execution_count": 22,
      "outputs": [
        {
          "output_type": "stream",
          "text": [
            "\n",
            "Perplexity:  -3.142866884242921\n",
            "\n",
            "Coherence Score:  0.425556298428403\n"
          ],
          "name": "stdout"
        }
      ]
    },
    {
      "cell_type": "code",
      "metadata": {
        "id": "lArPwLZozKnj",
        "outputId": "92b5e039-6bb2-4471-f78d-3b174931353a",
        "colab": {
          "base_uri": "https://localhost:8080/",
          "height": 571
        }
      },
      "source": [
        "from google.colab import drive\n",
        "drive.mount('/content/drive')"
      ],
      "execution_count": 31,
      "outputs": [
        {
          "output_type": "error",
          "ename": "KeyboardInterrupt",
          "evalue": "ignored",
          "traceback": [
            "\u001b[0;31m---------------------------------------------------------------------------\u001b[0m",
            "\u001b[0;31mKeyboardInterrupt\u001b[0m                         Traceback (most recent call last)",
            "\u001b[0;32m/usr/local/lib/python3.7/dist-packages/ipykernel/kernelbase.py\u001b[0m in \u001b[0;36m_input_request\u001b[0;34m(self, prompt, ident, parent, password)\u001b[0m\n\u001b[1;32m    728\u001b[0m             \u001b[0;32mtry\u001b[0m\u001b[0;34m:\u001b[0m\u001b[0;34m\u001b[0m\u001b[0;34m\u001b[0m\u001b[0m\n\u001b[0;32m--> 729\u001b[0;31m                 \u001b[0mident\u001b[0m\u001b[0;34m,\u001b[0m \u001b[0mreply\u001b[0m \u001b[0;34m=\u001b[0m \u001b[0mself\u001b[0m\u001b[0;34m.\u001b[0m\u001b[0msession\u001b[0m\u001b[0;34m.\u001b[0m\u001b[0mrecv\u001b[0m\u001b[0;34m(\u001b[0m\u001b[0mself\u001b[0m\u001b[0;34m.\u001b[0m\u001b[0mstdin_socket\u001b[0m\u001b[0;34m,\u001b[0m \u001b[0;36m0\u001b[0m\u001b[0;34m)\u001b[0m\u001b[0;34m\u001b[0m\u001b[0;34m\u001b[0m\u001b[0m\n\u001b[0m\u001b[1;32m    730\u001b[0m             \u001b[0;32mexcept\u001b[0m \u001b[0mException\u001b[0m\u001b[0;34m:\u001b[0m\u001b[0;34m\u001b[0m\u001b[0;34m\u001b[0m\u001b[0m\n",
            "\u001b[0;32m/usr/local/lib/python3.7/dist-packages/jupyter_client/session.py\u001b[0m in \u001b[0;36mrecv\u001b[0;34m(self, socket, mode, content, copy)\u001b[0m\n\u001b[1;32m    802\u001b[0m         \u001b[0;32mtry\u001b[0m\u001b[0;34m:\u001b[0m\u001b[0;34m\u001b[0m\u001b[0;34m\u001b[0m\u001b[0m\n\u001b[0;32m--> 803\u001b[0;31m             \u001b[0mmsg_list\u001b[0m \u001b[0;34m=\u001b[0m \u001b[0msocket\u001b[0m\u001b[0;34m.\u001b[0m\u001b[0mrecv_multipart\u001b[0m\u001b[0;34m(\u001b[0m\u001b[0mmode\u001b[0m\u001b[0;34m,\u001b[0m \u001b[0mcopy\u001b[0m\u001b[0;34m=\u001b[0m\u001b[0mcopy\u001b[0m\u001b[0;34m)\u001b[0m\u001b[0;34m\u001b[0m\u001b[0;34m\u001b[0m\u001b[0m\n\u001b[0m\u001b[1;32m    804\u001b[0m         \u001b[0;32mexcept\u001b[0m \u001b[0mzmq\u001b[0m\u001b[0;34m.\u001b[0m\u001b[0mZMQError\u001b[0m \u001b[0;32mas\u001b[0m \u001b[0me\u001b[0m\u001b[0;34m:\u001b[0m\u001b[0;34m\u001b[0m\u001b[0;34m\u001b[0m\u001b[0m\n",
            "\u001b[0;32m/usr/local/lib/python3.7/dist-packages/zmq/sugar/socket.py\u001b[0m in \u001b[0;36mrecv_multipart\u001b[0;34m(self, flags, copy, track)\u001b[0m\n\u001b[1;32m    582\u001b[0m         \"\"\"\n\u001b[0;32m--> 583\u001b[0;31m         \u001b[0mparts\u001b[0m \u001b[0;34m=\u001b[0m \u001b[0;34m[\u001b[0m\u001b[0mself\u001b[0m\u001b[0;34m.\u001b[0m\u001b[0mrecv\u001b[0m\u001b[0;34m(\u001b[0m\u001b[0mflags\u001b[0m\u001b[0;34m,\u001b[0m \u001b[0mcopy\u001b[0m\u001b[0;34m=\u001b[0m\u001b[0mcopy\u001b[0m\u001b[0;34m,\u001b[0m \u001b[0mtrack\u001b[0m\u001b[0;34m=\u001b[0m\u001b[0mtrack\u001b[0m\u001b[0;34m)\u001b[0m\u001b[0;34m]\u001b[0m\u001b[0;34m\u001b[0m\u001b[0;34m\u001b[0m\u001b[0m\n\u001b[0m\u001b[1;32m    584\u001b[0m         \u001b[0;31m# have first part already, only loop while more to receive\u001b[0m\u001b[0;34m\u001b[0m\u001b[0;34m\u001b[0m\u001b[0;34m\u001b[0m\u001b[0m\n",
            "\u001b[0;32mzmq/backend/cython/socket.pyx\u001b[0m in \u001b[0;36mzmq.backend.cython.socket.Socket.recv\u001b[0;34m()\u001b[0m\n",
            "\u001b[0;32mzmq/backend/cython/socket.pyx\u001b[0m in \u001b[0;36mzmq.backend.cython.socket.Socket.recv\u001b[0;34m()\u001b[0m\n",
            "\u001b[0;32mzmq/backend/cython/socket.pyx\u001b[0m in \u001b[0;36mzmq.backend.cython.socket._recv_copy\u001b[0;34m()\u001b[0m\n",
            "\u001b[0;32m/usr/local/lib/python3.7/dist-packages/zmq/backend/cython/checkrc.pxd\u001b[0m in \u001b[0;36mzmq.backend.cython.checkrc._check_rc\u001b[0;34m()\u001b[0m\n",
            "\u001b[0;31mKeyboardInterrupt\u001b[0m: ",
            "\nDuring handling of the above exception, another exception occurred:\n",
            "\u001b[0;31mKeyboardInterrupt\u001b[0m                         Traceback (most recent call last)",
            "\u001b[0;32m<ipython-input-31-d5df0069828e>\u001b[0m in \u001b[0;36m<module>\u001b[0;34m()\u001b[0m\n\u001b[1;32m      1\u001b[0m \u001b[0;32mfrom\u001b[0m \u001b[0mgoogle\u001b[0m\u001b[0;34m.\u001b[0m\u001b[0mcolab\u001b[0m \u001b[0;32mimport\u001b[0m \u001b[0mdrive\u001b[0m\u001b[0;34m\u001b[0m\u001b[0;34m\u001b[0m\u001b[0m\n\u001b[0;32m----> 2\u001b[0;31m \u001b[0mdrive\u001b[0m\u001b[0;34m.\u001b[0m\u001b[0mmount\u001b[0m\u001b[0;34m(\u001b[0m\u001b[0;34m'/content/drive'\u001b[0m\u001b[0;34m)\u001b[0m\u001b[0;34m\u001b[0m\u001b[0;34m\u001b[0m\u001b[0m\n\u001b[0m",
            "\u001b[0;32m/usr/local/lib/python3.7/dist-packages/google/colab/drive.py\u001b[0m in \u001b[0;36mmount\u001b[0;34m(mountpoint, force_remount, timeout_ms, use_metadata_server)\u001b[0m\n\u001b[1;32m    258\u001b[0m       \u001b[0;32mwith\u001b[0m \u001b[0m_output\u001b[0m\u001b[0;34m.\u001b[0m\u001b[0muse_tags\u001b[0m\u001b[0;34m(\u001b[0m\u001b[0;34m'dfs-auth-dance'\u001b[0m\u001b[0;34m)\u001b[0m\u001b[0;34m:\u001b[0m\u001b[0;34m\u001b[0m\u001b[0;34m\u001b[0m\u001b[0m\n\u001b[1;32m    259\u001b[0m         \u001b[0;32mwith\u001b[0m \u001b[0mopen\u001b[0m\u001b[0;34m(\u001b[0m\u001b[0mfifo\u001b[0m\u001b[0;34m,\u001b[0m \u001b[0;34m'w'\u001b[0m\u001b[0;34m)\u001b[0m \u001b[0;32mas\u001b[0m \u001b[0mfifo_file\u001b[0m\u001b[0;34m:\u001b[0m\u001b[0;34m\u001b[0m\u001b[0;34m\u001b[0m\u001b[0m\n\u001b[0;32m--> 260\u001b[0;31m           \u001b[0mfifo_file\u001b[0m\u001b[0;34m.\u001b[0m\u001b[0mwrite\u001b[0m\u001b[0;34m(\u001b[0m\u001b[0mget_code\u001b[0m\u001b[0;34m(\u001b[0m\u001b[0mauth_prompt\u001b[0m\u001b[0;34m)\u001b[0m \u001b[0;34m+\u001b[0m \u001b[0;34m'\\n'\u001b[0m\u001b[0;34m)\u001b[0m\u001b[0;34m\u001b[0m\u001b[0;34m\u001b[0m\u001b[0m\n\u001b[0m\u001b[1;32m    261\u001b[0m       \u001b[0mwrote_to_fifo\u001b[0m \u001b[0;34m=\u001b[0m \u001b[0;32mTrue\u001b[0m\u001b[0;34m\u001b[0m\u001b[0;34m\u001b[0m\u001b[0m\n\u001b[1;32m    262\u001b[0m     \u001b[0;32melif\u001b[0m \u001b[0mcase\u001b[0m \u001b[0;34m==\u001b[0m \u001b[0;36m5\u001b[0m\u001b[0;34m:\u001b[0m\u001b[0;34m\u001b[0m\u001b[0;34m\u001b[0m\u001b[0m\n",
            "\u001b[0;32m/usr/local/lib/python3.7/dist-packages/ipykernel/kernelbase.py\u001b[0m in \u001b[0;36mraw_input\u001b[0;34m(self, prompt)\u001b[0m\n\u001b[1;32m    702\u001b[0m             \u001b[0mself\u001b[0m\u001b[0;34m.\u001b[0m\u001b[0m_parent_ident\u001b[0m\u001b[0;34m,\u001b[0m\u001b[0;34m\u001b[0m\u001b[0;34m\u001b[0m\u001b[0m\n\u001b[1;32m    703\u001b[0m             \u001b[0mself\u001b[0m\u001b[0;34m.\u001b[0m\u001b[0m_parent_header\u001b[0m\u001b[0;34m,\u001b[0m\u001b[0;34m\u001b[0m\u001b[0;34m\u001b[0m\u001b[0m\n\u001b[0;32m--> 704\u001b[0;31m             \u001b[0mpassword\u001b[0m\u001b[0;34m=\u001b[0m\u001b[0;32mFalse\u001b[0m\u001b[0;34m,\u001b[0m\u001b[0;34m\u001b[0m\u001b[0;34m\u001b[0m\u001b[0m\n\u001b[0m\u001b[1;32m    705\u001b[0m         )\n\u001b[1;32m    706\u001b[0m \u001b[0;34m\u001b[0m\u001b[0m\n",
            "\u001b[0;32m/usr/local/lib/python3.7/dist-packages/ipykernel/kernelbase.py\u001b[0m in \u001b[0;36m_input_request\u001b[0;34m(self, prompt, ident, parent, password)\u001b[0m\n\u001b[1;32m    732\u001b[0m             \u001b[0;32mexcept\u001b[0m \u001b[0mKeyboardInterrupt\u001b[0m\u001b[0;34m:\u001b[0m\u001b[0;34m\u001b[0m\u001b[0;34m\u001b[0m\u001b[0m\n\u001b[1;32m    733\u001b[0m                 \u001b[0;31m# re-raise KeyboardInterrupt, to truncate traceback\u001b[0m\u001b[0;34m\u001b[0m\u001b[0;34m\u001b[0m\u001b[0;34m\u001b[0m\u001b[0m\n\u001b[0;32m--> 734\u001b[0;31m                 \u001b[0;32mraise\u001b[0m \u001b[0mKeyboardInterrupt\u001b[0m\u001b[0;34m\u001b[0m\u001b[0;34m\u001b[0m\u001b[0m\n\u001b[0m\u001b[1;32m    735\u001b[0m             \u001b[0;32melse\u001b[0m\u001b[0;34m:\u001b[0m\u001b[0;34m\u001b[0m\u001b[0;34m\u001b[0m\u001b[0m\n\u001b[1;32m    736\u001b[0m                 \u001b[0;32mbreak\u001b[0m\u001b[0;34m\u001b[0m\u001b[0;34m\u001b[0m\u001b[0m\n",
            "\u001b[0;31mKeyboardInterrupt\u001b[0m: "
          ]
        }
      ]
    },
    {
      "cell_type": "markdown",
      "metadata": {
        "id": "c6n_Pguc51sV"
      },
      "source": [
        "**Setting environment Path and giving Mallet Path**"
      ]
    },
    {
      "cell_type": "code",
      "metadata": {
        "id": "ReQgO2l9q3pu"
      },
      "source": [
        "os.environ['MALLET_HOME'] = '/content/mallet-2.0.8'\n",
        "mallet_path = '/content/mallet-2.0.8/bin/mallet'"
      ],
      "execution_count": 32,
      "outputs": []
    },
    {
      "cell_type": "markdown",
      "metadata": {
        "id": "p4fTkvT96Bzr"
      },
      "source": [
        "**Building LDA Mallet Model**"
      ]
    },
    {
      "cell_type": "code",
      "metadata": {
        "id": "Wj3bImXErMQX",
        "colab": {
          "base_uri": "https://localhost:8080/",
          "height": 363
        },
        "outputId": "a4df006b-f8df-4cc8-e076-c5b21fce8ba7"
      },
      "source": [
        "ldamallet = gensim.models.wrappers.LdaMallet(mallet_path, corpus=corpus, num_topics=20, id2word=id2word)"
      ],
      "execution_count": 33,
      "outputs": [
        {
          "output_type": "error",
          "ename": "CalledProcessError",
          "evalue": "ignored",
          "traceback": [
            "\u001b[0;31m---------------------------------------------------------------------------\u001b[0m",
            "\u001b[0;31mCalledProcessError\u001b[0m                        Traceback (most recent call last)",
            "\u001b[0;32m<ipython-input-33-6e0dbb876ee6>\u001b[0m in \u001b[0;36m<module>\u001b[0;34m()\u001b[0m\n\u001b[0;32m----> 1\u001b[0;31m \u001b[0mldamallet\u001b[0m \u001b[0;34m=\u001b[0m \u001b[0mgensim\u001b[0m\u001b[0;34m.\u001b[0m\u001b[0mmodels\u001b[0m\u001b[0;34m.\u001b[0m\u001b[0mwrappers\u001b[0m\u001b[0;34m.\u001b[0m\u001b[0mLdaMallet\u001b[0m\u001b[0;34m(\u001b[0m\u001b[0mmallet_path\u001b[0m\u001b[0;34m,\u001b[0m \u001b[0mcorpus\u001b[0m\u001b[0;34m=\u001b[0m\u001b[0mcorpus\u001b[0m\u001b[0;34m,\u001b[0m \u001b[0mnum_topics\u001b[0m\u001b[0;34m=\u001b[0m\u001b[0;36m20\u001b[0m\u001b[0;34m,\u001b[0m \u001b[0mid2word\u001b[0m\u001b[0;34m=\u001b[0m\u001b[0mid2word\u001b[0m\u001b[0;34m)\u001b[0m\u001b[0;34m\u001b[0m\u001b[0;34m\u001b[0m\u001b[0m\n\u001b[0m",
            "\u001b[0;32m/usr/local/lib/python3.7/dist-packages/gensim/models/wrappers/ldamallet.py\u001b[0m in \u001b[0;36m__init__\u001b[0;34m(self, mallet_path, corpus, num_topics, alpha, id2word, workers, prefix, optimize_interval, iterations, topic_threshold, random_seed)\u001b[0m\n\u001b[1;32m    129\u001b[0m         \u001b[0mself\u001b[0m\u001b[0;34m.\u001b[0m\u001b[0mrandom_seed\u001b[0m \u001b[0;34m=\u001b[0m \u001b[0mrandom_seed\u001b[0m\u001b[0;34m\u001b[0m\u001b[0;34m\u001b[0m\u001b[0m\n\u001b[1;32m    130\u001b[0m         \u001b[0;32mif\u001b[0m \u001b[0mcorpus\u001b[0m \u001b[0;32mis\u001b[0m \u001b[0;32mnot\u001b[0m \u001b[0;32mNone\u001b[0m\u001b[0;34m:\u001b[0m\u001b[0;34m\u001b[0m\u001b[0;34m\u001b[0m\u001b[0m\n\u001b[0;32m--> 131\u001b[0;31m             \u001b[0mself\u001b[0m\u001b[0;34m.\u001b[0m\u001b[0mtrain\u001b[0m\u001b[0;34m(\u001b[0m\u001b[0mcorpus\u001b[0m\u001b[0;34m)\u001b[0m\u001b[0;34m\u001b[0m\u001b[0;34m\u001b[0m\u001b[0m\n\u001b[0m\u001b[1;32m    132\u001b[0m \u001b[0;34m\u001b[0m\u001b[0m\n\u001b[1;32m    133\u001b[0m     \u001b[0;32mdef\u001b[0m \u001b[0mfinferencer\u001b[0m\u001b[0;34m(\u001b[0m\u001b[0mself\u001b[0m\u001b[0;34m)\u001b[0m\u001b[0;34m:\u001b[0m\u001b[0;34m\u001b[0m\u001b[0;34m\u001b[0m\u001b[0m\n",
            "\u001b[0;32m/usr/local/lib/python3.7/dist-packages/gensim/models/wrappers/ldamallet.py\u001b[0m in \u001b[0;36mtrain\u001b[0;34m(self, corpus)\u001b[0m\n\u001b[1;32m    270\u001b[0m \u001b[0;34m\u001b[0m\u001b[0m\n\u001b[1;32m    271\u001b[0m         \"\"\"\n\u001b[0;32m--> 272\u001b[0;31m         \u001b[0mself\u001b[0m\u001b[0;34m.\u001b[0m\u001b[0mconvert_input\u001b[0m\u001b[0;34m(\u001b[0m\u001b[0mcorpus\u001b[0m\u001b[0;34m,\u001b[0m \u001b[0minfer\u001b[0m\u001b[0;34m=\u001b[0m\u001b[0;32mFalse\u001b[0m\u001b[0;34m)\u001b[0m\u001b[0;34m\u001b[0m\u001b[0;34m\u001b[0m\u001b[0m\n\u001b[0m\u001b[1;32m    273\u001b[0m         \u001b[0mcmd\u001b[0m \u001b[0;34m=\u001b[0m \u001b[0mself\u001b[0m\u001b[0;34m.\u001b[0m\u001b[0mmallet_path\u001b[0m \u001b[0;34m+\u001b[0m \u001b[0;34m' train-topics --input %s --num-topics %s  --alpha %s --optimize-interval %s '\u001b[0m\u001b[0;31m\\\u001b[0m\u001b[0;34m\u001b[0m\u001b[0;34m\u001b[0m\u001b[0m\n\u001b[1;32m    274\u001b[0m             \u001b[0;34m'--num-threads %s --output-state %s --output-doc-topics %s --output-topic-keys %s '\u001b[0m\u001b[0;31m\\\u001b[0m\u001b[0;34m\u001b[0m\u001b[0;34m\u001b[0m\u001b[0m\n",
            "\u001b[0;32m/usr/local/lib/python3.7/dist-packages/gensim/models/wrappers/ldamallet.py\u001b[0m in \u001b[0;36mconvert_input\u001b[0;34m(self, corpus, infer, serialize_corpus)\u001b[0m\n\u001b[1;32m    259\u001b[0m             \u001b[0mcmd\u001b[0m \u001b[0;34m=\u001b[0m \u001b[0mcmd\u001b[0m \u001b[0;34m%\u001b[0m \u001b[0;34m(\u001b[0m\u001b[0mself\u001b[0m\u001b[0;34m.\u001b[0m\u001b[0mfcorpustxt\u001b[0m\u001b[0;34m(\u001b[0m\u001b[0;34m)\u001b[0m\u001b[0;34m,\u001b[0m \u001b[0mself\u001b[0m\u001b[0;34m.\u001b[0m\u001b[0mfcorpusmallet\u001b[0m\u001b[0;34m(\u001b[0m\u001b[0;34m)\u001b[0m\u001b[0;34m)\u001b[0m\u001b[0;34m\u001b[0m\u001b[0;34m\u001b[0m\u001b[0m\n\u001b[1;32m    260\u001b[0m         \u001b[0mlogger\u001b[0m\u001b[0;34m.\u001b[0m\u001b[0minfo\u001b[0m\u001b[0;34m(\u001b[0m\u001b[0;34m\"converting temporary corpus to MALLET format with %s\"\u001b[0m\u001b[0;34m,\u001b[0m \u001b[0mcmd\u001b[0m\u001b[0;34m)\u001b[0m\u001b[0;34m\u001b[0m\u001b[0;34m\u001b[0m\u001b[0m\n\u001b[0;32m--> 261\u001b[0;31m         \u001b[0mcheck_output\u001b[0m\u001b[0;34m(\u001b[0m\u001b[0margs\u001b[0m\u001b[0;34m=\u001b[0m\u001b[0mcmd\u001b[0m\u001b[0;34m,\u001b[0m \u001b[0mshell\u001b[0m\u001b[0;34m=\u001b[0m\u001b[0;32mTrue\u001b[0m\u001b[0;34m)\u001b[0m\u001b[0;34m\u001b[0m\u001b[0;34m\u001b[0m\u001b[0m\n\u001b[0m\u001b[1;32m    262\u001b[0m \u001b[0;34m\u001b[0m\u001b[0m\n\u001b[1;32m    263\u001b[0m     \u001b[0;32mdef\u001b[0m \u001b[0mtrain\u001b[0m\u001b[0;34m(\u001b[0m\u001b[0mself\u001b[0m\u001b[0;34m,\u001b[0m \u001b[0mcorpus\u001b[0m\u001b[0;34m)\u001b[0m\u001b[0;34m:\u001b[0m\u001b[0;34m\u001b[0m\u001b[0;34m\u001b[0m\u001b[0m\n",
            "\u001b[0;32m/usr/local/lib/python3.7/dist-packages/gensim/utils.py\u001b[0m in \u001b[0;36mcheck_output\u001b[0;34m(stdout, *popenargs, **kwargs)\u001b[0m\n\u001b[1;32m   1930\u001b[0m             \u001b[0merror\u001b[0m \u001b[0;34m=\u001b[0m \u001b[0msubprocess\u001b[0m\u001b[0;34m.\u001b[0m\u001b[0mCalledProcessError\u001b[0m\u001b[0;34m(\u001b[0m\u001b[0mretcode\u001b[0m\u001b[0;34m,\u001b[0m \u001b[0mcmd\u001b[0m\u001b[0;34m)\u001b[0m\u001b[0;34m\u001b[0m\u001b[0;34m\u001b[0m\u001b[0m\n\u001b[1;32m   1931\u001b[0m             \u001b[0merror\u001b[0m\u001b[0;34m.\u001b[0m\u001b[0moutput\u001b[0m \u001b[0;34m=\u001b[0m \u001b[0moutput\u001b[0m\u001b[0;34m\u001b[0m\u001b[0;34m\u001b[0m\u001b[0m\n\u001b[0;32m-> 1932\u001b[0;31m             \u001b[0;32mraise\u001b[0m \u001b[0merror\u001b[0m\u001b[0;34m\u001b[0m\u001b[0;34m\u001b[0m\u001b[0m\n\u001b[0m\u001b[1;32m   1933\u001b[0m         \u001b[0;32mreturn\u001b[0m \u001b[0moutput\u001b[0m\u001b[0;34m\u001b[0m\u001b[0;34m\u001b[0m\u001b[0m\n\u001b[1;32m   1934\u001b[0m     \u001b[0;32mexcept\u001b[0m \u001b[0mKeyboardInterrupt\u001b[0m\u001b[0;34m:\u001b[0m\u001b[0;34m\u001b[0m\u001b[0;34m\u001b[0m\u001b[0m\n",
            "\u001b[0;31mCalledProcessError\u001b[0m: Command '/content/mallet-2.0.8/bin/mallet import-file --preserve-case --keep-sequence --remove-stopwords --token-regex \"\\S+\" --input /tmp/fede0d_corpus.txt --output /tmp/fede0d_corpus.mallet' returned non-zero exit status 127."
          ]
        }
      ]
    },
    {
      "cell_type": "markdown",
      "metadata": {
        "id": "D3moiPtb6JFW"
      },
      "source": [
        "**Compute Coherence Value for LDA**"
      ]
    },
    {
      "cell_type": "code",
      "metadata": {
        "id": "u7I10a2zv6gs"
      },
      "source": [
        "def compute_coherence_values(dictionary, corpus, texts, limit, start=2, step=3):\n",
        "    coherence_values = []\n",
        "    model_list = []\n",
        "    for num_topics in range(start, limit, step):\n",
        "        model = gensim.models.wrappers.LdaMallet(mallet_path, corpus=corpus, num_topics=num_topics, id2word=id2word)\n",
        "        model_list.append(model)\n",
        "        coherencemodel = CoherenceModel(model=model, texts=texts, dictionary=dictionary, coherence='c_v')\n",
        "        coherence_values.append(coherencemodel.get_coherence())\n",
        "\n",
        "    return model_list, coherence_values"
      ],
      "execution_count": 28,
      "outputs": []
    },
    {
      "cell_type": "code",
      "metadata": {
        "id": "xxPZjzRowCZV",
        "colab": {
          "base_uri": "https://localhost:8080/",
          "height": 363
        },
        "outputId": "9a37c1bd-b25d-4f7f-dd1a-14a2b1f198b1"
      },
      "source": [
        "model_list, coherence_values = compute_coherence_values(dictionary=id2word, corpus=corpus, texts=after_lemmatization, start=2, limit=60, step=6)"
      ],
      "execution_count": 26,
      "outputs": [
        {
          "output_type": "error",
          "ename": "CalledProcessError",
          "evalue": "ignored",
          "traceback": [
            "\u001b[0;31m---------------------------------------------------------------------------\u001b[0m",
            "\u001b[0;31mCalledProcessError\u001b[0m                        Traceback (most recent call last)",
            "\u001b[0;32m<ipython-input-26-b28db4c07aa2>\u001b[0m in \u001b[0;36m<module>\u001b[0;34m()\u001b[0m\n\u001b[0;32m----> 1\u001b[0;31m \u001b[0mmodel_list\u001b[0m\u001b[0;34m,\u001b[0m \u001b[0mcoherence_values\u001b[0m \u001b[0;34m=\u001b[0m \u001b[0mcompute_coherence_values\u001b[0m\u001b[0;34m(\u001b[0m\u001b[0mdictionary\u001b[0m\u001b[0;34m=\u001b[0m\u001b[0mid2word\u001b[0m\u001b[0;34m,\u001b[0m \u001b[0mcorpus\u001b[0m\u001b[0;34m=\u001b[0m\u001b[0mcorpus\u001b[0m\u001b[0;34m,\u001b[0m \u001b[0mtexts\u001b[0m\u001b[0;34m=\u001b[0m\u001b[0mafter_lemmatization\u001b[0m\u001b[0;34m,\u001b[0m \u001b[0mstart\u001b[0m\u001b[0;34m=\u001b[0m\u001b[0;36m2\u001b[0m\u001b[0;34m,\u001b[0m \u001b[0mlimit\u001b[0m\u001b[0;34m=\u001b[0m\u001b[0;36m60\u001b[0m\u001b[0;34m,\u001b[0m \u001b[0mstep\u001b[0m\u001b[0;34m=\u001b[0m\u001b[0;36m6\u001b[0m\u001b[0;34m)\u001b[0m\u001b[0;34m\u001b[0m\u001b[0;34m\u001b[0m\u001b[0m\n\u001b[0m",
            "\u001b[0;32m<ipython-input-25-058cf05fdd2e>\u001b[0m in \u001b[0;36mcompute_coherence_values\u001b[0;34m(dictionary, corpus, texts, limit, start, step)\u001b[0m\n\u001b[1;32m      3\u001b[0m     \u001b[0mmodel_list\u001b[0m \u001b[0;34m=\u001b[0m \u001b[0;34m[\u001b[0m\u001b[0;34m]\u001b[0m\u001b[0;34m\u001b[0m\u001b[0;34m\u001b[0m\u001b[0m\n\u001b[1;32m      4\u001b[0m     \u001b[0;32mfor\u001b[0m \u001b[0mnum_topics\u001b[0m \u001b[0;32min\u001b[0m \u001b[0mrange\u001b[0m\u001b[0;34m(\u001b[0m\u001b[0mstart\u001b[0m\u001b[0;34m,\u001b[0m \u001b[0mlimit\u001b[0m\u001b[0;34m,\u001b[0m \u001b[0mstep\u001b[0m\u001b[0;34m)\u001b[0m\u001b[0;34m:\u001b[0m\u001b[0;34m\u001b[0m\u001b[0;34m\u001b[0m\u001b[0m\n\u001b[0;32m----> 5\u001b[0;31m         \u001b[0mmodel\u001b[0m \u001b[0;34m=\u001b[0m \u001b[0mgensim\u001b[0m\u001b[0;34m.\u001b[0m\u001b[0mmodels\u001b[0m\u001b[0;34m.\u001b[0m\u001b[0mwrappers\u001b[0m\u001b[0;34m.\u001b[0m\u001b[0mLdaMallet\u001b[0m\u001b[0;34m(\u001b[0m\u001b[0mmallet_path\u001b[0m\u001b[0;34m,\u001b[0m \u001b[0mcorpus\u001b[0m\u001b[0;34m=\u001b[0m\u001b[0mcorpus\u001b[0m\u001b[0;34m,\u001b[0m \u001b[0mnum_topics\u001b[0m\u001b[0;34m=\u001b[0m\u001b[0mnum_topics\u001b[0m\u001b[0;34m,\u001b[0m \u001b[0mid2word\u001b[0m\u001b[0;34m=\u001b[0m\u001b[0mid2word\u001b[0m\u001b[0;34m)\u001b[0m\u001b[0;34m\u001b[0m\u001b[0;34m\u001b[0m\u001b[0m\n\u001b[0m\u001b[1;32m      6\u001b[0m         \u001b[0mmodel_list\u001b[0m\u001b[0;34m.\u001b[0m\u001b[0mappend\u001b[0m\u001b[0;34m(\u001b[0m\u001b[0mmodel\u001b[0m\u001b[0;34m)\u001b[0m\u001b[0;34m\u001b[0m\u001b[0;34m\u001b[0m\u001b[0m\n\u001b[1;32m      7\u001b[0m         \u001b[0mcoherencemodel\u001b[0m \u001b[0;34m=\u001b[0m \u001b[0mCoherenceModel\u001b[0m\u001b[0;34m(\u001b[0m\u001b[0mmodel\u001b[0m\u001b[0;34m=\u001b[0m\u001b[0mmodel\u001b[0m\u001b[0;34m,\u001b[0m \u001b[0mtexts\u001b[0m\u001b[0;34m=\u001b[0m\u001b[0mtexts\u001b[0m\u001b[0;34m,\u001b[0m \u001b[0mdictionary\u001b[0m\u001b[0;34m=\u001b[0m\u001b[0mdictionary\u001b[0m\u001b[0;34m,\u001b[0m \u001b[0mcoherence\u001b[0m\u001b[0;34m=\u001b[0m\u001b[0;34m'c_v'\u001b[0m\u001b[0;34m)\u001b[0m\u001b[0;34m\u001b[0m\u001b[0;34m\u001b[0m\u001b[0m\n",
            "\u001b[0;32m/usr/local/lib/python3.7/dist-packages/gensim/models/wrappers/ldamallet.py\u001b[0m in \u001b[0;36m__init__\u001b[0;34m(self, mallet_path, corpus, num_topics, alpha, id2word, workers, prefix, optimize_interval, iterations, topic_threshold, random_seed)\u001b[0m\n\u001b[1;32m    129\u001b[0m         \u001b[0mself\u001b[0m\u001b[0;34m.\u001b[0m\u001b[0mrandom_seed\u001b[0m \u001b[0;34m=\u001b[0m \u001b[0mrandom_seed\u001b[0m\u001b[0;34m\u001b[0m\u001b[0;34m\u001b[0m\u001b[0m\n\u001b[1;32m    130\u001b[0m         \u001b[0;32mif\u001b[0m \u001b[0mcorpus\u001b[0m \u001b[0;32mis\u001b[0m \u001b[0;32mnot\u001b[0m \u001b[0;32mNone\u001b[0m\u001b[0;34m:\u001b[0m\u001b[0;34m\u001b[0m\u001b[0;34m\u001b[0m\u001b[0m\n\u001b[0;32m--> 131\u001b[0;31m             \u001b[0mself\u001b[0m\u001b[0;34m.\u001b[0m\u001b[0mtrain\u001b[0m\u001b[0;34m(\u001b[0m\u001b[0mcorpus\u001b[0m\u001b[0;34m)\u001b[0m\u001b[0;34m\u001b[0m\u001b[0;34m\u001b[0m\u001b[0m\n\u001b[0m\u001b[1;32m    132\u001b[0m \u001b[0;34m\u001b[0m\u001b[0m\n\u001b[1;32m    133\u001b[0m     \u001b[0;32mdef\u001b[0m \u001b[0mfinferencer\u001b[0m\u001b[0;34m(\u001b[0m\u001b[0mself\u001b[0m\u001b[0;34m)\u001b[0m\u001b[0;34m:\u001b[0m\u001b[0;34m\u001b[0m\u001b[0;34m\u001b[0m\u001b[0m\n",
            "\u001b[0;32m/usr/local/lib/python3.7/dist-packages/gensim/models/wrappers/ldamallet.py\u001b[0m in \u001b[0;36mtrain\u001b[0;34m(self, corpus)\u001b[0m\n\u001b[1;32m    270\u001b[0m \u001b[0;34m\u001b[0m\u001b[0m\n\u001b[1;32m    271\u001b[0m         \"\"\"\n\u001b[0;32m--> 272\u001b[0;31m         \u001b[0mself\u001b[0m\u001b[0;34m.\u001b[0m\u001b[0mconvert_input\u001b[0m\u001b[0;34m(\u001b[0m\u001b[0mcorpus\u001b[0m\u001b[0;34m,\u001b[0m \u001b[0minfer\u001b[0m\u001b[0;34m=\u001b[0m\u001b[0;32mFalse\u001b[0m\u001b[0;34m)\u001b[0m\u001b[0;34m\u001b[0m\u001b[0;34m\u001b[0m\u001b[0m\n\u001b[0m\u001b[1;32m    273\u001b[0m         \u001b[0mcmd\u001b[0m \u001b[0;34m=\u001b[0m \u001b[0mself\u001b[0m\u001b[0;34m.\u001b[0m\u001b[0mmallet_path\u001b[0m \u001b[0;34m+\u001b[0m \u001b[0;34m' train-topics --input %s --num-topics %s  --alpha %s --optimize-interval %s '\u001b[0m\u001b[0;31m\\\u001b[0m\u001b[0;34m\u001b[0m\u001b[0;34m\u001b[0m\u001b[0m\n\u001b[1;32m    274\u001b[0m             \u001b[0;34m'--num-threads %s --output-state %s --output-doc-topics %s --output-topic-keys %s '\u001b[0m\u001b[0;31m\\\u001b[0m\u001b[0;34m\u001b[0m\u001b[0;34m\u001b[0m\u001b[0m\n",
            "\u001b[0;32m/usr/local/lib/python3.7/dist-packages/gensim/models/wrappers/ldamallet.py\u001b[0m in \u001b[0;36mconvert_input\u001b[0;34m(self, corpus, infer, serialize_corpus)\u001b[0m\n\u001b[1;32m    259\u001b[0m             \u001b[0mcmd\u001b[0m \u001b[0;34m=\u001b[0m \u001b[0mcmd\u001b[0m \u001b[0;34m%\u001b[0m \u001b[0;34m(\u001b[0m\u001b[0mself\u001b[0m\u001b[0;34m.\u001b[0m\u001b[0mfcorpustxt\u001b[0m\u001b[0;34m(\u001b[0m\u001b[0;34m)\u001b[0m\u001b[0;34m,\u001b[0m \u001b[0mself\u001b[0m\u001b[0;34m.\u001b[0m\u001b[0mfcorpusmallet\u001b[0m\u001b[0;34m(\u001b[0m\u001b[0;34m)\u001b[0m\u001b[0;34m)\u001b[0m\u001b[0;34m\u001b[0m\u001b[0;34m\u001b[0m\u001b[0m\n\u001b[1;32m    260\u001b[0m         \u001b[0mlogger\u001b[0m\u001b[0;34m.\u001b[0m\u001b[0minfo\u001b[0m\u001b[0;34m(\u001b[0m\u001b[0;34m\"converting temporary corpus to MALLET format with %s\"\u001b[0m\u001b[0;34m,\u001b[0m \u001b[0mcmd\u001b[0m\u001b[0;34m)\u001b[0m\u001b[0;34m\u001b[0m\u001b[0;34m\u001b[0m\u001b[0m\n\u001b[0;32m--> 261\u001b[0;31m         \u001b[0mcheck_output\u001b[0m\u001b[0;34m(\u001b[0m\u001b[0margs\u001b[0m\u001b[0;34m=\u001b[0m\u001b[0mcmd\u001b[0m\u001b[0;34m,\u001b[0m \u001b[0mshell\u001b[0m\u001b[0;34m=\u001b[0m\u001b[0;32mTrue\u001b[0m\u001b[0;34m)\u001b[0m\u001b[0;34m\u001b[0m\u001b[0;34m\u001b[0m\u001b[0m\n\u001b[0m\u001b[1;32m    262\u001b[0m \u001b[0;34m\u001b[0m\u001b[0m\n\u001b[1;32m    263\u001b[0m     \u001b[0;32mdef\u001b[0m \u001b[0mtrain\u001b[0m\u001b[0;34m(\u001b[0m\u001b[0mself\u001b[0m\u001b[0;34m,\u001b[0m \u001b[0mcorpus\u001b[0m\u001b[0;34m)\u001b[0m\u001b[0;34m:\u001b[0m\u001b[0;34m\u001b[0m\u001b[0;34m\u001b[0m\u001b[0m\n",
            "\u001b[0;32m/usr/local/lib/python3.7/dist-packages/gensim/utils.py\u001b[0m in \u001b[0;36mcheck_output\u001b[0;34m(stdout, *popenargs, **kwargs)\u001b[0m\n\u001b[1;32m   1930\u001b[0m             \u001b[0merror\u001b[0m \u001b[0;34m=\u001b[0m \u001b[0msubprocess\u001b[0m\u001b[0;34m.\u001b[0m\u001b[0mCalledProcessError\u001b[0m\u001b[0;34m(\u001b[0m\u001b[0mretcode\u001b[0m\u001b[0;34m,\u001b[0m \u001b[0mcmd\u001b[0m\u001b[0;34m)\u001b[0m\u001b[0;34m\u001b[0m\u001b[0;34m\u001b[0m\u001b[0m\n\u001b[1;32m   1931\u001b[0m             \u001b[0merror\u001b[0m\u001b[0;34m.\u001b[0m\u001b[0moutput\u001b[0m \u001b[0;34m=\u001b[0m \u001b[0moutput\u001b[0m\u001b[0;34m\u001b[0m\u001b[0;34m\u001b[0m\u001b[0m\n\u001b[0;32m-> 1932\u001b[0;31m             \u001b[0;32mraise\u001b[0m \u001b[0merror\u001b[0m\u001b[0;34m\u001b[0m\u001b[0;34m\u001b[0m\u001b[0m\n\u001b[0m\u001b[1;32m   1933\u001b[0m         \u001b[0;32mreturn\u001b[0m \u001b[0moutput\u001b[0m\u001b[0;34m\u001b[0m\u001b[0;34m\u001b[0m\u001b[0m\n\u001b[1;32m   1934\u001b[0m     \u001b[0;32mexcept\u001b[0m \u001b[0mKeyboardInterrupt\u001b[0m\u001b[0;34m:\u001b[0m\u001b[0;34m\u001b[0m\u001b[0;34m\u001b[0m\u001b[0m\n",
            "\u001b[0;31mCalledProcessError\u001b[0m: Command '/content/mallet-2.0.8/bin/mallet import-file --preserve-case --keep-sequence --remove-stopwords --token-regex \"\\S+\" --input /tmp/85887c_corpus.txt --output /tmp/85887c_corpus.mallet' returned non-zero exit status 127."
          ]
        }
      ]
    },
    {
      "cell_type": "code",
      "metadata": {
        "id": "0ezhkKGI_u8p",
        "colab": {
          "base_uri": "https://localhost:8080/",
          "height": 235
        },
        "outputId": "2b7e82f6-8372-4499-ff1b-51999c529823"
      },
      "source": [
        "limit=60; start=2; step=6;\n",
        "x = range(start, limit, step)\n",
        "plt.plot(x, coherence_values)\n",
        "plt.xlabel(\"Num Topics\")\n",
        "plt.ylabel(\"Coherence score\")\n",
        "plt.legend((\"coherence_values\"), loc='best')\n",
        "plt.show()"
      ],
      "execution_count": 29,
      "outputs": [
        {
          "output_type": "error",
          "ename": "NameError",
          "evalue": "ignored",
          "traceback": [
            "\u001b[0;31m---------------------------------------------------------------------------\u001b[0m",
            "\u001b[0;31mNameError\u001b[0m                                 Traceback (most recent call last)",
            "\u001b[0;32m<ipython-input-29-52965e82ad2c>\u001b[0m in \u001b[0;36m<module>\u001b[0;34m()\u001b[0m\n\u001b[1;32m      1\u001b[0m \u001b[0mlimit\u001b[0m\u001b[0;34m=\u001b[0m\u001b[0;36m60\u001b[0m\u001b[0;34m;\u001b[0m \u001b[0mstart\u001b[0m\u001b[0;34m=\u001b[0m\u001b[0;36m2\u001b[0m\u001b[0;34m;\u001b[0m \u001b[0mstep\u001b[0m\u001b[0;34m=\u001b[0m\u001b[0;36m6\u001b[0m\u001b[0;34m;\u001b[0m\u001b[0;34m\u001b[0m\u001b[0;34m\u001b[0m\u001b[0m\n\u001b[1;32m      2\u001b[0m \u001b[0mx\u001b[0m \u001b[0;34m=\u001b[0m \u001b[0mrange\u001b[0m\u001b[0;34m(\u001b[0m\u001b[0mstart\u001b[0m\u001b[0;34m,\u001b[0m \u001b[0mlimit\u001b[0m\u001b[0;34m,\u001b[0m \u001b[0mstep\u001b[0m\u001b[0;34m)\u001b[0m\u001b[0;34m\u001b[0m\u001b[0;34m\u001b[0m\u001b[0m\n\u001b[0;32m----> 3\u001b[0;31m \u001b[0mplt\u001b[0m\u001b[0;34m.\u001b[0m\u001b[0mplot\u001b[0m\u001b[0;34m(\u001b[0m\u001b[0mx\u001b[0m\u001b[0;34m,\u001b[0m \u001b[0mcoherence_values\u001b[0m\u001b[0;34m)\u001b[0m\u001b[0;34m\u001b[0m\u001b[0;34m\u001b[0m\u001b[0m\n\u001b[0m\u001b[1;32m      4\u001b[0m \u001b[0mplt\u001b[0m\u001b[0;34m.\u001b[0m\u001b[0mxlabel\u001b[0m\u001b[0;34m(\u001b[0m\u001b[0;34m\"Num Topics\"\u001b[0m\u001b[0;34m)\u001b[0m\u001b[0;34m\u001b[0m\u001b[0;34m\u001b[0m\u001b[0m\n\u001b[1;32m      5\u001b[0m \u001b[0mplt\u001b[0m\u001b[0;34m.\u001b[0m\u001b[0mylabel\u001b[0m\u001b[0;34m(\u001b[0m\u001b[0;34m\"Coherence score\"\u001b[0m\u001b[0;34m)\u001b[0m\u001b[0;34m\u001b[0m\u001b[0;34m\u001b[0m\u001b[0m\n",
            "\u001b[0;31mNameError\u001b[0m: name 'coherence_values' is not defined"
          ]
        }
      ]
    },
    {
      "cell_type": "code",
      "metadata": {
        "id": "n3bgZXrzxQYC",
        "colab": {
          "base_uri": "https://localhost:8080/",
          "height": 185
        },
        "outputId": "f87142f2-837a-41cc-b665-af602e617dbd"
      },
      "source": [
        "for no_of_topics, cv in zip(range(2, 60, 6), coherence_values):\n",
        "  print(\"Num Topics:\", no_of_topics, \" - Coherence Value:\", round(cv, 4))"
      ],
      "execution_count": null,
      "outputs": [
        {
          "output_type": "stream",
          "text": [
            "Num Topics: 2  - Coherence Value: 0.5938\n",
            "Num Topics: 8  - Coherence Value: 0.709\n",
            "Num Topics: 14  - Coherence Value: 0.7367\n",
            "Num Topics: 20  - Coherence Value: 0.7216\n",
            "Num Topics: 26  - Coherence Value: 0.7211\n",
            "Num Topics: 32  - Coherence Value: 0.7184\n",
            "Num Topics: 38  - Coherence Value: 0.7138\n",
            "Num Topics: 44  - Coherence Value: 0.7078\n",
            "Num Topics: 50  - Coherence Value: 0.7028\n",
            "Num Topics: 56  - Coherence Value: 0.705\n"
          ],
          "name": "stdout"
        }
      ]
    },
    {
      "cell_type": "code",
      "metadata": {
        "id": "X0VGaYuGoNMO"
      },
      "source": [
        "lda_model = gensim.models.ldamodel.LdaModel(corpus=corpus,\n",
        "                                           id2word=id2word,\n",
        "                                           num_topics=14, \n",
        "                                           random_state=100,\n",
        "                                           update_every=1,\n",
        "                                           chunksize=100,\n",
        "                                           passes=10,\n",
        "                                           alpha='auto',\n",
        "                                           per_word_topics=True)"
      ],
      "execution_count": null,
      "outputs": []
    },
    {
      "cell_type": "markdown",
      "metadata": {
        "id": "ACjUuxjPl_WS"
      },
      "source": [
        "**Printing Topics**"
      ]
    },
    {
      "cell_type": "code",
      "metadata": {
        "id": "MMRXlNLkl416",
        "colab": {
          "base_uri": "https://localhost:8080/",
          "height": 958
        },
        "outputId": "d8a84be8-f3c4-4f52-cc2e-a058f0bfb034"
      },
      "source": [
        "pprint(lda_model.print_topics())\n",
        "doc_lda = lda_model[corpus]"
      ],
      "execution_count": null,
      "outputs": [
        {
          "output_type": "stream",
          "text": [
            "[(0,\n",
            "  '0.071*\"natural\" + 0.071*\"processing\" + 0.071*\"language\" + 0.025*\"use\" + '\n",
            "  '0.025*\"extract\" + 0.025*\"exist\" + 0.025*\"medical\" + 0.025*\"plagiarism\" + '\n",
            "  '0.025*\"evaluation\" + 0.025*\"problem\"'),\n",
            " (1,\n",
            "  '0.133*\"language\" + 0.121*\"natural\" + 0.109*\"processing\" + '\n",
            "  '0.037*\"statistical\" + 0.013*\"biomedicine\" + 0.013*\"architecture\" + '\n",
            "  '0.013*\"computer\" + 0.013*\"unified\" + 0.013*\"significance\" + 0.013*\"assist\"'),\n",
            " (2,\n",
            "  '0.117*\"natural\" + 0.117*\"language\" + 0.096*\"processing\" + 0.032*\"use\" + '\n",
            "  '0.022*\"text\" + 0.022*\"medical\" + 0.022*\"system\" + 0.022*\"process\" + '\n",
            "  '0.011*\"information\" + 0.011*\"method\"'),\n",
            " (3,\n",
            "  '0.132*\"natural\" + 0.132*\"processing\" + 0.132*\"language\" + 0.076*\"retrieval\" '\n",
            "  '+ 0.076*\"information\" + 0.039*\"toolkit\" + 0.020*\"build\" + 0.020*\"customize\" '\n",
            "  '+ 0.020*\"linguistic\" + 0.020*\"efficiently\"'),\n",
            " (4,\n",
            "  '0.068*\"natural\" + 0.068*\"language\" + 0.035*\"issue\" + 0.035*\"engineering\" + '\n",
            "  '0.035*\"current\" + 0.035*\"tool\" + 0.035*\"uml\" + 0.035*\"generate\" + '\n",
            "  '0.035*\"software\" + 0.035*\"model\"'),\n",
            " (5,\n",
            "  '0.105*\"processing\" + 0.090*\"natural\" + 0.090*\"language\" + 0.045*\"text\" + '\n",
            "  '0.031*\"health\" + 0.031*\"mining\" + 0.016*\"mental\" + 0.016*\"symptom\" + '\n",
            "  '0.016*\"intervention\" + 0.016*\"novel\"'),\n",
            " (6,\n",
            "  '0.127*\"processing\" + 0.127*\"language\" + 0.117*\"natural\" + 0.032*\"base\" + '\n",
            "  '0.022*\"system\" + 0.022*\"platform\" + 0.022*\"art\" + 0.021*\"issue\" + '\n",
            "  '0.011*\"labeling\" + 0.011*\"third\"'),\n",
            " (7,\n",
            "  '0.158*\"language\" + 0.151*\"natural\" + 0.145*\"processing\" + 0.039*\"use\" + '\n",
            "  '0.020*\"nlp\" + 0.020*\"process\" + 0.016*\"extract\" + 0.014*\"review\" + '\n",
            "  '0.014*\"technique\" + 0.014*\"application\"'),\n",
            " (8,\n",
            "  '0.094*\"natural\" + 0.094*\"processing\" + 0.094*\"language\" + '\n",
            "  '0.064*\"recognition\" + 0.064*\"plan\" + 0.033*\"syntactic\" + 0.033*\"feature\" + '\n",
            "  '0.033*\"machine\" + 0.002*\"base\" + 0.002*\"review\"'),\n",
            " (9,\n",
            "  '0.004*\"natural\" + 0.004*\"opinion\" + 0.004*\"sentiment\" + 0.004*\"nlp\" + '\n",
            "  '0.004*\"review\" + 0.004*\"toolkit\" + 0.004*\"mining\" + 0.004*\"language\" + '\n",
            "  '0.004*\"processing\" + 0.004*\"analysis\"'),\n",
            " (10,\n",
            "  '0.049*\"infant\" + 0.049*\"pneumonia\" + 0.042*\"information\" + 0.042*\"report\" + '\n",
            "  '0.042*\"radiology\" + 0.029*\"extract\" + 0.008*\"use\" + 0.004*\"processing\" + '\n",
            "  '0.004*\"natural\" + 0.004*\"language\"'),\n",
            " (11,\n",
            "  '0.079*\"processing\" + 0.079*\"language\" + 0.079*\"natural\" + 0.040*\"learning\" '\n",
            "  '+ 0.021*\"context\" + 0.021*\"duplicate\" + 0.021*\"survey\" + 0.021*\"defect\" + '\n",
            "  '0.021*\"active\" + 0.021*\"machine\"'),\n",
            " (12,\n",
            "  '0.122*\"language\" + 0.116*\"processing\" + 0.116*\"natural\" + 0.032*\"system\" + '\n",
            "  '0.026*\"clinical\" + 0.020*\"use\" + 0.013*\"base\" + 0.013*\"challenge\" + '\n",
            "  '0.013*\"record\" + 0.013*\"evaluate\"'),\n",
            " (13,\n",
            "  '0.004*\"language\" + 0.004*\"processing\" + 0.004*\"natural\" + 0.004*\"extract\" + '\n",
            "  '0.004*\"base\" + 0.004*\"review\" + 0.004*\"clinical\" + 0.004*\"process\" + '\n",
            "  '0.004*\"system\" + 0.004*\"use\"')]\n"
          ],
          "name": "stdout"
        }
      ]
    },
    {
      "cell_type": "markdown",
      "metadata": {
        "id": "0I9CEmHnmBuz"
      },
      "source": [
        "**Topic Visualization**"
      ]
    },
    {
      "cell_type": "code",
      "metadata": {
        "id": "-mDkrDyolu7H",
        "colab": {
          "base_uri": "https://localhost:8080/",
          "height": 861
        },
        "outputId": "87484420-d154-4bf8-fb13-dc91cf05edda"
      },
      "source": [
        "pyLDAvis.enable_notebook()\n",
        "vis = pyLDAvis.gensim.prepare(lda_model, corpus, id2word)\n",
        "vis"
      ],
      "execution_count": null,
      "outputs": [
        {
          "output_type": "execute_result",
          "data": {
            "text/html": [
              "\n",
              "<link rel=\"stylesheet\" type=\"text/css\" href=\"https://cdn.rawgit.com/bmabey/pyLDAvis/files/ldavis.v1.0.0.css\">\n",
              "\n",
              "\n",
              "<div id=\"ldavis_el1881396275133463524865964773\"></div>\n",
              "<script type=\"text/javascript\">\n",
              "\n",
              "var ldavis_el1881396275133463524865964773_data = {\"mdsDat\": {\"x\": [-0.07935886676767047, -0.13987456588587346, -0.0727985554206557, -0.08394083030900838, -0.07749196420091088, -0.0418451496038148, -0.06861037350048116, -0.016922894133275617, 0.016257931411776075, 0.006908683796059526, 0.05766311303455707, 0.1818531375026773, 0.15898303978699235, 0.1591772942896283], \"y\": [-0.09424428330017766, 0.014646448438881075, -0.01733175055191753, -0.03154862831365805, 0.017788350382465817, 0.1245364662132494, 0.0003201032325934403, 0.06502698584927247, -0.0628030131090554, 0.0013499698296960782, -0.02059712613872242, 0.00512557639025853, -0.0010911632251197146, -0.0011779356977661053], \"topics\": [1, 2, 3, 4, 5, 6, 7, 8, 9, 10, 11, 12, 13, 14], \"cluster\": [1, 1, 1, 1, 1, 1, 1, 1, 1, 1, 1, 1, 1, 1], \"Freq\": [19.763980970918446, 19.030780491864874, 11.146665094065437, 11.072735086905762, 9.613659297675955, 7.495433140776991, 5.395463545703339, 5.290639530117016, 4.193555599565049, 2.587880510034569, 2.3615448105652326, 1.1377344379562713, 0.4565550008629964, 0.45337248298805966]}, \"tinfo\": {\"Term\": [\"natural\", \"language\", \"information\", \"processing\", \"retrieval\", \"extract\", \"text\", \"report\", \"clinical\", \"requirement\", \"learning\", \"toolkit\", \"issue\", \"tool\", \"radiology\", \"use\", \"software\", \"model\", \"plan\", \"recognition\", \"machine\", \"mining\", \"statistical\", \"system\", \"medical\", \"detection\", \"process\", \"base\", \"nlp\", \"health\", \"record\", \"datum\", \"evaluate\", \"paninian\", \"knowledge\", \"enforcement\", \"automation\", \"second\", \"voice\", \"thing\", \"iot\", \"internet\", \"decision\", \"support\", \"home\", \"develop\", \"project\", \"opportunity\", \"english\", \"policy\", \"suite\", \"patent\", \"encode\", \"intelligent\", \"robot\", \"coverage\", \"broad\", \"socially\", \"construction\", \"incremental\", \"clinical\", \"question\", \"design\", \"system\", \"challenge\", \"language\", \"processing\", \"natural\", \"persona\", \"answer\", \"perspective\", \"string\", \"umls\", \"transducer\", \"use\", \"review\", \"nlp\", \"base\", \"mining\", \"medical\", \"solution\", \"service\", \"state\", \"extract\", \"tool\", \"unstructured\", \"medicine\", \"technology\", \"convolutional\", \"future\", \"lyric\", \"event\", \"adverse\", \"handbook\", \"engineer\", \"business\", \"arabic\", \"phenotypic\", \"facilitate\", \"cancer\", \"pathology\", \"textual\", \"medium\", \"social\", \"requirement\", \"literature\", \"application\", \"systematic\", \"radiology\", \"process\", \"learn\", \"technique\", \"summary\", \"discharge\", \"extract\", \"nlp\", \"use\", \"language\", \"natural\", \"processing\", \"deep\", \"review\", \"report\", \"information\", \"base\", \"web\", \"detection\", \"learning\", \"model\", \"research\", \"solution\", \"standardize\", \"medline\", \"abstract\", \"news\", \"fake\", \"semantical\", \"representation\", \"advance\", \"ontological\", \"search\", \"year\", \"utilisation\", \"respiratory\", \"primary\", \"historical\", \"capture\", \"introduction\", \"statistic\", \"study\", \"feasibility\", \"survey\", \"active\", \"care\", \"engine\", \"method\", \"unstructured\", \"service\", \"text\", \"medical\", \"process\", \"natural\", \"language\", \"processing\", \"use\", \"system\", \"information\", \"detection\", \"platform\", \"art\", \"preference\", \"drug\", \"labeling\", \"meddra\", \"product\", \"transformer\", \"biomedical\", \"comparison\", \"party\", \"third\", \"embedding\", \"comprehensive\", \"word\", \"user\", \"metadata\", \"annotate\", \"annotation\", \"gene\", \"ontology\", \"automatically\", \"semantic\", \"apply\", \"acquire\", \"issue\", \"context\", \"method\", \"state\", \"base\", \"processing\", \"language\", \"natural\", \"system\", \"model\", \"medical\", \"extraction\", \"statistical\", \"structured\", \"ehr\", \"convolution\", \"test\", \"significance\", \"query\", \"assist\", \"computer\", \"formulation\", \"overview\", \"biomedicine\", \"compute\", \"foundation\", \"device\", \"topic\", \"give\", \"efficient\", \"cluster\", \"graph\", \"chinese\", \"whisper\", \"problem\", \"sentiment\", \"unified\", \"architecture\", \"engine\", \"learn\", \"technique\", \"extract\", \"language\", \"natural\", \"processing\", \"review\", \"nlp\", \"system\", \"base\", \"classification\", \"claim\", \"ideation\", \"intervention\", \"mental\", \"novel\", \"predict\", \"psychiatric\", \"suicidal\", \"symptom\", \"case\", \"neural\", \"enhance\", \"teaching\", \"multitask\", \"health\", \"text\", \"mining\", \"unified\", \"architecture\", \"care\", \"network\", \"toolkit\", \"learning\", \"learn\", \"deep\", \"base\", \"processing\", \"use\", \"natural\", \"language\", \"retrieval\", \"linguistic\", \"pipeline\", \"efficiently\", \"customize\", \"build\", \"information\", \"toolkit\", \"clinical\", \"processing\", \"natural\", \"language\", \"infant\", \"pneumonia\", \"uml\", \"current\", \"engineering\", \"generate\", \"syntactic\", \"feature\", \"evaluation\", \"exist\", \"integrate\", \"automatic\", \"plagiarism\", \"performance\", \"analysis\", \"trend\", \"recent\", \"duplicate\", \"home\", \"record\", \"assist\", \"semantic\", \"challenge\", \"voice\", \"thing\", \"system\", \"iot\", \"internet\", \"chinese\", \"cluster\", \"automation\", \"second\", \"suite\", \"project\", \"develop\", \"whisper\", \"duplicate\", \"defect\", \"trend\", \"recent\", \"analysis\", \"learning\", \"sentiment\", \"context\", \"active\", \"survey\", \"opinion\", \"report\", \"machine\", \"literature\", \"toolkit\", \"detection\", \"mining\", \"deep\", \"review\", \"nlp\", \"base\", \"use\", \"pneumonia\", \"infant\", \"engineering\", \"generate\", \"uml\", \"current\", \"syntactic\", \"feature\", \"processing\", \"natural\", \"language\", \"electronic\", \"automation\", \"radiology\", \"evaluate\", \"string\", \"evaluation\", \"plagiarism\", \"performance\", \"automatic\", \"integrate\", \"exist\", \"problem\", \"discharge\", \"summary\", \"document\", \"tool\", \"extraction\", \"electronic\", \"detection\", \"medical\", \"extract\", \"clinical\", \"use\", \"infant\", \"pneumonia\", \"generate\", \"uml\", \"engineering\", \"current\", \"syntactic\", \"feature\", \"build\", \"pipeline\", \"customize\", \"efficiently\", \"linguistic\", \"processing\", \"natural\", \"language\", \"give\", \"topic\", \"sentiment\", \"technique\", \"text\", \"iot\", \"internet\", \"thing\", \"system\", \"recognition\", \"plan\", \"syntactic\", \"feature\", \"machine\", \"infant\", \"pneumonia\", \"uml\", \"generate\", \"engineering\", \"current\", \"exist\", \"automatic\", \"evaluation\", \"integrate\", \"plagiarism\", \"performance\", \"pipeline\", \"linguistic\", \"efficiently\", \"build\", \"customize\", \"analysis\", \"trend\", \"recent\", \"duplicate\", \"defect\", \"enhance\", \"predict\", \"ideation\", \"processing\", \"natural\", \"novel\", \"language\", \"topic\", \"information\", \"record\", \"challenge\", \"voice\", \"thing\", \"system\", \"iot\", \"internet\", \"home\", \"automation\", \"tool\", \"suite\", \"project\", \"handbook\", \"sentiment\", \"develop\", \"whisper\", \"problem\", \"graph\", \"efficient\", \"cluster\", \"engineering\", \"uml\", \"generate\", \"current\", \"tool\", \"issue\", \"model\", \"software\", \"requirement\", \"infant\", \"pneumonia\", \"syntactic\", \"feature\", \"automatic\", \"plagiarism\", \"evaluation\", \"performance\", \"exist\", \"integrate\", \"pipeline\", \"linguistic\", \"customize\", \"efficiently\", \"build\", \"analysis\", \"trend\", \"recent\", \"duplicate\", \"defect\", \"predict\", \"natural\", \"language\", \"processing\", \"base\", \"clinical\", \"web\", \"system\", \"information\", \"review\", \"retrieval\", \"deep\", \"use\", \"evaluate\", \"perspective\", \"iot\", \"internet\", \"home\", \"automation\", \"radiology\", \"suite\", \"project\", \"infant\", \"pneumonia\", \"radiology\", \"report\", \"information\", \"extract\", \"uml\", \"generate\", \"engineering\", \"current\", \"syntactic\", \"feature\", \"performance\", \"evaluation\", \"plagiarism\", \"automatic\", \"integrate\", \"exist\", \"build\", \"customize\", \"efficiently\", \"pipeline\", \"linguistic\", \"analysis\", \"trend\", \"recent\", \"defect\", \"duplicate\", \"mental\", \"ideation\", \"use\", \"processing\", \"natural\", \"language\", \"base\", \"web\", \"clinical\", \"system\", \"review\", \"retrieval\", \"text\", \"result\", \"project\", \"voice\", \"thing\", \"umls\", \"iot\", \"internet\", \"home\", \"automation\", \"tool\", \"suite\", \"develop\", \"record\", \"pneumonia\", \"infant\", \"current\", \"engineering\", \"uml\", \"generate\", \"syntactic\", \"feature\", \"performance\", \"evaluation\", \"exist\", \"integrate\", \"automatic\", \"plagiarism\", \"build\", \"linguistic\", \"efficiently\", \"pipeline\", \"customize\", \"analysis\", \"recent\", \"trend\", \"defect\", \"duplicate\", \"classification\", \"neural\", \"case\", \"teaching\", \"symptom\", \"suicidal\", \"sentiment\", \"opinion\", \"predict\", \"ideation\", \"intervention\", \"mental\", \"enhance\", \"natural\", \"nlp\", \"review\", \"toolkit\", \"mining\", \"language\", \"processing\", \"web\", \"information\", \"system\", \"base\", \"use\", \"graph\", \"efficient\", \"handbook\", \"second\", \"record\", \"challenge\", \"retrieval\", \"voice\", \"thing\", \"chinese\", \"iot\", \"internet\", \"home\", \"automation\", \"tool\", \"pneumonia\", \"infant\", \"current\", \"engineering\", \"uml\", \"generate\", \"syntactic\", \"feature\", \"performance\", \"evaluation\", \"exist\", \"integrate\", \"automatic\", \"plagiarism\", \"build\", \"linguistic\", \"efficiently\", \"pipeline\", \"customize\", \"analysis\", \"recent\", \"trend\", \"defect\", \"duplicate\", \"classification\", \"neural\", \"case\", \"teaching\", \"symptom\", \"suicidal\", \"language\", \"natural\", \"processing\", \"tool\", \"handbook\", \"second\", \"record\", \"challenge\", \"voice\", \"thing\", \"system\", \"iot\", \"internet\", \"home\", \"automation\", \"suite\", \"project\", \"develop\", \"whisper\", \"problem\", \"graph\", \"efficient\", \"cluster\", \"chinese\", \"retrieval\", \"information\", \"topic\"], \"Freq\": [78.0, 81.0, 5.0, 76.0, 3.0, 5.0, 4.0, 2.0, 6.0, 2.0, 3.0, 3.0, 2.0, 2.0, 1.0, 13.0, 2.0, 2.0, 1.0, 1.0, 2.0, 3.0, 2.0, 8.0, 4.0, 3.0, 4.0, 7.0, 6.0, 2.0, 1.7870889327723365, 1.7870886809694808, 1.7870886809694808, 0.9243563228302727, 0.9243563228302727, 0.9243563228302727, 0.9243563228302727, 0.9243563228302727, 0.9243563228302727, 0.9243563228302727, 0.9243563228302727, 0.9243563228302727, 0.9243563228302727, 0.9243563228302727, 0.9243563228302727, 0.9243563228302727, 0.9243563228302727, 0.9243563228302727, 0.9243563228302727, 0.9243563228302727, 0.9243563228302727, 0.9243563228302727, 0.9243563228302727, 0.9243563228302727, 0.9243563228302727, 0.9243563228302727, 0.9243563228302727, 0.9243563228302727, 0.9243563228302727, 0.9243563228302727, 3.5125551598678872, 0.9243563228302727, 0.9243563228302727, 4.375288147514235, 1.7870889327723365, 16.491717244226578, 15.628987278214499, 15.628985263791654, 0.9243563228302727, 0.9243563228302727, 0.9243563228302727, 0.9243563228302727, 0.9243563228302727, 0.9243563228302727, 2.6498204096015496, 1.7870886809694808, 1.7870885550680529, 1.7870893104766201, 0.9319921185295269, 0.9243565116824145, 0.9243562598795588, 0.9243563228302727, 0.9243563228302727, 0.924356008076703, 0.9243563228302727, 0.9243563228302727, 0.9160981209267147, 0.9160981209267147, 0.9160981209267147, 0.9160981209267147, 0.9160981209267147, 0.9160981209267147, 0.9160981209267147, 0.9160981209267147, 0.9160981209267147, 0.9160981209267147, 0.9160981209267147, 0.9160981209267147, 0.9160981209267147, 0.9160981209267147, 0.9160981209267147, 0.9160981209267147, 0.9160981209267147, 0.9160981209267147, 1.7711229731762683, 1.7711229731762683, 1.7711235793300693, 1.7711232156377887, 1.0571950264065635, 2.6261487346565233, 1.7635561128173747, 1.77112406425311, 0.9160981209267147, 0.9160981209267147, 2.1424363042604666, 2.6261494620410843, 5.095977677891289, 20.557939892435737, 19.702446422682662, 18.846892822472533, 1.7635567189711756, 1.771124670406911, 1.0571951476373236, 1.057195390098844, 0.9236661935932102, 0.9160999393881175, 0.9160984846189952, 0.9160984240036152, 0.9160984240036152, 0.9160987270805157, 0.9160981209267147, 0.864098133988728, 0.864098133988728, 0.864098133988728, 0.864098133988728, 0.864098133988728, 0.864098133988728, 0.864098133988728, 0.864098133988728, 0.864098133988728, 0.864098133988728, 0.864098133988728, 0.864098133988728, 0.864098133988728, 0.864098133988728, 0.864098133988728, 0.864098133988728, 0.864098133988728, 0.861046608045012, 0.860988595323755, 0.8608076694807163, 0.864098133988728, 0.8604808952540035, 0.864098133988728, 0.864098133988728, 0.864098133988728, 0.864098133988728, 0.8640980629817252, 1.67058970677634, 1.6705895647623346, 1.6705889967063126, 8.936278446303469, 8.936226753205458, 7.322089317793328, 2.47394759851804, 1.6705894227483291, 0.8712358289134117, 0.8640978499607169, 1.657690150992042, 1.657690150992042, 0.8611051613642738, 0.8611051613642738, 0.8611051613642738, 0.8611051613642738, 0.8611051613642738, 0.8611051613642738, 0.8611051613642738, 0.8611051613642738, 0.8611051613642738, 0.8611051613642738, 0.8611051613642738, 0.8611051613642738, 0.8611051613642738, 0.8611051613642738, 0.8611051613642738, 0.8611051613642738, 0.8611051613642738, 0.8611051613642738, 0.8611051613642738, 0.8611051613642738, 0.8611051613642738, 0.8611051613642738, 0.8611051613642738, 1.6039112090109513, 0.8611051613642738, 0.8611051613642738, 0.8611049497561227, 2.4613876432622273, 9.644406585988431, 9.643455195740593, 8.84037404747883, 1.6648028652426103, 0.8611049497561227, 0.8611050202921731, 0.8611050202921731, 2.403144749549404, 0.8407288659354502, 0.8407288659354502, 0.8407288659354502, 0.8407288659354502, 0.8407288659354502, 0.8407288659354502, 0.8407288659354502, 0.8407288659354502, 0.8407288659354502, 0.8407288659354502, 0.8407288659354502, 0.8407288659354502, 0.8407288659354502, 0.8407288659354502, 0.8389786485888648, 0.8387516880413843, 0.8384227605992587, 0.8383286326010188, 0.838041900468449, 0.8374280781350985, 0.8373069426890875, 0.837948936056394, 0.8388405492811022, 0.8407288659354502, 0.8407288659354502, 0.8407288659354502, 0.8407283147630467, 0.8391517167235599, 0.839118033965569, 8.754233559901902, 7.966841402486417, 7.18333831754994, 0.8407282535216685, 0.8407281310389122, 0.8407284372458029, 0.8407284372458029, 0.8143240310449591, 0.8143240310449591, 0.8143240310449591, 0.8143240310449591, 0.8143240310449591, 0.8143240310449591, 0.8143240310449591, 0.8143240310449591, 0.8143240310449591, 0.8143240310449591, 0.8143240310449591, 0.8143240310449591, 0.8143240310449591, 0.8143240310449591, 0.8143240310449591, 1.5743599143145686, 2.32766890277075, 1.5676329240056288, 0.8143240310449591, 0.8143240310449591, 0.8143240310449591, 0.8143239355494477, 0.8143240310449591, 0.8143238400539363, 0.8143237445584249, 0.8143237445584249, 0.8143238400539363, 5.367808425037709, 0.8143230760898451, 4.607772255281565, 4.60777187329952, 2.802803970367403, 0.7408007694100429, 0.7408007694100429, 0.7408007694100429, 0.7408007694100429, 0.7408007694100429, 2.802803970367403, 1.426095490811213, 0.7408006319283148, 4.870922083626771, 4.870922083626771, 4.870921533699859, 0.0493867234026546, 0.0493867234026546, 0.0493867234026546, 0.0493867234026546, 0.0493867234026546, 0.0493867234026546, 0.0493867234026546, 0.0493867234026546, 0.0493867234026546, 0.0493867234026546, 0.0493867234026546, 0.0493867234026546, 0.0493867234026546, 0.0493867234026546, 0.0493867234026546, 0.0493867234026546, 0.0493867234026546, 0.0493867234026546, 0.0493867234026546, 0.0493867234026546, 0.0493867234026546, 0.0493867234026546, 0.0493867234026546, 0.0493867234026546, 0.0493867234026546, 0.0493867276989586, 0.0493867234026546, 0.0493867234026546, 0.0493867234026546, 0.0493867234026546, 0.0493867234026546, 0.0493867234026546, 0.0493867234026546, 0.0493867234026546, 0.0493867234026546, 0.0493867234026546, 0.7529566345496715, 0.7529566345496715, 0.7529565671443171, 0.7529565671443171, 0.7526904508049983, 1.455715962406992, 0.7524716530244946, 0.7529566345496715, 0.7529566345496715, 0.7529566345496715, 0.7524713834030768, 0.7529564323336082, 0.7529565671443171, 0.7529564323336082, 0.7525437767537426, 0.7529564323336082, 0.752544922644768, 0.7529563649282538, 0.7525190389886641, 0.7524898524701927, 0.7529564323336082, 0.7529556908747095, 0.050197112901957115, 0.050197112901957115, 0.050197112901957115, 0.050197112901957115, 0.050197112901957115, 0.050197112901957115, 0.050197112901957115, 0.050197112901957115, 2.8609248231126387, 2.8607255728849217, 2.8608787178502033, 0.050197112901957115, 0.050197112901957115, 0.050197112901957115, 0.050197112901957115, 0.050197112901957115, 0.7061762147994181, 0.7061762147994181, 0.7061762147994181, 0.7061762147994181, 0.7061762147994181, 0.7061762147994181, 0.7061762147994181, 0.7061761613714534, 0.7061761613714534, 0.7061762147994181, 0.7061761613714534, 0.7061761613714534, 0.7061762147994181, 0.7061761613714534, 0.7061762147994181, 0.70752863686741, 0.7061760545155242, 0.7077603539498926, 0.047078418327058544, 0.047078418327058544, 0.047078418327058544, 0.047078418327058544, 0.047078418327058544, 0.047078418327058544, 0.047078418327058544, 0.047078418327058544, 0.047078418327058544, 0.047078418327058544, 0.047078418327058544, 0.047078418327058544, 0.047078418327058544, 2.025953582707178, 2.026022825349303, 2.0253259109790234, 0.048739119750808954, 0.048548468737619255, 0.04866444749178089, 0.04840282410611189, 0.047078418327058544, 0.047078418327058544, 0.047078418327058544, 0.047078418327058544, 0.04707842166630633, 1.1269760846153256, 1.1269760846153256, 0.5822098270724837, 0.5820154308064077, 0.5809954438852194, 0.039028005429225646, 0.039028005429225646, 0.039028005429225646, 0.039028005429225646, 0.039028005429225646, 0.039028005429225646, 0.039028005429225646, 0.039028005429225646, 0.039028005429225646, 0.039028005429225646, 0.039028005429225646, 0.039028005429225646, 0.039028005429225646, 0.039028005429225646, 0.039028005429225646, 0.039028005429225646, 0.039028005429225646, 0.039028005429225646, 0.039028005429225646, 0.039028005429225646, 0.039028005429225646, 0.039028005429225646, 0.039028005429225646, 0.039028005429225646, 0.039028005429225646, 1.6663996100448681, 1.6665726411853645, 0.039028005429225646, 1.6657144753079178, 0.039028005429225646, 0.03902800955058475, 0.039028005429225646, 0.039028005429225646, 0.039028005429225646, 0.039028005429225646, 0.03902800955058475, 0.039028005429225646, 0.039028005429225646, 0.039028005429225646, 0.039028005429225646, 0.039028005429225646, 0.039028005429225646, 0.039028005429225646, 0.039028005429225646, 0.039028005429225646, 0.039028005429225646, 0.039028005429225646, 0.039028005429225646, 0.039028005429225646, 0.039028005429225646, 0.039028005429225646, 0.5674346595798467, 0.5674346595798467, 0.5674346595798467, 0.5674346595798467, 0.5674346595798467, 0.5674346595798467, 0.5674345994053578, 0.5674345994053578, 0.5674345392308688, 0.037828982069136825, 0.037828982069136825, 0.037828982069136825, 0.037828982069136825, 0.037828982069136825, 0.037828982069136825, 0.037828982069136825, 0.037828982069136825, 0.037828982069136825, 0.037828982069136825, 0.037828982069136825, 0.037828982069136825, 0.037828982069136825, 0.037828982069136825, 0.037828982069136825, 0.037828982069136825, 0.037828982069136825, 0.037828982069136825, 0.037828982069136825, 0.037828982069136825, 0.037828982069136825, 1.0970387010966383, 1.0970385807476604, 0.5674326738217114, 0.037828985830042385, 0.037828985830042385, 0.037828985830042385, 0.037828985830042385, 0.037828985830042385, 0.037828985830042385, 0.037828985830042385, 0.037828985830042385, 0.037828985830042385, 0.037828982069136825, 0.037828982069136825, 0.037828982069136825, 0.037828982069136825, 0.037828982069136825, 0.037828982069136825, 0.037828982069136825, 0.037828982069136825, 0.037828982069136825, 0.38352060640557034, 0.38352060640557034, 0.32445099420646717, 0.32445099420646717, 0.32445099420646717, 0.22807237107289938, 0.025568044775627224, 0.025568044775627224, 0.025568044775627224, 0.025568044775627224, 0.025568044775627224, 0.025568044775627224, 0.025568044775627224, 0.025568044775627224, 0.025568044775627224, 0.025568044775627224, 0.025568044775627224, 0.025568044775627224, 0.025568044775627224, 0.025568044775627224, 0.025568044775627224, 0.025568044775627224, 0.025568044775627224, 0.025568044775627224, 0.025568044775627224, 0.025568044775627224, 0.025568044775627224, 0.025568044775627224, 0.025568044775627224, 0.025568044775627224, 0.06544499185123788, 0.03276389087096431, 0.03254404794403422, 0.03234720180631552, 0.025568048399451555, 0.025568048399451555, 0.025568048399451555, 0.025568048399451555, 0.025568048399451555, 0.025568048399451555, 0.025568048399451555, 0.025568044775627224, 0.025568044775627224, 0.025568044775627224, 0.025568044775627224, 0.025568044775627224, 0.025568044775627224, 0.025568044775627224, 0.025568044775627224, 0.025568044775627224, 0.025568044775627224, 0.025568044775627224, 0.025568044775627224, 0.025568044775627224, 0.013513953627292062, 0.013513953627292062, 0.013513953627292062, 0.013513953627292062, 0.013513953627292062, 0.013513953627292062, 0.013513953627292062, 0.013513953627292062, 0.013513953627292062, 0.013513953627292062, 0.013513953627292062, 0.013513953627292062, 0.013513953627292062, 0.013513953627292062, 0.013513953627292062, 0.013513953627292062, 0.013513953627292062, 0.013513953627292062, 0.013513953627292062, 0.01358559545212828, 0.013513953627292062, 0.013513953627292062, 0.013513953627292062, 0.013513953627292062, 0.013513953627292062, 0.013513953627292062, 0.013513953627292062, 0.013513953627292062, 0.013513953627292062, 0.013513953627292062, 0.01364451316769407, 0.013644574243418568, 0.013513953627292062, 0.013513953627292062, 0.013513953627292062, 0.013513953627292062, 0.013513953627292062, 0.013650388070717214, 0.013639515137572646, 0.013631669815342478, 0.01362511580843027, 0.013624768258474198, 0.013609164865048862, 0.013596842110539421, 0.013513955081475978, 0.013513955081475978, 0.013513955081475978, 0.013513955081475978, 0.013513955081475978, 0.013513953627292062, 0.013513953627292062, 0.013513953627292062, 0.013513953627292062, 0.013513953627292062, 0.013513953627292062, 0.013513953627292062, 0.013513953627292062, 0.013513953627292062, 0.013513953627292062, 0.013513953627292062, 0.013513953627292062, 0.013513953627292062, 0.013513953627292062, 0.013513953627292062, 0.013424535745194158, 0.013424535745194158, 0.013424535745194158, 0.013424535745194158, 0.013424535745194158, 0.013424535745194158, 0.013424535745194158, 0.013424535745194158, 0.013424535745194158, 0.013424535745194158, 0.013424535745194158, 0.013424535745194158, 0.013424535745194158, 0.013424535745194158, 0.013424535745194158, 0.013424535745194158, 0.013424535745194158, 0.013424535745194158, 0.013424535745194158, 0.013424535745194158, 0.013424535745194158, 0.013424535745194158, 0.013424535745194158, 0.013424535745194158, 0.013424535745194158, 0.013424535745194158, 0.013424535745194158, 0.013424535745194158, 0.013424535745194158, 0.013424535745194158, 0.013424547297571799, 0.013424545853524594, 0.013424545853524594, 0.013424535745194158, 0.013424535745194158, 0.013424535745194158, 0.013424535745194158, 0.013424535745194158, 0.013424535745194158, 0.013424535745194158, 0.013424537189241364, 0.013424535745194158, 0.013424535745194158, 0.013424535745194158, 0.013424535745194158, 0.013424535745194158, 0.013424535745194158, 0.013424535745194158, 0.013424535745194158, 0.013424535745194158, 0.013424535745194158, 0.013424535745194158, 0.013424535745194158, 0.013424535745194158, 0.013424535745194158, 0.013424537189241364, 0.013424535745194158], \"Total\": [78.0, 81.0, 5.0, 76.0, 3.0, 5.0, 4.0, 2.0, 6.0, 2.0, 3.0, 3.0, 2.0, 2.0, 1.0, 13.0, 2.0, 2.0, 1.0, 1.0, 2.0, 3.0, 2.0, 8.0, 4.0, 3.0, 4.0, 7.0, 6.0, 2.0, 2.3495383495286495, 2.3495380977257936, 2.3495380977257936, 1.486805739586586, 1.486805739586586, 1.486805739586586, 1.486805739586586, 1.486805739586586, 1.486805739586586, 1.486805739586586, 1.486805739586586, 1.486805739586586, 1.486805739586586, 1.486805739586586, 1.486805739586586, 1.486805739586586, 1.486805739586586, 1.486805739586586, 1.486805739586586, 1.486805739586586, 1.486805739586586, 1.486805739586586, 1.486805739586586, 1.486805739586586, 1.486805739586586, 1.486805739586586, 1.486805739586586, 1.486805739586586, 1.486805739586586, 1.486805739586586, 6.232007316455621, 1.486805739586586, 1.486805739586586, 8.942796170002213, 3.204563137374362, 81.5706046513634, 76.04494079920464, 78.26359864403585, 1.486805739586586, 1.486805739586586, 1.486805739586586, 1.486805739586586, 1.486805739586586, 1.486805739586586, 13.612781321910306, 6.353199977762916, 6.401712058732343, 7.8635870947067055, 3.710244810552253, 4.562584749851173, 2.3418305857123443, 2.293297260649477, 2.2905036771155887, 5.214192502090187, 2.6755091601416905, 2.2932973256880107, 1.47909808593403, 1.47909808593403, 1.47909808593403, 1.47909808593403, 1.47909808593403, 1.47909808593403, 1.47909808593403, 1.47909808593403, 1.47909808593403, 1.47909808593403, 1.47909808593403, 1.47909808593403, 1.47909808593403, 1.47909808593403, 1.47909808593403, 1.47909808593403, 1.47909808593403, 1.47909808593403, 2.863728495345315, 3.0368822576152343, 3.1378210586500854, 3.140614340704512, 1.9190779408447185, 4.802131158743902, 3.878907009250038, 3.9812834266339188, 2.1381958289784246, 2.1381958289784246, 5.214192502090187, 6.401712058732343, 13.612781321910306, 81.5706046513634, 78.26359864403585, 76.04494079920464, 4.600684677135412, 6.353199977762916, 2.6218373815071296, 5.493238103560185, 7.8635870947067055, 3.1455287630139357, 3.6474468141757703, 3.644652805456693, 2.812401943876154, 3.148322226024126, 2.3418305857123443, 1.4305647629589826, 1.4305647629589826, 1.4305647629589826, 1.4305647629589826, 1.4305647629589826, 1.4305647629589826, 1.4305647629589826, 1.4305647629589826, 1.4305647629589826, 1.4305647629589826, 1.4305647629589826, 1.4305647629589826, 1.4305647629589826, 1.4305647629589826, 1.4305647629589826, 1.4305647629589826, 1.4305647629589826, 1.4305542489392977, 1.4305539347072707, 1.430553391587629, 2.133324284606697, 2.1333116716982476, 2.190600520890733, 2.215245033494138, 2.2342629120961366, 2.2932973256880107, 2.293297260649477, 4.518072706072806, 4.562584749851173, 4.802131158743902, 78.26359864403585, 81.5706046513634, 76.04494079920464, 13.612781321910306, 8.942796170002213, 5.493238103560185, 3.6474468141757703, 2.2319238313851706, 2.23199204837102, 1.427771325994712, 1.427771325994712, 1.427771325994712, 1.427771325994712, 1.427771325994712, 1.427771325994712, 1.427771325994712, 1.427771325994712, 1.427771325994712, 1.427771325994712, 1.427771325994712, 1.427771325994712, 1.427771325994712, 1.427771325994712, 1.427771325994712, 1.427771325994712, 1.427771325994712, 1.427771325994712, 1.427771325994712, 1.427771325994712, 1.427771325994712, 1.427771325994712, 1.427771325994712, 2.7596341026956717, 2.1305308476424263, 2.2342629120961366, 2.2905036771155887, 7.8635870947067055, 76.04494079920464, 81.5706046513634, 78.26359864403585, 8.942796170002213, 2.812401943876154, 4.562584749851173, 2.949601490696034, 2.978736839192435, 1.4087534473927132, 1.4087534473927132, 1.4087534473927132, 1.4087534473927132, 1.4087534473927132, 1.4087534473927132, 1.4087534473927132, 1.4087534473927132, 1.4087534473927132, 1.4087534473927132, 1.4087534473927132, 1.4087534473927132, 1.4087534473927132, 1.4087534473927132, 1.4084732804566886, 1.4084369709223978, 1.4088175913122336, 1.4088201659758808, 1.408828112904775, 1.4088451700392182, 1.4088485276208005, 2.0679285425804856, 2.1108562595660265, 2.168789205324464, 2.168789205324464, 2.215245033494138, 3.878907009250038, 3.9812834266339188, 5.214192502090187, 81.5706046513634, 78.26359864403585, 76.04494079920464, 6.353199977762916, 6.401712058732343, 8.942796170002213, 7.8635870947067055, 1.3841089347893083, 1.3841089347893083, 1.3841089347893083, 1.3841089347893083, 1.3841089347893083, 1.3841089347893083, 1.3841089347893083, 1.3841089347893083, 1.3841089347893083, 1.3841089347893083, 1.3841089347893083, 1.3841089347893083, 1.3841089347893083, 1.3841089347893083, 1.3841089347893083, 2.950627258548364, 4.518072706072806, 3.710244810552253, 2.168789205324464, 2.168789205324464, 2.190600520890733, 2.2391337483702687, 3.470388767093233, 3.644652805456693, 3.878907009250038, 4.600684677135412, 7.8635870947067055, 76.04494079920464, 13.612781321910306, 78.26359864403585, 81.5706046513634, 3.391741649302567, 1.3154872228649457, 1.3154872228649457, 1.3154872228649457, 1.3154872228649457, 1.3154872228649457, 5.493238103560185, 3.470388767093233, 6.232007316455621, 76.04494079920464, 78.26359864403585, 81.5706046513634, 0.9820258331990321, 0.9820258331990321, 1.1536788543682674, 1.1536788543682674, 1.1536788543682674, 1.1536788543682674, 1.171865218828408, 1.1719500487984904, 1.283170973329917, 1.283170973329917, 1.283170973329917, 1.283170973329917, 1.283170973329917, 1.283170973329917, 1.3266381565854346, 1.3268326310999174, 1.3268326310999174, 1.3268326985052719, 1.486805739586586, 2.3495383495286495, 1.4087534473927132, 1.427771325994712, 3.204563137374362, 1.486805739586586, 1.486805739586586, 8.942796170002213, 1.486805739586586, 1.486805739586586, 1.4088451700392182, 1.4088201659758808, 1.486805739586586, 1.486805739586586, 1.486805739586586, 1.486805739586586, 1.486805739586586, 1.4088485276208005, 1.3268326985052719, 1.3268326985052719, 1.3268326310999174, 1.3268326310999174, 1.3266381565854346, 3.644652805456693, 2.1108562595660265, 2.1305308476424263, 2.1333116716982476, 2.133324284606697, 2.189210630703832, 2.6218373815071296, 2.730179351532129, 3.0368822576152343, 3.470388767093233, 3.6474468141757703, 3.710244810552253, 4.600684677135412, 6.353199977762916, 6.401712058732343, 7.8635870947067055, 13.612781321910306, 0.9820258331990321, 0.9820258331990321, 1.1536788543682674, 1.1536788543682674, 1.1536788543682674, 1.1536788543682674, 1.171865218828408, 1.1719500487984904, 76.04494079920464, 78.26359864403585, 81.5706046513634, 2.9523824958855966, 1.486805739586586, 1.9190779408447185, 2.3495380977257936, 1.486805739586586, 1.283170973329917, 1.283170973329917, 1.283170973329917, 1.283170973329917, 1.283170973329917, 1.283170973329917, 2.0679285425804856, 2.1381958289784246, 2.1381958289784246, 2.145903536058945, 2.6755091601416905, 2.949601490696034, 2.9523824958855966, 3.6474468141757703, 4.562584749851173, 5.214192502090187, 6.232007316455621, 13.612781321910306, 0.9820258331990321, 0.9820258331990321, 1.1536788543682674, 1.1536788543682674, 1.1536788543682674, 1.1536788543682674, 1.171865218828408, 1.1719500487984904, 1.3154872228649457, 1.3154872228649457, 1.3154872228649457, 1.3154872228649457, 1.3154872228649457, 76.04494079920464, 78.26359864403585, 81.5706046513634, 1.4084369709223978, 1.4084732804566886, 2.1108562595660265, 3.9812834266339188, 4.518072706072806, 1.486805739586586, 1.486805739586586, 1.486805739586586, 8.942796170002213, 1.7196569887921977, 1.7196569887921977, 1.171865218828408, 1.1719500487984904, 2.730179351532129, 0.9820258331990321, 0.9820258331990321, 1.1536788543682674, 1.1536788543682674, 1.1536788543682674, 1.1536788543682674, 1.283170973329917, 1.283170973329917, 1.283170973329917, 1.283170973329917, 1.283170973329917, 1.283170973329917, 1.3154872228649457, 1.3154872228649457, 1.3154872228649457, 1.3154872228649457, 1.3154872228649457, 1.3266381565854346, 1.3268326310999174, 1.3268326310999174, 1.3268326985052719, 1.3268326985052719, 1.3841089347893083, 1.3841089347893083, 1.3841089347893083, 76.04494079920464, 78.26359864403585, 1.3841089347893083, 81.5706046513634, 1.4084732804566886, 5.493238103560185, 2.3495383495286495, 3.204563137374362, 1.486805739586586, 1.486805739586586, 8.942796170002213, 1.486805739586586, 1.486805739586586, 1.486805739586586, 1.486805739586586, 2.6755091601416905, 1.486805739586586, 1.486805739586586, 1.47909808593403, 2.1108562595660265, 1.486805739586586, 1.4088485276208005, 2.0679285425804856, 1.408828112904775, 1.4088175913122336, 1.4088201659758808, 1.1536788543682674, 1.1536788543682674, 1.1536788543682674, 1.1536788543682674, 2.6755091601416905, 2.7596341026956717, 2.812401943876154, 2.8151952183646727, 2.863728495345315, 0.9820258331990321, 0.9820258331990321, 1.171865218828408, 1.1719500487984904, 1.283170973329917, 1.283170973329917, 1.283170973329917, 1.283170973329917, 1.283170973329917, 1.283170973329917, 1.3154872228649457, 1.3154872228649457, 1.3154872228649457, 1.3154872228649457, 1.3154872228649457, 1.3266381565854346, 1.3268326310999174, 1.3268326310999174, 1.3268326985052719, 1.3268326985052719, 1.3841089347893083, 78.26359864403585, 81.5706046513634, 76.04494079920464, 7.8635870947067055, 6.232007316455621, 3.1455287630139357, 8.942796170002213, 5.493238103560185, 6.353199977762916, 3.391741649302567, 4.600684677135412, 13.612781321910306, 2.3495380977257936, 1.486805739586586, 1.486805739586586, 1.486805739586586, 1.486805739586586, 1.486805739586586, 1.9190779408447185, 1.486805739586586, 1.486805739586586, 0.9820258331990321, 0.9820258331990321, 1.9190779408447185, 2.6218373815071296, 5.493238103560185, 5.214192502090187, 1.1536788543682674, 1.1536788543682674, 1.1536788543682674, 1.1536788543682674, 1.171865218828408, 1.1719500487984904, 1.283170973329917, 1.283170973329917, 1.283170973329917, 1.283170973329917, 1.283170973329917, 1.283170973329917, 1.3154872228649457, 1.3154872228649457, 1.3154872228649457, 1.3154872228649457, 1.3154872228649457, 1.3266381565854346, 1.3268326310999174, 1.3268326310999174, 1.3268326985052719, 1.3268326985052719, 1.3841089347893083, 1.3841089347893083, 13.612781321910306, 76.04494079920464, 78.26359864403585, 81.5706046513634, 7.8635870947067055, 3.1455287630139357, 6.232007316455621, 8.942796170002213, 6.353199977762916, 3.391741649302567, 4.518072706072806, 1.486805676635872, 1.486805739586586, 1.486805739586586, 1.486805739586586, 1.486805739586586, 1.486805739586586, 1.486805739586586, 1.486805739586586, 1.486805739586586, 2.6755091601416905, 1.486805739586586, 1.486805739586586, 2.3495383495286495, 0.9820258331990321, 0.9820258331990321, 1.1536788543682674, 1.1536788543682674, 1.1536788543682674, 1.1536788543682674, 1.171865218828408, 1.1719500487984904, 1.283170973329917, 1.283170973329917, 1.283170973329917, 1.283170973329917, 1.283170973329917, 1.283170973329917, 1.3154872228649457, 1.3154872228649457, 1.3154872228649457, 1.3154872228649457, 1.3154872228649457, 1.3266381565854346, 1.3268326310999174, 1.3268326310999174, 1.3268326985052719, 1.3268326985052719, 1.3841089347893083, 1.3841089347893083, 1.3841089347893083, 1.3841089347893083, 1.3841089347893083, 1.3841089347893083, 2.1108562595660265, 2.189210630703832, 1.3841089347893083, 1.3841089347893083, 1.3841089347893083, 1.3841089347893083, 1.3841089347893083, 78.26359864403585, 6.401712058732343, 6.353199977762916, 3.470388767093233, 3.710244810552253, 81.5706046513634, 76.04494079920464, 3.1455287630139357, 5.493238103560185, 8.942796170002213, 7.8635870947067055, 13.612781321910306, 1.408828112904775, 1.4088175913122336, 1.47909808593403, 1.486805739586586, 2.3495383495286495, 3.204563137374362, 3.391741649302567, 1.486805739586586, 1.486805739586586, 1.4088451700392182, 1.486805739586586, 1.486805739586586, 1.486805739586586, 1.486805739586586, 2.6755091601416905, 0.9820258331990321, 0.9820258331990321, 1.1536788543682674, 1.1536788543682674, 1.1536788543682674, 1.1536788543682674, 1.171865218828408, 1.1719500487984904, 1.283170973329917, 1.283170973329917, 1.283170973329917, 1.283170973329917, 1.283170973329917, 1.283170973329917, 1.3154872228649457, 1.3154872228649457, 1.3154872228649457, 1.3154872228649457, 1.3154872228649457, 1.3266381565854346, 1.3268326310999174, 1.3268326310999174, 1.3268326985052719, 1.3268326985052719, 1.3841089347893083, 1.3841089347893083, 1.3841089347893083, 1.3841089347893083, 1.3841089347893083, 1.3841089347893083, 81.5706046513634, 78.26359864403585, 76.04494079920464, 2.6755091601416905, 1.47909808593403, 1.486805739586586, 2.3495383495286495, 3.204563137374362, 1.486805739586586, 1.486805739586586, 8.942796170002213, 1.486805739586586, 1.486805739586586, 1.486805739586586, 1.486805739586586, 1.486805739586586, 1.486805739586586, 1.486805739586586, 1.4088485276208005, 2.0679285425804856, 1.408828112904775, 1.4088175913122336, 1.4088201659758808, 1.4088451700392182, 3.391741649302567, 5.493238103560185, 1.4084732804566886], \"Category\": [\"Default\", \"Default\", \"Default\", \"Default\", \"Default\", \"Default\", \"Default\", \"Default\", \"Default\", \"Default\", \"Default\", \"Default\", \"Default\", \"Default\", \"Default\", \"Default\", \"Default\", \"Default\", \"Default\", \"Default\", \"Default\", \"Default\", \"Default\", \"Default\", \"Default\", \"Default\", \"Default\", \"Default\", \"Default\", \"Default\", \"Topic1\", \"Topic1\", \"Topic1\", \"Topic1\", \"Topic1\", \"Topic1\", \"Topic1\", \"Topic1\", \"Topic1\", \"Topic1\", \"Topic1\", \"Topic1\", \"Topic1\", \"Topic1\", \"Topic1\", \"Topic1\", \"Topic1\", \"Topic1\", \"Topic1\", \"Topic1\", \"Topic1\", \"Topic1\", \"Topic1\", \"Topic1\", \"Topic1\", \"Topic1\", \"Topic1\", \"Topic1\", \"Topic1\", \"Topic1\", \"Topic1\", \"Topic1\", \"Topic1\", \"Topic1\", \"Topic1\", \"Topic1\", \"Topic1\", \"Topic1\", \"Topic1\", \"Topic1\", \"Topic1\", \"Topic1\", \"Topic1\", \"Topic1\", \"Topic1\", \"Topic1\", \"Topic1\", \"Topic1\", \"Topic1\", \"Topic1\", \"Topic1\", \"Topic1\", \"Topic1\", \"Topic1\", \"Topic1\", \"Topic1\", \"Topic2\", \"Topic2\", \"Topic2\", \"Topic2\", \"Topic2\", \"Topic2\", \"Topic2\", \"Topic2\", \"Topic2\", \"Topic2\", \"Topic2\", \"Topic2\", \"Topic2\", \"Topic2\", \"Topic2\", \"Topic2\", \"Topic2\", \"Topic2\", \"Topic2\", \"Topic2\", \"Topic2\", \"Topic2\", \"Topic2\", \"Topic2\", \"Topic2\", \"Topic2\", \"Topic2\", \"Topic2\", \"Topic2\", \"Topic2\", \"Topic2\", \"Topic2\", \"Topic2\", \"Topic2\", \"Topic2\", \"Topic2\", \"Topic2\", \"Topic2\", \"Topic2\", \"Topic2\", \"Topic2\", \"Topic2\", \"Topic2\", \"Topic2\", \"Topic2\", \"Topic3\", \"Topic3\", \"Topic3\", \"Topic3\", \"Topic3\", \"Topic3\", \"Topic3\", \"Topic3\", \"Topic3\", \"Topic3\", \"Topic3\", \"Topic3\", \"Topic3\", \"Topic3\", \"Topic3\", \"Topic3\", \"Topic3\", \"Topic3\", \"Topic3\", \"Topic3\", \"Topic3\", \"Topic3\", \"Topic3\", \"Topic3\", \"Topic3\", \"Topic3\", \"Topic3\", \"Topic3\", \"Topic3\", \"Topic3\", \"Topic3\", \"Topic3\", \"Topic3\", \"Topic3\", \"Topic3\", \"Topic3\", \"Topic3\", \"Topic4\", \"Topic4\", \"Topic4\", \"Topic4\", \"Topic4\", \"Topic4\", \"Topic4\", \"Topic4\", \"Topic4\", \"Topic4\", \"Topic4\", \"Topic4\", \"Topic4\", \"Topic4\", \"Topic4\", \"Topic4\", \"Topic4\", \"Topic4\", \"Topic4\", \"Topic4\", \"Topic4\", \"Topic4\", \"Topic4\", \"Topic4\", \"Topic4\", \"Topic4\", \"Topic4\", \"Topic4\", \"Topic4\", \"Topic4\", \"Topic4\", \"Topic4\", \"Topic4\", \"Topic4\", \"Topic4\", \"Topic4\", \"Topic4\", \"Topic5\", \"Topic5\", \"Topic5\", \"Topic5\", \"Topic5\", \"Topic5\", \"Topic5\", \"Topic5\", \"Topic5\", \"Topic5\", \"Topic5\", \"Topic5\", \"Topic5\", \"Topic5\", \"Topic5\", \"Topic5\", \"Topic5\", \"Topic5\", \"Topic5\", \"Topic5\", \"Topic5\", \"Topic5\", \"Topic5\", \"Topic5\", \"Topic5\", \"Topic5\", \"Topic5\", \"Topic5\", \"Topic5\", \"Topic5\", \"Topic5\", \"Topic5\", \"Topic5\", \"Topic5\", \"Topic5\", \"Topic5\", \"Topic5\", \"Topic6\", \"Topic6\", \"Topic6\", \"Topic6\", \"Topic6\", \"Topic6\", \"Topic6\", \"Topic6\", \"Topic6\", \"Topic6\", \"Topic6\", \"Topic6\", \"Topic6\", \"Topic6\", \"Topic6\", \"Topic6\", \"Topic6\", \"Topic6\", \"Topic6\", \"Topic6\", \"Topic6\", \"Topic6\", \"Topic6\", \"Topic6\", \"Topic6\", \"Topic6\", \"Topic6\", \"Topic6\", \"Topic6\", \"Topic6\", \"Topic6\", \"Topic7\", \"Topic7\", \"Topic7\", \"Topic7\", \"Topic7\", \"Topic7\", \"Topic7\", \"Topic7\", \"Topic7\", \"Topic7\", \"Topic7\", \"Topic7\", \"Topic7\", \"Topic7\", \"Topic7\", \"Topic7\", \"Topic7\", \"Topic7\", \"Topic7\", \"Topic7\", \"Topic7\", \"Topic7\", \"Topic7\", \"Topic7\", \"Topic7\", \"Topic7\", \"Topic7\", \"Topic7\", \"Topic7\", \"Topic7\", \"Topic7\", \"Topic7\", \"Topic7\", \"Topic7\", \"Topic7\", \"Topic7\", \"Topic7\", \"Topic7\", \"Topic7\", \"Topic7\", \"Topic7\", \"Topic7\", \"Topic7\", \"Topic7\", \"Topic7\", \"Topic7\", \"Topic7\", \"Topic7\", \"Topic8\", \"Topic8\", \"Topic8\", \"Topic8\", \"Topic8\", \"Topic8\", \"Topic8\", \"Topic8\", \"Topic8\", \"Topic8\", \"Topic8\", \"Topic8\", \"Topic8\", \"Topic8\", \"Topic8\", \"Topic8\", \"Topic8\", \"Topic8\", \"Topic8\", \"Topic8\", \"Topic8\", \"Topic8\", \"Topic8\", \"Topic8\", \"Topic8\", \"Topic8\", \"Topic8\", \"Topic8\", \"Topic8\", \"Topic8\", \"Topic8\", \"Topic8\", \"Topic8\", \"Topic8\", \"Topic8\", \"Topic8\", \"Topic8\", \"Topic8\", \"Topic9\", \"Topic9\", \"Topic9\", \"Topic9\", \"Topic9\", \"Topic9\", \"Topic9\", \"Topic9\", \"Topic9\", \"Topic9\", \"Topic9\", \"Topic9\", \"Topic9\", \"Topic9\", \"Topic9\", \"Topic9\", \"Topic9\", \"Topic9\", \"Topic9\", \"Topic9\", \"Topic9\", \"Topic9\", \"Topic9\", \"Topic9\", \"Topic9\", \"Topic9\", \"Topic9\", \"Topic9\", \"Topic9\", \"Topic9\", \"Topic9\", \"Topic9\", \"Topic9\", \"Topic9\", \"Topic9\", \"Topic9\", \"Topic9\", \"Topic9\", \"Topic9\", \"Topic9\", \"Topic9\", \"Topic9\", \"Topic9\", \"Topic10\", \"Topic10\", \"Topic10\", \"Topic10\", \"Topic10\", \"Topic10\", \"Topic10\", \"Topic10\", \"Topic10\", \"Topic10\", \"Topic10\", \"Topic10\", \"Topic10\", \"Topic10\", \"Topic10\", \"Topic10\", \"Topic10\", \"Topic10\", \"Topic10\", \"Topic10\", \"Topic10\", \"Topic10\", \"Topic10\", \"Topic10\", \"Topic10\", \"Topic10\", \"Topic10\", \"Topic10\", \"Topic10\", \"Topic10\", \"Topic10\", \"Topic10\", \"Topic10\", \"Topic10\", \"Topic10\", \"Topic10\", \"Topic10\", \"Topic10\", \"Topic10\", \"Topic10\", \"Topic10\", \"Topic10\", \"Topic10\", \"Topic10\", \"Topic10\", \"Topic10\", \"Topic10\", \"Topic10\", \"Topic10\", \"Topic10\", \"Topic10\", \"Topic10\", \"Topic10\", \"Topic10\", \"Topic10\", \"Topic10\", \"Topic11\", \"Topic11\", \"Topic11\", \"Topic11\", \"Topic11\", \"Topic11\", \"Topic11\", \"Topic11\", \"Topic11\", \"Topic11\", \"Topic11\", \"Topic11\", \"Topic11\", \"Topic11\", \"Topic11\", \"Topic11\", \"Topic11\", \"Topic11\", \"Topic11\", \"Topic11\", \"Topic11\", \"Topic11\", \"Topic11\", \"Topic11\", \"Topic11\", \"Topic11\", \"Topic11\", \"Topic11\", \"Topic11\", \"Topic11\", \"Topic11\", \"Topic11\", \"Topic11\", \"Topic11\", \"Topic11\", \"Topic11\", \"Topic11\", \"Topic11\", \"Topic11\", \"Topic11\", \"Topic11\", \"Topic11\", \"Topic11\", \"Topic11\", \"Topic11\", \"Topic11\", \"Topic11\", \"Topic11\", \"Topic11\", \"Topic11\", \"Topic11\", \"Topic12\", \"Topic12\", \"Topic12\", \"Topic12\", \"Topic12\", \"Topic12\", \"Topic12\", \"Topic12\", \"Topic12\", \"Topic12\", \"Topic12\", \"Topic12\", \"Topic12\", \"Topic12\", \"Topic12\", \"Topic12\", \"Topic12\", \"Topic12\", \"Topic12\", \"Topic12\", \"Topic12\", \"Topic12\", \"Topic12\", \"Topic12\", \"Topic12\", \"Topic12\", \"Topic12\", \"Topic12\", \"Topic12\", \"Topic12\", \"Topic12\", \"Topic12\", \"Topic12\", \"Topic12\", \"Topic12\", \"Topic12\", \"Topic12\", \"Topic12\", \"Topic12\", \"Topic12\", \"Topic12\", \"Topic12\", \"Topic12\", \"Topic12\", \"Topic12\", \"Topic12\", \"Topic12\", \"Topic12\", \"Topic12\", \"Topic12\", \"Topic12\", \"Topic12\", \"Topic12\", \"Topic12\", \"Topic13\", \"Topic13\", \"Topic13\", \"Topic13\", \"Topic13\", \"Topic13\", \"Topic13\", \"Topic13\", \"Topic13\", \"Topic13\", \"Topic13\", \"Topic13\", \"Topic13\", \"Topic13\", \"Topic13\", \"Topic13\", \"Topic13\", \"Topic13\", \"Topic13\", \"Topic13\", \"Topic13\", \"Topic13\", \"Topic13\", \"Topic13\", \"Topic13\", \"Topic13\", \"Topic13\", \"Topic13\", \"Topic13\", \"Topic13\", \"Topic13\", \"Topic13\", \"Topic13\", \"Topic13\", \"Topic13\", \"Topic13\", \"Topic13\", \"Topic13\", \"Topic13\", \"Topic13\", \"Topic13\", \"Topic13\", \"Topic13\", \"Topic13\", \"Topic13\", \"Topic13\", \"Topic13\", \"Topic13\", \"Topic13\", \"Topic13\", \"Topic13\", \"Topic13\", \"Topic13\", \"Topic13\", \"Topic13\", \"Topic13\", \"Topic13\", \"Topic13\", \"Topic13\", \"Topic13\", \"Topic13\", \"Topic13\", \"Topic13\", \"Topic13\", \"Topic14\", \"Topic14\", \"Topic14\", \"Topic14\", \"Topic14\", \"Topic14\", \"Topic14\", \"Topic14\", \"Topic14\", \"Topic14\", \"Topic14\", \"Topic14\", \"Topic14\", \"Topic14\", \"Topic14\", \"Topic14\", \"Topic14\", \"Topic14\", \"Topic14\", \"Topic14\", \"Topic14\", \"Topic14\", \"Topic14\", \"Topic14\", \"Topic14\", \"Topic14\", \"Topic14\", \"Topic14\", \"Topic14\", \"Topic14\", \"Topic14\", \"Topic14\", \"Topic14\", \"Topic14\", \"Topic14\", \"Topic14\", \"Topic14\", \"Topic14\", \"Topic14\", \"Topic14\", \"Topic14\", \"Topic14\", \"Topic14\", \"Topic14\", \"Topic14\", \"Topic14\", \"Topic14\", \"Topic14\", \"Topic14\", \"Topic14\", \"Topic14\", \"Topic14\", \"Topic14\", \"Topic14\", \"Topic14\", \"Topic14\", \"Topic14\"], \"logprob\": [30.0, 29.0, 28.0, 27.0, 26.0, 25.0, 24.0, 23.0, 22.0, 21.0, 20.0, 19.0, 18.0, 17.0, 16.0, 15.0, 14.0, 13.0, 12.0, 11.0, 10.0, 9.0, 8.0, 7.0, 6.0, 5.0, 4.0, 3.0, 2.0, 1.0, -4.326099872589111, -4.326099872589111, -4.326099872589111, -4.985300064086914, -4.985300064086914, -4.985300064086914, -4.985300064086914, -4.985300064086914, -4.985300064086914, -4.985300064086914, -4.985300064086914, -4.985300064086914, -4.985300064086914, -4.985300064086914, -4.985300064086914, -4.985300064086914, -4.985300064086914, -4.985300064086914, -4.985300064086914, -4.985300064086914, -4.985300064086914, -4.985300064086914, -4.985300064086914, -4.985300064086914, -4.985300064086914, -4.985300064086914, -4.985300064086914, -4.985300064086914, -4.985300064086914, -4.985300064086914, -3.6503000259399414, -4.985300064086914, -4.985300064086914, -3.4307000637054443, -4.326099872589111, -2.103800058364868, -2.1575000286102295, -2.1575000286102295, -4.985300064086914, -4.985300064086914, -4.985300064086914, -4.985300064086914, -4.985300064086914, -4.985300064086914, -3.9321999549865723, -4.326099872589111, -4.326099872589111, -4.326099872589111, -4.977099895477295, -4.985300064086914, -4.985300064086914, -4.985300064086914, -4.985300064086914, -4.985300064086914, -4.985300064086914, -4.985300064086914, -4.956500053405762, -4.956500053405762, -4.956500053405762, -4.956500053405762, -4.956500053405762, -4.956500053405762, -4.956500053405762, -4.956500053405762, -4.956500053405762, -4.956500053405762, -4.956500053405762, -4.956500053405762, -4.956500053405762, -4.956500053405762, -4.956500053405762, -4.956500053405762, -4.956500053405762, -4.956500053405762, -4.2972002029418945, -4.2972002029418945, -4.2972002029418945, -4.2972002029418945, -4.813199996948242, -3.9033000469207764, -4.301499843597412, -4.2972002029418945, -4.956500053405762, -4.956500053405762, -4.106900215148926, -3.9033000469207764, -3.2404000759124756, -1.8456000089645386, -1.888100028038025, -1.9325000047683716, -4.301499843597412, -4.2972002029418945, -4.813199996948242, -4.813199996948242, -4.948200225830078, -4.956500053405762, -4.956500053405762, -4.956500053405762, -4.956500053405762, -4.956500053405762, -4.956500053405762, -4.480000019073486, -4.480000019073486, -4.480000019073486, -4.480000019073486, -4.480000019073486, -4.480000019073486, -4.480000019073486, -4.480000019073486, -4.480000019073486, -4.480000019073486, -4.480000019073486, -4.480000019073486, -4.480000019073486, -4.480000019073486, -4.480000019073486, -4.480000019073486, -4.480000019073486, -4.483500003814697, -4.48360013961792, -4.483799934387207, -4.480000019073486, -4.4842000007629395, -4.480000019073486, -4.480000019073486, -4.480000019073486, -4.480000019073486, -4.480000019073486, -3.8208000659942627, -3.8208000659942627, -3.8208000659942627, -2.1438000202178955, -2.1438000202178955, -2.3429999351501465, -3.428100109100342, -3.8208000659942627, -4.471799850463867, -4.480000019073486, -3.8217999935150146, -3.8217999935150146, -4.476799964904785, -4.476799964904785, -4.476799964904785, -4.476799964904785, -4.476799964904785, -4.476799964904785, -4.476799964904785, -4.476799964904785, -4.476799964904785, -4.476799964904785, -4.476799964904785, -4.476799964904785, -4.476799964904785, -4.476799964904785, -4.476799964904785, -4.476799964904785, -4.476799964904785, -4.476799964904785, -4.476799964904785, -4.476799964904785, -4.476799964904785, -4.476799964904785, -4.476799964904785, -3.85479998588562, -4.476799964904785, -4.476799964904785, -4.476799964904785, -3.426500082015991, -2.0608999729156494, -2.061000108718872, -2.147900104522705, -3.8176000118255615, -4.476799964904785, -4.476799964904785, -4.476799964904785, -3.3092000484466553, -4.359499931335449, -4.359499931335449, -4.359499931335449, -4.359499931335449, -4.359499931335449, -4.359499931335449, -4.359499931335449, -4.359499931335449, -4.359499931335449, -4.359499931335449, -4.359499931335449, -4.359499931335449, -4.359499931335449, -4.359499931335449, -4.361499786376953, -4.361800193786621, -4.362199783325195, -4.362299919128418, -4.36269998550415, -4.363399982452393, -4.363500118255615, -4.362800121307373, -4.361700057983398, -4.359499931335449, -4.359499931335449, -4.359499931335449, -4.359499931335449, -4.361299991607666, -4.361400127410889, -2.016400098800659, -2.1106998920440674, -2.214200019836426, -4.359499931335449, -4.359499931335449, -4.359499931335449, -4.359499931335449, -4.142499923706055, -4.142499923706055, -4.142499923706055, -4.142499923706055, -4.142499923706055, -4.142499923706055, -4.142499923706055, -4.142499923706055, -4.142499923706055, -4.142499923706055, -4.142499923706055, -4.142499923706055, -4.142499923706055, -4.142499923706055, -4.142499923706055, -3.4832000732421875, -3.0922000408172607, -3.487499952316284, -4.142499923706055, -4.142499923706055, -4.142499923706055, -4.142499923706055, -4.142499923706055, -4.142499923706055, -4.142499923706055, -4.142499923706055, -4.142499923706055, -2.256700038909912, -4.142499923706055, -2.4093000888824463, -2.4093000888824463, -2.577699899673462, -3.908400058746338, -3.908400058746338, -3.908400058746338, -3.908400058746338, -3.908400058746338, -2.577699899673462, -3.2534000873565674, -3.908400058746338, -2.025099992752075, -2.025099992752075, -2.025099992752075, -6.616399765014648, -6.616399765014648, -6.616399765014648, -6.616399765014648, -6.616399765014648, -6.616399765014648, -6.616399765014648, -6.616399765014648, -6.616399765014648, -6.616399765014648, -6.616399765014648, -6.616399765014648, -6.616399765014648, -6.616399765014648, -6.616399765014648, -6.616399765014648, -6.616399765014648, -6.616399765014648, -6.616399765014648, -6.616399765014648, -6.616399765014648, -6.616399765014648, -6.616399765014648, -6.616399765014648, -6.616399765014648, -6.616399765014648, -6.616399765014648, -6.616399765014648, -6.616399765014648, -6.616399765014648, -6.616399765014648, -6.616399765014648, -6.616399765014648, -6.616399765014648, -6.616399765014648, -6.616399765014648, -3.872499942779541, -3.872499942779541, -3.872499942779541, -3.872499942779541, -3.87280011177063, -3.213200092315674, -3.8731000423431396, -3.872499942779541, -3.872499942779541, -3.872499942779541, -3.8731000423431396, -3.872499942779541, -3.872499942779541, -3.872499942779541, -3.872999906539917, -3.872499942779541, -3.872999906539917, -3.872499942779541, -3.8731000423431396, -3.8731000423431396, -3.872499942779541, -3.872499942779541, -6.58050012588501, -6.58050012588501, -6.58050012588501, -6.58050012588501, -6.58050012588501, -6.58050012588501, -6.58050012588501, -6.58050012588501, -2.537600040435791, -2.5376999378204346, -2.537600040435791, -6.58050012588501, -6.58050012588501, -6.58050012588501, -6.58050012588501, -6.58050012588501, -3.704200029373169, -3.704200029373169, -3.704200029373169, -3.704200029373169, -3.704200029373169, -3.704200029373169, -3.704200029373169, -3.704200029373169, -3.704200029373169, -3.704200029373169, -3.704200029373169, -3.704200029373169, -3.704200029373169, -3.704200029373169, -3.704200029373169, -3.7023000717163086, -3.704200029373169, -3.7019999027252197, -6.412300109863281, -6.412300109863281, -6.412300109863281, -6.412300109863281, -6.412300109863281, -6.412300109863281, -6.412300109863281, -6.412300109863281, -6.412300109863281, -6.412300109863281, -6.412300109863281, -6.412300109863281, -6.412300109863281, -2.6503000259399414, -2.6503000259399414, -2.650599956512451, -6.377600193023682, -6.381499767303467, -6.3790998458862305, -6.384500026702881, -6.412300109863281, -6.412300109863281, -6.412300109863281, -6.412300109863281, -6.412300109863281, -2.7541000843048096, -2.7541000843048096, -3.414599895477295, -3.414900064468384, -3.416599988937378, -6.117099761962891, -6.117099761962891, -6.117099761962891, -6.117099761962891, -6.117099761962891, -6.117099761962891, -6.117099761962891, -6.117099761962891, -6.117099761962891, -6.117099761962891, -6.117099761962891, -6.117099761962891, -6.117099761962891, -6.117099761962891, -6.117099761962891, -6.117099761962891, -6.117099761962891, -6.117099761962891, -6.117099761962891, -6.117099761962891, -6.117099761962891, -6.117099761962891, -6.117099761962891, -6.117099761962891, -6.117099761962891, -2.36299991607666, -2.3629000186920166, -6.117099761962891, -2.3633999824523926, -6.117099761962891, -6.117099761962891, -6.117099761962891, -6.117099761962891, -6.117099761962891, -6.117099761962891, -6.117099761962891, -6.117099761962891, -6.117099761962891, -6.117099761962891, -6.117099761962891, -6.117099761962891, -6.117099761962891, -6.117099761962891, -6.117099761962891, -6.117099761962891, -6.117099761962891, -6.117099761962891, -6.117099761962891, -6.117099761962891, -6.117099761962891, -6.117099761962891, -3.3487000465393066, -3.3487000465393066, -3.3487000465393066, -3.3487000465393066, -3.3487000465393066, -3.3487000465393066, -3.3487000465393066, -3.3487000465393066, -3.3487000465393066, -6.05679988861084, -6.05679988861084, -6.05679988861084, -6.05679988861084, -6.05679988861084, -6.05679988861084, -6.05679988861084, -6.05679988861084, -6.05679988861084, -6.05679988861084, -6.05679988861084, -6.05679988861084, -6.05679988861084, -6.05679988861084, -6.05679988861084, -6.05679988861084, -6.05679988861084, -6.05679988861084, -6.05679988861084, -6.05679988861084, -6.05679988861084, -2.689500093460083, -2.689500093460083, -3.3487000465393066, -6.05679988861084, -6.05679988861084, -6.05679988861084, -6.05679988861084, -6.05679988861084, -6.05679988861084, -6.05679988861084, -6.05679988861084, -6.05679988861084, -6.05679988861084, -6.05679988861084, -6.05679988861084, -6.05679988861084, -6.05679988861084, -6.05679988861084, -6.05679988861084, -6.05679988861084, -6.05679988861084, -3.010200023651123, -3.010200023651123, -3.1774001121520996, -3.1774001121520996, -3.1774001121520996, -3.529900074005127, -5.718200206756592, -5.718200206756592, -5.718200206756592, -5.718200206756592, -5.718200206756592, -5.718200206756592, -5.718200206756592, -5.718200206756592, -5.718200206756592, -5.718200206756592, -5.718200206756592, -5.718200206756592, -5.718200206756592, -5.718200206756592, -5.718200206756592, -5.718200206756592, -5.718200206756592, -5.718200206756592, -5.718200206756592, -5.718200206756592, -5.718200206756592, -5.718200206756592, -5.718200206756592, -5.718200206756592, -4.77839994430542, -5.470300197601318, -5.4770002365112305, -5.483099937438965, -5.718200206756592, -5.718200206756592, -5.718200206756592, -5.718200206756592, -5.718200206756592, -5.718200206756592, -5.718200206756592, -5.718200206756592, -5.718200206756592, -5.718200206756592, -5.718200206756592, -5.718200206756592, -5.718200206756592, -5.718200206756592, -5.718200206756592, -5.718200206756592, -5.718200206756592, -5.718200206756592, -5.718200206756592, -5.718200206756592, -5.442800045013428, -5.442800045013428, -5.442800045013428, -5.442800045013428, -5.442800045013428, -5.442800045013428, -5.442800045013428, -5.442800045013428, -5.442800045013428, -5.442800045013428, -5.442800045013428, -5.442800045013428, -5.442800045013428, -5.442800045013428, -5.442800045013428, -5.442800045013428, -5.442800045013428, -5.442800045013428, -5.442800045013428, -5.4375, -5.442800045013428, -5.442800045013428, -5.442800045013428, -5.442800045013428, -5.442800045013428, -5.442800045013428, -5.442800045013428, -5.442800045013428, -5.442800045013428, -5.442800045013428, -5.433199882507324, -5.433199882507324, -5.442800045013428, -5.442800045013428, -5.442800045013428, -5.442800045013428, -5.442800045013428, -5.432700157165527, -5.433499813079834, -5.434100151062012, -5.434599876403809, -5.434599876403809, -5.435800075531006, -5.436699867248535, -5.442800045013428, -5.442800045013428, -5.442800045013428, -5.442800045013428, -5.442800045013428, -5.442800045013428, -5.442800045013428, -5.442800045013428, -5.442800045013428, -5.442800045013428, -5.442800045013428, -5.442800045013428, -5.442800045013428, -5.442800045013428, -5.442800045013428, -5.442800045013428, -5.442800045013428, -5.442800045013428, -5.442800045013428, -5.442800045013428, -5.442399978637695, -5.442399978637695, -5.442399978637695, -5.442399978637695, -5.442399978637695, -5.442399978637695, -5.442399978637695, -5.442399978637695, -5.442399978637695, -5.442399978637695, -5.442399978637695, -5.442399978637695, -5.442399978637695, -5.442399978637695, -5.442399978637695, -5.442399978637695, -5.442399978637695, -5.442399978637695, -5.442399978637695, -5.442399978637695, -5.442399978637695, -5.442399978637695, -5.442399978637695, -5.442399978637695, -5.442399978637695, -5.442399978637695, -5.442399978637695, -5.442399978637695, -5.442399978637695, -5.442399978637695, -5.442399978637695, -5.442399978637695, -5.442399978637695, -5.442399978637695, -5.442399978637695, -5.442399978637695, -5.442399978637695, -5.442399978637695, -5.442399978637695, -5.442399978637695, -5.442399978637695, -5.442399978637695, -5.442399978637695, -5.442399978637695, -5.442399978637695, -5.442399978637695, -5.442399978637695, -5.442399978637695, -5.442399978637695, -5.442399978637695, -5.442399978637695, -5.442399978637695, -5.442399978637695, -5.442399978637695, -5.442399978637695, -5.442399978637695, -5.442399978637695], \"loglift\": [30.0, 29.0, 28.0, 27.0, 26.0, 25.0, 24.0, 23.0, 22.0, 21.0, 20.0, 19.0, 18.0, 17.0, 16.0, 15.0, 14.0, 13.0, 12.0, 11.0, 10.0, 9.0, 8.0, 7.0, 6.0, 5.0, 4.0, 3.0, 2.0, 1.0, 1.3477, 1.3477, 1.3477, 1.146, 1.146, 1.146, 1.146, 1.146, 1.146, 1.146, 1.146, 1.146, 1.146, 1.146, 1.146, 1.146, 1.146, 1.146, 1.146, 1.146, 1.146, 1.146, 1.146, 1.146, 1.146, 1.146, 1.146, 1.146, 1.146, 1.146, 1.048, 1.146, 1.146, 0.9064, 1.0373, 0.0227, 0.0391, 0.0104, 1.146, 1.146, 1.146, 1.146, 1.146, 1.146, -0.0152, 0.3529, 0.3453, 0.1397, 0.2398, 0.0248, 0.6917, 0.7127, 0.7139, -0.1087, 0.5585, 0.7127, 1.18, 1.18, 1.18, 1.18, 1.18, 1.18, 1.18, 1.18, 1.18, 1.18, 1.18, 1.18, 1.18, 1.18, 1.18, 1.18, 1.18, 1.18, 1.1786, 1.1199, 1.0872, 1.0863, 1.0629, 1.0556, 0.8709, 0.8491, 0.8115, 0.8115, 0.7697, 0.7681, 0.6766, 0.2809, 0.2798, 0.2641, 0.7002, 0.3818, 0.7509, 0.0112, -0.4825, 0.4255, 0.2775, 0.2782, 0.5374, 0.4246, 0.7205, 1.6899, 1.6899, 1.6899, 1.6899, 1.6899, 1.6899, 1.6899, 1.6899, 1.6899, 1.6899, 1.6899, 1.6899, 1.6899, 1.6899, 1.6899, 1.6899, 1.6899, 1.6864, 1.6863, 1.6861, 1.2903, 1.2861, 1.2638, 1.2526, 1.244, 1.218, 1.218, 1.1991, 1.1893, 1.1381, 0.0241, -0.0173, -0.1464, 0.4888, 0.5164, 0.3527, 0.7539, 1.9032, 1.9032, 1.695, 1.695, 1.695, 1.695, 1.695, 1.695, 1.695, 1.695, 1.695, 1.695, 1.695, 1.695, 1.695, 1.695, 1.695, 1.695, 1.695, 1.695, 1.695, 1.695, 1.695, 1.695, 1.695, 1.658, 1.2948, 1.2472, 1.2224, 1.0392, 0.1357, 0.0655, 0.0199, 0.5195, 1.0171, 0.5333, 0.9695, 2.1273, 1.8258, 1.8258, 1.8258, 1.8258, 1.8258, 1.8258, 1.8258, 1.8258, 1.8258, 1.8258, 1.8258, 1.8258, 1.8258, 1.8258, 1.8239, 1.8237, 1.823, 1.8229, 1.8225, 1.8218, 1.8216, 1.4386, 1.4192, 1.3943, 1.3943, 1.3731, 0.8129, 0.785, 0.5152, 0.1101, 0.0572, -0.0176, 0.3195, 0.3119, -0.0223, 0.1063, 2.0604, 2.0604, 2.0604, 2.0604, 2.0604, 2.0604, 2.0604, 2.0604, 2.0604, 2.0604, 2.0604, 2.0604, 2.0604, 2.0604, 2.0604, 1.9627, 1.9277, 1.7293, 1.6113, 1.6113, 1.6013, 1.5794, 1.1412, 1.0922, 1.0299, 0.8593, 0.3232, -0.06, -0.2255, -0.2415, -0.2828, 2.7289, 2.3454, 2.3454, 2.3454, 2.3454, 2.3454, 2.2467, 2.0303, 0.7899, 0.1716, 0.1428, 0.1014, -0.0703, -0.0703, -0.2314, -0.2314, -0.2314, -0.2314, -0.2471, -0.2471, -0.3378, -0.3378, -0.3378, -0.3378, -0.3378, -0.3378, -0.3711, -0.3713, -0.3713, -0.3713, -0.4851, -0.9427, -0.4312, -0.4446, -1.253, -0.4851, -0.4851, -2.2793, -0.4851, -0.4851, -0.4312, -0.4312, -0.4851, -0.4851, -0.4851, -0.4851, -0.4851, -0.4312, 2.3727, 2.3727, 2.3727, 2.3727, 2.3725, 2.0215, 1.9077, 1.8991, 1.8978, 1.8978, 1.8713, 1.6916, 1.6511, 1.5447, 1.4107, 1.3615, 1.3438, 1.1293, 0.8059, 0.7983, 0.5932, 0.0445, -0.0344, -0.0344, -0.1955, -0.1955, -0.1955, -0.1955, -0.2112, -0.2112, -0.3409, -0.3698, -0.4111, -1.1352, -0.4492, -0.7044, -0.9068, -0.4492, 2.5744, 2.5744, 2.5744, 2.5744, 2.5744, 2.5744, 2.0972, 2.0638, 2.0638, 2.0602, 1.8396, 1.7421, 1.7411, 1.5297, 1.3058, 1.1743, 0.994, 0.215, 0.1338, 0.1338, -0.0273, -0.0273, -0.0273, -0.0273, -0.0429, -0.043, -0.1585, -0.1585, -0.1585, -0.1585, -0.1585, -0.4537, -0.4824, -0.5241, -0.1921, -0.1961, -0.5983, -1.2382, -1.3924, -0.2809, -0.2809, -0.2809, -2.0752, 3.2317, 3.2317, 2.9548, 2.9544, 2.107, 0.429, 0.429, 0.2679, 0.2679, 0.2679, 0.2679, 0.1615, 0.1615, 0.1615, 0.1615, 0.1615, 0.1615, 0.1366, 0.1366, 0.1366, 0.1366, 0.1366, 0.1282, 0.1281, 0.1281, 0.1281, 0.1281, 0.0858, 0.0858, 0.0858, -0.1663, -0.195, 0.0858, -0.2369, 0.0683, -1.2927, -0.4434, -0.7537, 0.0142, 0.0142, -1.78, 0.0142, 0.0142, 0.0142, 0.0142, -0.5733, 0.0142, 0.0142, 0.0194, -0.3362, 0.0142, 0.0681, -0.3157, 0.0681, 0.0681, 0.0681, 3.0363, 3.0363, 3.0363, 3.0363, 2.1951, 2.1641, 2.1452, 2.1442, 2.1271, 0.4893, 0.4893, 0.3126, 0.3125, 0.2218, 0.2218, 0.2218, 0.2218, 0.2218, 0.2218, 0.197, 0.197, 0.197, 0.197, 0.197, 0.1885, 0.1884, 0.1884, 0.1884, 0.1884, 0.1461, -0.5216, -0.563, -1.1521, -1.5911, -1.3585, -0.6748, -1.7197, -1.2323, -1.3778, -0.7502, -1.055, -2.1398, -0.383, 0.0745, 0.0745, 0.0745, 0.0745, 0.0745, -0.1807, 0.0745, 0.0745, 3.5359, 3.5359, 2.6987, 2.3866, 1.647, 1.3467, 0.6668, 0.6668, 0.6668, 0.6668, 0.6511, 0.6511, 0.5604, 0.5604, 0.5604, 0.5604, 0.5604, 0.5604, 0.5355, 0.5355, 0.5355, 0.5355, 0.5355, 0.5271, 0.5269, 0.5269, 0.5269, 0.5269, 0.4847, 0.4847, -0.8614, -3.2736, -3.3091, -3.3566, -1.2525, -0.3363, -1.02, -1.3811, -1.0392, -0.4116, -0.6984, 0.4131, 0.4131, 0.4131, 0.4131, 0.4131, 0.4131, 0.4131, 0.4131, 0.4131, -0.1744, 0.4131, 0.4131, -0.0445, 1.1033, 1.1033, 0.9422, 0.9422, 0.9422, 0.9422, 0.9266, 0.9265, 0.8358, 0.8358, 0.8358, 0.8358, 0.8358, 0.8358, 0.811, 0.811, 0.811, 0.811, 0.811, 0.8078, 0.8024, 0.8024, 0.8024, 0.8024, 0.7601, 0.7601, 0.7601, 0.7601, 0.7601, 0.7601, 0.3477, 0.3113, 0.7601, 0.7601, 0.7601, 0.7601, 0.7601, -3.2649, -0.7621, -0.7551, -0.1509, -0.2177, -3.3093, -3.24, -0.0608, -0.6183, -1.1057, -0.9771, -1.5258, 0.7424, 0.7424, 0.6938, 0.6886, 0.231, -0.0794, -0.1362, 0.6886, 0.6886, 0.7424, 0.6886, 0.6886, 0.6886, 0.6886, 0.101, 1.1037, 1.1037, 0.9426, 0.9426, 0.9426, 0.9426, 0.9269, 0.9269, 0.8362, 0.8362, 0.8362, 0.8362, 0.8362, 0.8362, 0.8113, 0.8113, 0.8113, 0.8113, 0.8113, 0.8029, 0.8027, 0.8027, 0.8027, 0.8027, 0.7605, 0.7605, 0.7605, 0.7605, 0.7605, 0.7605, -3.3159, -3.2745, -3.2458, 0.1014, 0.6941, 0.6889, 0.2313, -0.079, 0.6889, 0.6889, -1.1053, 0.6889, 0.6889, 0.6889, 0.6889, 0.6889, 0.6889, 0.6889, 0.7428, 0.359, 0.7428, 0.7428, 0.7428, 0.7428, -0.1358, -0.618, 0.743]}, \"token.table\": {\"Topic\": [3, 4, 3, 8, 3, 2, 8, 4, 4, 1, 2, 4, 4, 2, 5, 6, 4, 5, 9, 4, 1, 1, 2, 4, 5, 6, 8, 4, 5, 1, 7, 2, 2, 3, 3, 6, 6, 1, 2, 5, 6, 6, 1, 3, 7, 9, 5, 4, 4, 5, 5, 1, 4, 8, 5, 2, 1, 11, 7, 1, 1, 2, 4, 6, 8, 8, 1, 2, 3, 8, 9, 1, 5, 2, 9, 1, 9, 4, 8, 5, 7, 5, 1, 3, 9, 4, 1, 1, 3, 5, 2, 11, 1, 6, 1, 9, 2, 9, 1, 2, 5, 9, 1, 4, 9, 2, 3, 3, 10, 5, 5, 2, 4, 11, 5, 5, 2, 3, 6, 3, 1, 6, 1, 2, 3, 7, 9, 1, 1, 6, 3, 1, 4, 11, 1, 4, 1, 2, 3, 4, 5, 6, 7, 8, 9, 10, 11, 2, 5, 6, 2, 6, 8, 7, 2, 8, 2, 2, 8, 10, 4, 1, 3, 4, 9, 2, 2, 3, 6, 4, 3, 4, 1, 6, 8, 2, 4, 11, 6, 1, 2, 3, 4, 5, 6, 7, 8, 9, 10, 11, 2, 6, 6, 3, 1, 2, 5, 8, 6, 3, 4, 1, 8, 1, 5, 1, 4, 1, 2, 9, 1, 1, 2, 7, 9, 10, 4, 1, 6, 4, 3, 5, 9, 2, 3, 1, 2, 3, 4, 5, 6, 7, 8, 9, 10, 11, 4, 1, 6, 5, 1, 2, 8, 10, 1, 2, 8, 3, 2, 11, 1, 2, 3, 3, 1, 7, 1, 2, 3, 5, 8, 1, 3, 1, 4, 3, 5, 8, 1, 3, 5, 2, 1, 2, 3, 11, 1, 2, 3, 1, 4, 3, 5, 1, 5, 3, 6, 1, 2, 9, 1, 3, 8, 6, 10, 1, 3, 4, 5, 2, 3, 6, 1, 2, 5, 2, 5, 3, 6, 2, 1, 4, 1, 9, 11, 6, 7, 8, 5, 1, 4, 8, 11, 1, 5, 6, 1, 3, 1, 2, 3, 5, 6, 8, 9, 4, 3, 1, 1, 2, 4, 5, 4, 3], \"Freq\": [0.6990246271211087, 0.7003922699619363, 0.46875475968494484, 0.46875475968494484, 0.6990246271211087, 0.6760876844543503, 0.7537850430699569, 0.7003922699619363, 0.7003922699619363, 0.6725828219347978, 0.6373849759490158, 0.3186924879745079, 0.7003922699619363, 0.6760876844543503, 0.46108676562247736, 0.46108676562247736, 0.8960605399377048, 0.7098474199660528, 0.7793193742568312, 0.7003922699619363, 0.6725828219347978, 0.25433685364104125, 0.12716842682052062, 0.25433685364104125, 0.12716842682052062, 0.12716842682052062, 0.12716842682052062, 0.7003922699619363, 0.7098474199660528, 0.6725828219347978, 0.7601746201853189, 0.6760876844543503, 0.6760876844543503, 0.6990246271211087, 0.4564958286385251, 0.4564958286385251, 0.7224864856119305, 0.6241100313095055, 0.31205501565475274, 0.7098012054597617, 0.7224864856119305, 0.7224864856119305, 0.6418477702100889, 0.16046194255252222, 0.16046194255252222, 0.16046194255252222, 0.7098138031743082, 0.7003922699619363, 0.7003922699619363, 0.7098474199660528, 0.7098474199660528, 0.6725828219347978, 0.4693665905408346, 0.4693665905408346, 0.7098474199660528, 0.6760876844543503, 0.6725828219347978, 0.8667923453859098, 0.7601746201853189, 0.851231142808825, 0.6725828219347978, 0.4347179040414671, 0.21735895202073355, 0.21735895202073355, 0.21735895202073355, 0.7536745221357135, 0.6725828219347978, 0.2741643815376577, 0.2741643815376577, 0.2741643815376577, 0.2741643815376577, 0.6725828219347978, 0.7098474199660528, 0.46768401025165895, 0.46768401025165895, 0.4660041717609302, 0.4660041717609302, 0.7003922699619363, 0.7536745221357135, 0.7098151003839729, 0.7601746201853189, 0.7098474199660528, 0.33870950034204156, 0.33870950034204156, 0.33870950034204156, 0.7003922699619363, 0.6725828219347978, 0.6725828219347978, 0.45141733076032925, 0.45141733076032925, 0.6760876844543503, 0.8667923453859098, 0.6725828219347978, 0.7224864856119305, 0.851231142808825, 0.7793193742568312, 0.6760876844543503, 0.7793193742568312, 0.19178425031280205, 0.3835685006256041, 0.19178425031280205, 0.19178425031280205, 0.33902884954266294, 0.33902884954266294, 0.33902884954266294, 0.6760876844543503, 0.6990246271211087, 0.6990301836201999, 0.8532786879656027, 0.7098474199660528, 0.7098474199660528, 0.6760876844543503, 0.7003922699619363, 0.8667923453859098, 0.7100069230255233, 0.7098097992509265, 0.6760876844543503, 0.3389109881984807, 0.6778219763969614, 0.6990246271211087, 0.6725828219347978, 0.7224864856119305, 0.6725828219347978, 0.18204199074347366, 0.18204199074347366, 0.5461259722304209, 0.7793193742568312, 0.6725828219347978, 0.6725828219347978, 0.7224864856119305, 0.6990246271211087, 0.6725828219347978, 0.7247337601917427, 0.36236688009587137, 0.6725828219347978, 0.7003922699619363, 0.1961490915555273, 0.2574456826666296, 0.11033386399998411, 0.12259318222220457, 0.11033386399998411, 0.061296591111102285, 0.061296591111102285, 0.03677795466666137, 0.02451863644444091, 0.02451863644444091, 0.012259318222220456, 0.5156091639295801, 0.25780458196479006, 0.25780458196479006, 0.2743745572974255, 0.2743745572974255, 0.2743745572974255, 0.7601746201853189, 0.6585701487059085, 0.32928507435295423, 0.6760876844543503, 0.36627630321752214, 0.36627630321752214, 0.36627630321752214, 0.7003922699619363, 0.21917401096661687, 0.43834802193323374, 0.21917401096661687, 0.21917401096661687, 0.6760876844543503, 0.6760876844543503, 0.6990246271211087, 0.7224864856119305, 0.7003922699619363, 0.4475749002438669, 0.4475749002438669, 0.269523993984417, 0.539047987968834, 0.269523993984417, 0.355567952218723, 0.355567952218723, 0.355567952218723, 0.7224864856119305, 0.2044373153957864, 0.255546644244733, 0.11499598991012987, 0.11499598991012987, 0.1022186576978932, 0.06388666106118325, 0.06388666106118325, 0.038331996636709956, 0.0255546644244733, 0.0255546644244733, 0.01277733221223665, 0.4466012808425759, 0.4466012808425759, 0.7224864856119305, 0.6990246271211087, 0.31241642573909156, 0.46862463860863734, 0.15620821286954578, 0.15620821286954578, 0.7224864856119305, 0.6990246271211087, 0.7003922699619363, 0.4567856495738373, 0.4567856495738373, 0.6725828219347978, 0.7098474199660528, 0.6725828219347978, 0.7003922699619363, 0.6725828219347978, 0.6760876844543503, 0.7793193742568312, 0.6725828219347978, 0.6725828219347978, 0.6760876844543503, 0.7601746201853189, 0.7793193742568312, 0.581511316801818, 0.8960879273190812, 0.6725828219347978, 0.7224864856119305, 0.7003922699619363, 0.6990246271211087, 0.48357570361311414, 0.48357570361311414, 0.6247226285224399, 0.4164817523482932, 0.2104018996115432, 0.24985225578870754, 0.09205083108005015, 0.1315011872572145, 0.09205083108005015, 0.06575059362860725, 0.06575059362860725, 0.03945035617716435, 0.0263002374514429, 0.0263002374514429, 0.01315011872572145, 0.7003922699619363, 0.6725828219347978, 0.7224864856119305, 0.7098474199660528, 0.6725828219347978, 0.5210835780644902, 0.7536745604236611, 0.581511316801818, 0.8512310515813578, 0.38141190870700103, 0.38141190870700103, 0.6990246271211087, 0.6983902291194107, 0.34919511455970537, 0.31762949539725316, 0.31762949539725316, 0.31762949539725316, 0.6990246271211087, 0.6725828504116657, 0.8845013300517391, 0.3148019906504247, 0.3148019906504247, 0.15740099532521235, 0.15740099532521235, 0.15740099532521235, 0.6725828219347978, 0.6990246271211087, 0.6725828219347978, 0.7003922699619363, 0.6990246271211087, 0.4737414001868565, 0.4737414001868565, 0.4360533704718216, 0.4360533704718216, 0.7098474199660528, 0.6760876844543503, 0.6725828219347978, 0.3552151529231756, 0.3552151529231756, 0.3552151529231756, 0.42701637176534585, 0.42701637176534585, 0.6990246271211087, 0.4365851973917332, 0.4365851973917332, 0.6990297646813901, 0.6714255430977312, 0.6725828219347978, 0.7098474199660528, 0.6990299182285823, 0.7224864856119305, 0.6725828219347978, 0.46768401025165895, 0.46768401025165895, 0.6725828219347978, 0.4687519882540322, 0.4687519882540322, 0.7224864856119305, 0.8533404558245758, 0.4472873946761341, 0.22364369733806705, 0.22364369733806705, 0.11182184866903352, 0.6368180817614665, 0.31840904088073324, 0.7224864856119305, 0.2511752851631255, 0.502350570326251, 0.2511752851631255, 0.6760876844543503, 0.7098474199660528, 0.4426666258185203, 0.4426666258185203, 0.6760876844543503, 0.6725828219347978, 0.7003922699619363, 0.3737606340121974, 0.3737606340121974, 0.3737606340121974, 0.288152154445103, 0.288152154445103, 0.288152154445103, 0.7099886195042027, 0.6725828219347978, 0.7003922699619363, 0.7536745604236611, 0.8667923453859098, 0.6725828219347978, 0.46108676562247736, 0.46108676562247736, 0.4360533581052298, 0.4360533581052298, 0.2203811204379947, 0.3673018673966578, 0.14692074695866314, 0.07346037347933157, 0.07346037347933157, 0.07346037347933157, 0.07346037347933157, 0.7003922699619363, 0.6990246271211087, 0.6725828219347978, 0.3179115739643833, 0.3179115739643833, 0.3179115739643833, 0.7097995138545906, 0.7003922699619363, 0.6990246271211087], \"Term\": [\"abstract\", \"acquire\", \"active\", \"active\", \"advance\", \"adverse\", \"analysis\", \"annotate\", \"annotation\", \"answer\", \"application\", \"application\", \"apply\", \"arabic\", \"architecture\", \"architecture\", \"art\", \"assist\", \"automatic\", \"automatically\", \"automation\", \"base\", \"base\", \"base\", \"base\", \"base\", \"base\", \"biomedical\", \"biomedicine\", \"broad\", \"build\", \"business\", \"cancer\", \"capture\", \"care\", \"care\", \"case\", \"challenge\", \"challenge\", \"chinese\", \"claim\", \"classification\", \"clinical\", \"clinical\", \"clinical\", \"clinical\", \"cluster\", \"comparison\", \"comprehensive\", \"compute\", \"computer\", \"construction\", \"context\", \"context\", \"convolution\", \"convolutional\", \"coverage\", \"current\", \"customize\", \"datum\", \"decision\", \"deep\", \"deep\", \"deep\", \"deep\", \"defect\", \"design\", \"detection\", \"detection\", \"detection\", \"detection\", \"develop\", \"device\", \"discharge\", \"discharge\", \"document\", \"document\", \"drug\", \"duplicate\", \"efficient\", \"efficiently\", \"ehr\", \"electronic\", \"electronic\", \"electronic\", \"embedding\", \"encode\", \"enforcement\", \"engine\", \"engine\", \"engineer\", \"engineering\", \"english\", \"enhance\", \"evaluate\", \"evaluation\", \"event\", \"exist\", \"extract\", \"extract\", \"extract\", \"extract\", \"extraction\", \"extraction\", \"extraction\", \"facilitate\", \"fake\", \"feasibility\", \"feature\", \"formulation\", \"foundation\", \"future\", \"gene\", \"generate\", \"give\", \"graph\", \"handbook\", \"health\", \"health\", \"historical\", \"home\", \"ideation\", \"incremental\", \"information\", \"information\", \"information\", \"integrate\", \"intelligent\", \"internet\", \"intervention\", \"introduction\", \"iot\", \"issue\", \"issue\", \"knowledge\", \"labeling\", \"language\", \"language\", \"language\", \"language\", \"language\", \"language\", \"language\", \"language\", \"language\", \"language\", \"language\", \"learn\", \"learn\", \"learn\", \"learning\", \"learning\", \"learning\", \"linguistic\", \"literature\", \"literature\", \"lyric\", \"machine\", \"machine\", \"machine\", \"meddra\", \"medical\", \"medical\", \"medical\", \"medical\", \"medicine\", \"medium\", \"medline\", \"mental\", \"metadata\", \"method\", \"method\", \"mining\", \"mining\", \"mining\", \"model\", \"model\", \"model\", \"multitask\", \"natural\", \"natural\", \"natural\", \"natural\", \"natural\", \"natural\", \"natural\", \"natural\", \"natural\", \"natural\", \"natural\", \"network\", \"network\", \"neural\", \"news\", \"nlp\", \"nlp\", \"nlp\", \"nlp\", \"novel\", \"ontological\", \"ontology\", \"opinion\", \"opinion\", \"opportunity\", \"overview\", \"paninian\", \"party\", \"patent\", \"pathology\", \"performance\", \"persona\", \"perspective\", \"phenotypic\", \"pipeline\", \"plagiarism\", \"plan\", \"platform\", \"policy\", \"predict\", \"preference\", \"primary\", \"problem\", \"problem\", \"process\", \"process\", \"processing\", \"processing\", \"processing\", \"processing\", \"processing\", \"processing\", \"processing\", \"processing\", \"processing\", \"processing\", \"processing\", \"product\", \"project\", \"psychiatric\", \"query\", \"question\", \"radiology\", \"recent\", \"recognition\", \"record\", \"report\", \"report\", \"representation\", \"requirement\", \"requirement\", \"research\", \"research\", \"research\", \"respiratory\", \"result\", \"retrieval\", \"review\", \"review\", \"review\", \"review\", \"review\", \"robot\", \"search\", \"second\", \"semantic\", \"semantical\", \"sentiment\", \"sentiment\", \"service\", \"service\", \"significance\", \"social\", \"socially\", \"software\", \"software\", \"software\", \"solution\", \"solution\", \"standardize\", \"state\", \"state\", \"statistic\", \"statistical\", \"string\", \"structured\", \"study\", \"suicidal\", \"suite\", \"summary\", \"summary\", \"support\", \"survey\", \"survey\", \"symptom\", \"syntactic\", \"system\", \"system\", \"system\", \"system\", \"systematic\", \"systematic\", \"teaching\", \"technique\", \"technique\", \"technique\", \"technology\", \"test\", \"text\", \"text\", \"textual\", \"thing\", \"third\", \"tool\", \"tool\", \"tool\", \"toolkit\", \"toolkit\", \"toolkit\", \"topic\", \"transducer\", \"transformer\", \"trend\", \"uml\", \"umls\", \"unified\", \"unified\", \"unstructured\", \"unstructured\", \"use\", \"use\", \"use\", \"use\", \"use\", \"use\", \"use\", \"user\", \"utilisation\", \"voice\", \"web\", \"web\", \"web\", \"whisper\", \"word\", \"year\"]}, \"R\": 30, \"lambda.step\": 0.01, \"plot.opts\": {\"xlab\": \"PC1\", \"ylab\": \"PC2\"}, \"topic.order\": [13, 8, 3, 7, 2, 6, 4, 12, 1, 9, 5, 11, 10, 14]};\n",
              "\n",
              "function LDAvis_load_lib(url, callback){\n",
              "  var s = document.createElement('script');\n",
              "  s.src = url;\n",
              "  s.async = true;\n",
              "  s.onreadystatechange = s.onload = callback;\n",
              "  s.onerror = function(){console.warn(\"failed to load library \" + url);};\n",
              "  document.getElementsByTagName(\"head\")[0].appendChild(s);\n",
              "}\n",
              "\n",
              "if(typeof(LDAvis) !== \"undefined\"){\n",
              "   // already loaded: just create the visualization\n",
              "   !function(LDAvis){\n",
              "       new LDAvis(\"#\" + \"ldavis_el1881396275133463524865964773\", ldavis_el1881396275133463524865964773_data);\n",
              "   }(LDAvis);\n",
              "}else if(typeof define === \"function\" && define.amd){\n",
              "   // require.js is available: use it to load d3/LDAvis\n",
              "   require.config({paths: {d3: \"https://cdnjs.cloudflare.com/ajax/libs/d3/3.5.5/d3.min\"}});\n",
              "   require([\"d3\"], function(d3){\n",
              "      window.d3 = d3;\n",
              "      LDAvis_load_lib(\"https://cdn.rawgit.com/bmabey/pyLDAvis/files/ldavis.v1.0.0.js\", function(){\n",
              "        new LDAvis(\"#\" + \"ldavis_el1881396275133463524865964773\", ldavis_el1881396275133463524865964773_data);\n",
              "      });\n",
              "    });\n",
              "}else{\n",
              "    // require.js not available: dynamically load d3 & LDAvis\n",
              "    LDAvis_load_lib(\"https://cdnjs.cloudflare.com/ajax/libs/d3/3.5.5/d3.min.js\", function(){\n",
              "         LDAvis_load_lib(\"https://cdn.rawgit.com/bmabey/pyLDAvis/files/ldavis.v1.0.0.js\", function(){\n",
              "                 new LDAvis(\"#\" + \"ldavis_el1881396275133463524865964773\", ldavis_el1881396275133463524865964773_data);\n",
              "            })\n",
              "         });\n",
              "}\n",
              "</script>"
            ],
            "text/plain": [
              "PreparedData(topic_coordinates=              x         y  topics  cluster       Freq\n",
              "topic                                                \n",
              "12    -0.079359 -0.094244       1        1  19.763981\n",
              "7     -0.139875  0.014646       2        1  19.030780\n",
              "2     -0.072799 -0.017332       3        1  11.146665\n",
              "6     -0.083941 -0.031549       4        1  11.072735\n",
              "1     -0.077492  0.017788       5        1   9.613659\n",
              "5     -0.041845  0.124536       6        1   7.495433\n",
              "3     -0.068610  0.000320       7        1   5.395464\n",
              "11    -0.016923  0.065027       8        1   5.290640\n",
              "0      0.016258 -0.062803       9        1   4.193556\n",
              "8      0.006909  0.001350      10        1   2.587881\n",
              "4      0.057663 -0.020597      11        1   2.361545\n",
              "10     0.181853  0.005126      12        1   1.137734\n",
              "9      0.158983 -0.001091      13        1   0.456555\n",
              "13     0.159177 -0.001178      14        1   0.453372, topic_info=           Term       Freq      Total Category  logprob  loglift\n",
              "1       natural  78.000000  78.000000  Default  30.0000  30.0000\n",
              "0      language  81.000000  81.000000  Default  29.0000  29.0000\n",
              "61  information   5.000000   5.000000  Default  28.0000  28.0000\n",
              "2    processing  76.000000  76.000000  Default  27.0000  27.0000\n",
              "62    retrieval   3.000000   3.000000  Default  26.0000  26.0000\n",
              "..          ...        ...        ...      ...      ...      ...\n",
              "64      cluster   0.013425   1.408820  Topic14  -5.4424   0.7428\n",
              "63      chinese   0.013425   1.408845  Topic14  -5.4424   0.7428\n",
              "62    retrieval   0.013425   3.391742  Topic14  -5.4424  -0.1358\n",
              "61  information   0.013425   5.493238  Topic14  -5.4424  -0.6180\n",
              "60        topic   0.013425   1.408473  Topic14  -5.4424   0.7430\n",
              "\n",
              "[684 rows x 6 columns], token_table=      Topic      Freq      Term\n",
              "term                           \n",
              "211       3  0.699025  abstract\n",
              "16        4  0.700392   acquire\n",
              "186       3  0.468755    active\n",
              "186       8  0.468755    active\n",
              "190       3  0.699025   advance\n",
              "...     ...       ...       ...\n",
              "161       2  0.317912       web\n",
              "161       4  0.317912       web\n",
              "68        5  0.709800   whisper\n",
              "168       4  0.700392      word\n",
              "176       3  0.699025      year\n",
              "\n",
              "[344 rows x 3 columns], R=30, lambda_step=0.01, plot_opts={'xlab': 'PC1', 'ylab': 'PC2'}, topic_order=[13, 8, 3, 7, 2, 6, 4, 12, 1, 9, 5, 11, 10, 14])"
            ]
          },
          "metadata": {
            "tags": []
          },
          "execution_count": 136
        }
      ]
    },
    {
      "cell_type": "markdown",
      "metadata": {
        "id": "mR4VFgJSD018"
      },
      "source": [
        "# Summarization of LDA Topics\n",
        "\n",
        "\n",
        "\n",
        "1. Using NLP to extract solution for Medical Plagarism\n",
        "2. Computer unified assistance for statistical biomedicine architecture\n",
        "3. Processing medical information using NLP\n",
        "4. Retrieving information efficiently using customized linguistics\n",
        "5. Generating current engineering software models using NLP\n",
        "6. NLP for text mining in helath and medicine industry\n",
        "7. Base for Art labelling platform technique using NLP\n",
        "8. NLP for extracting and Reviewing application techniques\n",
        "9. NLP for machine based syntactic feature recognition\n",
        "10. NLP toolkit for sentiment and opinion review analysis\n",
        "11. Extarcting information from radiology infant pnuemonia\n",
        "12. Retrieving defetcts of surveys\n",
        "13. Evaluating challenges of clinical records\n",
        "14. Extracting reviews from clinical systems\n"
      ]
    },
    {
      "cell_type": "markdown",
      "metadata": {
        "id": "o2kxqJWOozvY"
      },
      "source": [
        "## (2) (8 points) Generate K topics by using LSA, the number of topics K should be decided by the coherence score, then summarize what are the topics. You may refer the code here:\n",
        "\n",
        "https://www.datacamp.com/community/tutorials/discovering-hidden-topics-python"
      ]
    },
    {
      "cell_type": "markdown",
      "metadata": {
        "id": "OqM-f-7gCQRx"
      },
      "source": [
        "**Importing LSA model**"
      ]
    },
    {
      "cell_type": "code",
      "metadata": {
        "id": "K5QiTjV4iD6L"
      },
      "source": [
        "from gensim.models import LsiModel"
      ],
      "execution_count": null,
      "outputs": []
    },
    {
      "cell_type": "markdown",
      "metadata": {
        "id": "4sCuoPiICY3s"
      },
      "source": [
        "**Bulding Model**"
      ]
    },
    {
      "cell_type": "code",
      "metadata": {
        "id": "FyUY9vXE1Pfy"
      },
      "source": [
        "lsamodel = LsiModel(corpus, 20, id2word)"
      ],
      "execution_count": null,
      "outputs": []
    },
    {
      "cell_type": "markdown",
      "metadata": {
        "id": "88xszwCQCb02"
      },
      "source": [
        "**Computing coherence value for LSA**"
      ]
    },
    {
      "cell_type": "code",
      "metadata": {
        "id": "KIYs-njy1iGH"
      },
      "source": [
        "def compute_coherence_values_lsi(dictionary, doc_term_matrix, doc_clean, stop, start=2, step=3):\n",
        "    coherence_values = []\n",
        "    model_list = []\n",
        "    for num_topics in range(start, stop, step):\n",
        "        # generate LSA model\n",
        "        model = LsiModel(doc_term_matrix, num_topics=20, id2word = dictionary)\n",
        "        model_list.append(model)\n",
        "        coherencemodel = CoherenceModel(model=model, texts=doc_clean, dictionary=dictionary, coherence='c_v')\n",
        "        coherence_values.append(coherencemodel.get_coherence())\n",
        "    return model_list, coherence_values"
      ],
      "execution_count": null,
      "outputs": []
    },
    {
      "cell_type": "code",
      "metadata": {
        "id": "5lT2wX-8BA8r",
        "colab": {
          "base_uri": "https://localhost:8080/",
          "height": 279
        },
        "outputId": "367edd48-30c5-4960-e9a7-dd4a4277c3e6"
      },
      "source": [
        "start,stop,step=2,60,6\n",
        "model_list_lsa, coherence_values_lsa = compute_coherence_values_lsi(id2word, corpus,after_lemmatization,stop, start, step)\n",
        "x = range(start, stop, step)\n",
        "plt.plot(x, coherence_values)\n",
        "plt.xlabel(\"Number of Topics\")\n",
        "plt.ylabel(\"Coherence score\")\n",
        "plt.legend((\"coherence_values\"), loc='best')\n",
        "plt.show()"
      ],
      "execution_count": null,
      "outputs": [
        {
          "output_type": "display_data",
          "data": {
            "image/png": "[encoded data removed]",
            "text/plain": [
              "<Figure size 432x288 with 1 Axes>"
            ]
          },
          "metadata": {
            "tags": [],
            "needs_background": "light"
          }
        }
      ]
    },
    {
      "cell_type": "code",
      "metadata": {
        "id": "UAiOkPNY1n6Z",
        "colab": {
          "base_uri": "https://localhost:8080/",
          "height": 185
        },
        "outputId": "c84bf2f2-8e6d-46ce-a4e2-3f1fbb6d1ffc"
      },
      "source": [
        "for no_of_topics, cv in zip(range(2, 60, 6), coherence_values_lsa):\n",
        "  print(\"Num Topics:\", no_of_topics, \" - Coherence Value:\", round(cv, 4))"
      ],
      "execution_count": null,
      "outputs": [
        {
          "output_type": "stream",
          "text": [
            "Num Topics: 2  - Coherence Value: 0.4425\n",
            "Num Topics: 8  - Coherence Value: 0.4255\n",
            "Num Topics: 14  - Coherence Value: 0.4335\n",
            "Num Topics: 20  - Coherence Value: 0.4505\n",
            "Num Topics: 26  - Coherence Value: 0.4255\n",
            "Num Topics: 32  - Coherence Value: 0.4335\n",
            "Num Topics: 38  - Coherence Value: 0.4255\n",
            "Num Topics: 44  - Coherence Value: 0.4505\n",
            "Num Topics: 50  - Coherence Value: 0.4335\n",
            "Num Topics: 56  - Coherence Value: 0.4335\n"
          ],
          "name": "stdout"
        }
      ]
    },
    {
      "cell_type": "markdown",
      "metadata": {
        "id": "_l2QWd8sChMR"
      },
      "source": [
        "**Printing Topics**"
      ]
    },
    {
      "cell_type": "code",
      "metadata": {
        "id": "Szv_hgeA2McV",
        "colab": {
          "base_uri": "https://localhost:8080/",
          "height": 1000
        },
        "outputId": "10f4ef0b-be81-4d01-bfe3-532d47ed8e0f"
      },
      "source": [
        "pprint(lsamodel.print_topics())"
      ],
      "execution_count": null,
      "outputs": [
        {
          "output_type": "stream",
          "text": [
            "[(0,\n",
            "  '0.584*\"language\" + 0.558*\"natural\" + 0.550*\"processing\" + 0.098*\"use\" + '\n",
            "  '0.057*\"system\" + 0.054*\"base\" + 0.043*\"clinical\" + 0.042*\"nlp\" + '\n",
            "  '0.041*\"review\" + 0.041*\"information\"'),\n",
            " (1,\n",
            "  '-0.764*\"use\" + 0.192*\"base\" + -0.177*\"technique\" + -0.176*\"extract\" + '\n",
            "  '-0.162*\"nlp\" + -0.150*\"report\" + -0.145*\"detection\" + -0.122*\"process\" + '\n",
            "  '0.121*\"clinical\" + 0.113*\"language\"'),\n",
            " (2,\n",
            "  '0.398*\"extract\" + 0.335*\"medical\" + -0.289*\"base\" + 0.272*\"electronic\" + '\n",
            "  '0.267*\"clinical\" + 0.189*\"record\" + 0.182*\"information\" + 0.162*\"datum\" + '\n",
            "  '0.152*\"result\" + 0.152*\"prostate\"'),\n",
            " (3,\n",
            "  '-0.575*\"system\" + -0.395*\"review\" + -0.204*\"systematic\" + 0.158*\"base\" + '\n",
            "  '-0.152*\"opinion\" + -0.145*\"information\" + 0.135*\"text\" + -0.135*\"mining\" + '\n",
            "  '-0.123*\"unstructured\" + -0.119*\"nlp\"'),\n",
            " (4,\n",
            "  '0.447*\"base\" + 0.247*\"text\" + 0.214*\"health\" + 0.198*\"system\" + '\n",
            "  '0.194*\"medical\" + 0.192*\"nlp\" + 0.156*\"extract\" + 0.155*\"electronic\" + '\n",
            "  '0.148*\"ideation\" + 0.148*\"suicidal\"'),\n",
            " (5,\n",
            "  '-0.426*\"nlp\" + 0.358*\"system\" + -0.266*\"review\" + -0.234*\"process\" + '\n",
            "  '-0.201*\"technique\" + -0.184*\"requirement\" + 0.174*\"processing\" + '\n",
            "  '-0.159*\"model\" + 0.131*\"method\" + -0.129*\"sentiment\"'),\n",
            " (6,\n",
            "  '0.385*\"information\" + -0.287*\"system\" + -0.258*\"nlp\" + 0.251*\"review\" + '\n",
            "  '-0.214*\"process\" + 0.194*\"retrieval\" + 0.186*\"systematic\" + 0.169*\"health\" '\n",
            "  '+ 0.142*\"processing\" + -0.136*\"medical\"'),\n",
            " (7,\n",
            "  '-0.381*\"base\" + 0.293*\"mining\" + -0.259*\"clinical\" + -0.239*\"information\" + '\n",
            "  '0.239*\"text\" + 0.166*\"processing\" + 0.155*\"health\" + -0.152*\"detection\" + '\n",
            "  '-0.143*\"automate\" + 0.140*\"opinion\"'),\n",
            " (8,\n",
            "  '-0.442*\"clinical\" + 0.384*\"information\" + 0.242*\"extract\" + '\n",
            "  '0.227*\"retrieval\" + 0.216*\"deep\" + -0.184*\"challenge\" + -0.183*\"toolkit\" + '\n",
            "  '0.155*\"base\" + -0.129*\"detection\" + 0.119*\"learn\"'),\n",
            " (9,\n",
            "  '-0.403*\"process\" + 0.323*\"processing\" + -0.248*\"text\" + 0.221*\"extraction\" '\n",
            "  '+ -0.185*\"language\" + -0.164*\"survey\" + -0.150*\"system\" + 0.148*\"nlp\" + '\n",
            "  '-0.140*\"semantical\" + -0.140*\"representation\"'),\n",
            " (10,\n",
            "  '-0.312*\"information\" + 0.265*\"software\" + -0.260*\"retrieval\" + '\n",
            "  '0.258*\"review\" + 0.249*\"application\" + 0.243*\"learning\" + '\n",
            "  '0.212*\"literature\" + -0.203*\"nlp\" + 0.178*\"systematic\" + '\n",
            "  '0.174*\"requirement\"'),\n",
            " (11,\n",
            "  '-0.351*\"deep\" + -0.338*\"clinical\" + -0.238*\"learn\" + 0.238*\"extraction\" + '\n",
            "  '-0.202*\"network\" + -0.174*\"architecture\" + -0.174*\"unified\" + 0.163*\"tool\" '\n",
            "  '+ 0.159*\"datum\" + -0.145*\"multitask\"'),\n",
            " (12,\n",
            "  '0.277*\"summary\" + 0.277*\"discharge\" + 0.253*\"detection\" + 0.239*\"review\" + '\n",
            "  '0.211*\"tool\" + 0.206*\"extraction\" + -0.194*\"learning\" + 0.188*\"deep\" + '\n",
            "  '0.164*\"learn\" + 0.164*\"unified\"'),\n",
            " (13,\n",
            "  '-0.335*\"software\" + -0.231*\"service\" + -0.207*\"care\" + 0.200*\"learning\" + '\n",
            "  '-0.199*\"primary\" + -0.199*\"year\" + -0.199*\"respiratory\" + '\n",
            "  '-0.199*\"utilisation\" + 0.194*\"detection\" + 0.168*\"mining\"'),\n",
            " (14,\n",
            "  '0.288*\"active\" + 0.225*\"machine\" + 0.223*\"unstructured\" + '\n",
            "  '0.211*\"literature\" + 0.202*\"survey\" + 0.193*\"context\" + 0.191*\"nlp\" + '\n",
            "  '0.182*\"learning\" + 0.175*\"health\" + 0.171*\"solution\"'),\n",
            " (15,\n",
            "  '0.350*\"tool\" + 0.249*\"requirement\" + 0.232*\"model\" + 0.224*\"technique\" + '\n",
            "  '-0.195*\"process\" + -0.179*\"research\" + -0.176*\"report\" + -0.176*\"detection\" '\n",
            "  '+ 0.174*\"extract\" + 0.149*\"generate\"'),\n",
            " (16,\n",
            "  '-0.204*\"research\" + 0.198*\"care\" + 0.183*\"mining\" + -0.181*\"report\" + '\n",
            "  '0.160*\"process\" + 0.158*\"survey\" + 0.151*\"information\" + '\n",
            "  '-0.146*\"requirement\" + 0.144*\"service\" + 0.136*\"retrieval\"'),\n",
            " (17,\n",
            "  '-0.217*\"control\" + 0.201*\"nlp\" + -0.197*\"home\" + -0.197*\"voice\" + '\n",
            "  '-0.197*\"automation\" + -0.197*\"thing\" + -0.197*\"internet\" + -0.197*\"iot\" + '\n",
            "  '-0.182*\"toolkit\" + 0.176*\"detection\"'),\n",
            " (18,\n",
            "  '-0.338*\"problem\" + -0.210*\"efficient\" + -0.210*\"chinese\" + -0.210*\"cluster\" '\n",
            "  '+ -0.210*\"whisper\" + -0.210*\"graph\" + 0.187*\"toolkit\" + 0.167*\"record\" + '\n",
            "  '-0.158*\"extraction\" + -0.142*\"research\"'),\n",
            " (19,\n",
            "  '0.210*\"control\" + 0.192*\"problem\" + -0.185*\"challenge\" + 0.160*\"iot\" + '\n",
            "  '0.160*\"home\" + 0.160*\"internet\" + 0.160*\"thing\" + 0.160*\"automation\" + '\n",
            "  '0.160*\"voice\" + 0.153*\"automate\"')]\n"
          ],
          "name": "stdout"
        }
      ]
    },
    {
      "cell_type": "markdown",
      "metadata": {
        "id": "TOFcU_gQj4R9"
      },
      "source": [
        "# Summarization of LSA Topics\n",
        "\n",
        "1. NLP for clinical review system\n",
        "2. NLP for clinical report detection\n",
        "3. Electronic based medical record extraction using NLP\n",
        "4. Systematic Review of unstructured opinion information using NLP\n",
        "5. Extraction of medical and suicidal elctronic information\n",
        "6. NLP for sentimental review\n",
        "7. NLP for health and sytematic reviews\n",
        "8. Automatic detection and text processing of clinical information\n",
        "9. Clinical information extraction using deep learning\n",
        "10. NLP for semenatical representation of survey text\n",
        "11. Review of information retrieval using NLP\n",
        "12. Clinical architecture extraction\n",
        "13. Summary of detection techniques\n",
        "14. Software for respiratory detection using deep learning\n",
        "15. Machine learning solution for active health survey\n",
        "16. Technique for research process detection\n",
        "17. Retrieval process for research care and information mining\n",
        "18. Home automation control and voice detection using IOT\n",
        "19. Efficient soluiton for chinese cluster and whister graphs using NLP\n",
        "20. Challenges for home automation control using NLP"
      ]
    },
    {
      "cell_type": "markdown",
      "metadata": {
        "id": "10k_6KfIozvb"
      },
      "source": [
        "## (3) (4 points) Compare the results generated by the two topic modeling algorithms, which one is better? You should explain the reasons in details."
      ]
    },
    {
      "cell_type": "markdown",
      "metadata": {
        "id": "egy92114YKy2"
      },
      "source": [
        "Latent Semantic Analysis has lower accuracy than Latent Dirichlet allocation has better accuracy. Here, The Coherence value for optimal number of topics for LSA is 45 where as for LDA is 73. From this we will get to know that Accuracy for LDA is better. LDA has better accuracy that means we can easily generalize LDA model to other new documents. LSA has less interpretability among the topics beacuse of dimensionality reduction where as we interpret topic very easily in LDA. I got 14 topics for LDA which are highly interpretable than 20 topics of LSA. LSA has less efficient representation."
      ]
    }
  ]
}