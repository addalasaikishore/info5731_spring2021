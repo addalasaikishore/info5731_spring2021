{
  "nbformat": 4,
  "nbformat_minor": 0,
  "metadata": {
    "colab": {
      "name": "In_class_exercise_02.ipynb",
      "provenance": [],
      "collapsed_sections": [],
      "include_colab_link": true
    },
    "kernelspec": {
      "display_name": "Python 3",
      "language": "python",
      "name": "python3"
    },
    "language_info": {
      "codemirror_mode": {
        "name": "ipython",
        "version": 3
      },
      "file_extension": ".py",
      "mimetype": "text/x-python",
      "name": "python",
      "nbconvert_exporter": "python",
      "pygments_lexer": "ipython3",
      "version": "3.8.5"
    }
  },
  "cells": [
    {
      "cell_type": "markdown",
      "metadata": {
        "id": "view-in-github",
        "colab_type": "text"
      },
      "source": [
        "<a href=\"https://colab.research.google.com/github/addalasaikishore/info5731_spring2021/blob/main/In_class_exercisekishore_02.ipynb\" target=\"_parent\"><img src=\"https://colab.research.google.com/assets/colab-badge.svg\" alt=\"Open In Colab\"/></a>"
      ]
    },
    {
      "cell_type": "markdown",
      "metadata": {
        "id": "oo5bsEh2eeWi"
      },
      "source": [
        "# **The second In-class-exercise (1/27/2021, 20 points in total)**\n"
      ]
    },
    {
      "cell_type": "markdown",
      "metadata": {
        "id": "2sPQ58dIeqgp"
      },
      "source": [
        "(1) Write a Python program to find the duplicate elements in a given array of integers. Return -1 If there are no such elements. (4 points)"
      ]
    },
    {
      "cell_type": "code",
      "metadata": {
        "colab": {
          "base_uri": "https://localhost:8080/"
        },
        "id": "mnrvKMFTeoJR",
        "outputId": "4174aa71-ca77-41b8-d1d8-db6cc1bbb833"
      },
      "source": [
        "# write your answer here\n",
        "def find_first_duplicate(nums):\n",
        "    num_set = set()\n",
        "    no_duplicate = -1\n",
        "\n",
        "    for i in range(len(nums)):\n",
        "\n",
        "        if nums[i] in num_set:\n",
        "            return nums[i]\n",
        "        else:\n",
        "            num_set.add(nums[i])\n",
        "\n",
        "    return no_duplicate\n",
        "\n",
        "print(find_first_duplicate([1, 2, 3, 4, 4, 5]))\n",
        "print(find_first_duplicate([1, 2, 3, 4]))\n",
        "print(find_first_duplicate([1, 1, 2, 3, 3, 2, 2]))\n",
        "\n",
        "            \n",
        "            \n",
        "\n"
      ],
      "execution_count": 2,
      "outputs": [
        {
          "output_type": "stream",
          "text": [
            "4\n",
            "-1\n",
            "1\n"
          ],
          "name": "stdout"
        }
      ]
    },
    {
      "cell_type": "markdown",
      "metadata": {
        "id": "YYrH6n6IhZoQ"
      },
      "source": [
        "(2) Write a Python program to select all the Sundays of a specified year. (4 points)\n",
        "\n"
      ]
    },
    {
      "cell_type": "code",
      "metadata": {
        "id": "OSfPLd23eLpX",
        "outputId": "b2b05846-5296-44ec-8a16-4486a7b15cc1"
      },
      "source": [
        "# write your answer here\n",
        "from datetime import date, timedelta\n",
        "\n",
        "def all_sundays(year):\n",
        "       dt = date(year, 1, 1)     \n",
        "       dt += timedelta(days = 6 - dt.weekday())  \n",
        "       while dt.year == year:\n",
        "          yield dt\n",
        "          dt += timedelta(days = 7)\n",
        "          \n",
        "for s in all_sundays(2021):\n",
        " print(s)\n",
        "\n",
        "\n"
      ],
      "execution_count": null,
      "outputs": [
        {
          "output_type": "stream",
          "text": [
            "2021-01-03\n",
            "2021-01-10\n",
            "2021-01-17\n",
            "2021-01-24\n",
            "2021-01-31\n",
            "2021-02-07\n",
            "2021-02-14\n",
            "2021-02-21\n",
            "2021-02-28\n",
            "2021-03-07\n",
            "2021-03-14\n",
            "2021-03-21\n",
            "2021-03-28\n",
            "2021-04-04\n",
            "2021-04-11\n",
            "2021-04-18\n",
            "2021-04-25\n",
            "2021-05-02\n",
            "2021-05-09\n",
            "2021-05-16\n",
            "2021-05-23\n",
            "2021-05-30\n",
            "2021-06-06\n",
            "2021-06-13\n",
            "2021-06-20\n",
            "2021-06-27\n",
            "2021-07-04\n",
            "2021-07-11\n",
            "2021-07-18\n",
            "2021-07-25\n",
            "2021-08-01\n",
            "2021-08-08\n",
            "2021-08-15\n",
            "2021-08-22\n",
            "2021-08-29\n",
            "2021-09-05\n",
            "2021-09-12\n",
            "2021-09-19\n",
            "2021-09-26\n",
            "2021-10-03\n",
            "2021-10-10\n",
            "2021-10-17\n",
            "2021-10-24\n",
            "2021-10-31\n",
            "2021-11-07\n",
            "2021-11-14\n",
            "2021-11-21\n",
            "2021-11-28\n",
            "2021-12-05\n",
            "2021-12-12\n",
            "2021-12-19\n",
            "2021-12-26\n"
          ],
          "name": "stdout"
        }
      ]
    },
    {
      "cell_type": "markdown",
      "metadata": {
        "id": "UIpziZ6Sjie-"
      },
      "source": [
        "(3) Python files reading and writing. Download the “[exercise_02_data _collection.zip](https://github.com/unt-iialab/info5731_spring2021/blob/main/class_exercises/exercise_02_data_collection.zip)” to your local and un-zip it.\n",
        "\n",
        "*   Write a program to read all the txt files and save the sentences in all the files into one csv file with two columns, the first column is sentence id (txt file name+sentence line number), the second column is the sentence text content. (4 points)\n",
        "*   Remove all the punctuations from the sentences, save the processed sentences into a new column in the same csv file. (4 points)\n",
        "*   Ask the user to enter a word, return all the sentences that include this word, three kinds of information should be returned: sentence id, sentence text content, the count that user input word appear in the sentence. (4 points)\n",
        "\n"
      ]
    },
    {
      "cell_type": "markdown",
      "metadata": {
        "id": "-12cqmJEpZOh"
      },
      "source": [
        "(4) Install packages nltk, numpy, scipy, pandas, and sklearn on Google Colab. Write a program to test whether they are installed successfully. (3 points for extra)"
      ]
    },
    {
      "cell_type": "code",
      "metadata": {
        "id": "jjOtO4En5odJ"
      },
      "source": [
        "\r\n",
        "\r\n",
        "# 3.1\r\n",
        "\r\n",
        "import csv\r\n",
        "with open(\"sheet.1csv\",\"w\") as output_file:\r\n",
        "    line_output = csv.writer(output_file,delimiter=',')\r\n",
        "    i = 1\r\n",
        "    while i <= 100: \r\n",
        "        input_file_name = \"Assign-two-data-collection//\"+\"ARTHROTEC.\"+str(i)+\".txt\"\r\n",
        "        output_line_name = \"ARTHROTEC.\"+str(i)\r\n",
        "        input_file = open(input_file_name).read() \r\n",
        "        sentences = input_file.split('\\n') \r\n",
        "        for x in sentences: \r\n",
        "            if x == '':\r\n",
        "                sentences.remove(x) \r\n",
        "        for x in sentences:\r\n",
        "            sentence_id = output_line_name+\" - line \"+str(sentences.index(x)+1) \r\n",
        "#             print(sentence_id)\r\n",
        "            line_output.writerow([sentence_id,x]) \r\n",
        "        i += 1 \r\n",
        "\r\n",
        "#  3.2:\r\n",
        "\r\n",
        "import csv\r\n",
        "import re\r\n",
        "temp_data = [] \r\n",
        "with open(\"sheet.1csv\",'r') as input_file:\r\n",
        "    file_reader = csv.reader(input_file) \r\n",
        "    for row in file_reader: \r\n",
        "        clean_line = re.sub(r\"[^a-zA-Z\\s\\']\",\"\",row[1]) \r\n",
        "        clean_line = re.sub(\"\\s\\s\",\" \",clean_line) \r\n",
        "        row.append(clean_line) \r\n",
        "        temp_data.append(row) \r\n",
        "with open(\"output.csv\",\"w\") as output_file:\r\n",
        "    file_writer = csv.writer(output_file,delimiter=',') \r\n",
        "    file_writer.writerows(temp_data) \r\n",
        "\r\n",
        "# 3.3\r\n",
        "\r\n",
        "import csv\r\n",
        "import re\r\n",
        "user_input = input(\"Enter a word: \") \r\n",
        "with open(\"output.csv\",'r') as input_file:\r\n",
        "    file_reader = csv.reader(input_file) \r\n",
        "    for row in file_reader: \r\n",
        "        search_term = \" \"+user_input+\" \"\r\n",
        "        if search_term in row[2]:\r\n",
        "            found_words = re.findall(search_term,row[2])\r\n",
        "            print(row[0],row[1],len(found_words))"
      ],
      "execution_count": null,
      "outputs": []
    },
    {
      "cell_type": "code",
      "metadata": {
        "colab": {
          "base_uri": "https://localhost:8080/"
        },
        "id": "f1pn1Zl2qK77",
        "outputId": "802822df-5190-4b1c-9b2d-fdd52c31f13a"
      },
      "source": [
        "# write your answer here\n",
        "\n",
        "\n",
        "!pip install nltk\n",
        "!pip install numpy\n",
        "!pip install scipy\n",
        "!pip install pandas\n",
        "!pip install scikit-learn\n",
        "\n",
        "\n",
        "\n"
      ],
      "execution_count": 4,
      "outputs": [
        {
          "output_type": "stream",
          "text": [
            "Requirement already satisfied: nltk in /usr/local/lib/python3.6/dist-packages (3.2.5)\n",
            "Requirement already satisfied: six in /usr/local/lib/python3.6/dist-packages (from nltk) (1.15.0)\n",
            "Requirement already satisfied: numpy in /usr/local/lib/python3.6/dist-packages (1.19.5)\n",
            "Requirement already satisfied: scipy in /usr/local/lib/python3.6/dist-packages (1.4.1)\n",
            "Requirement already satisfied: numpy>=1.13.3 in /usr/local/lib/python3.6/dist-packages (from scipy) (1.19.5)\n",
            "Requirement already satisfied: pandas in /usr/local/lib/python3.6/dist-packages (1.1.5)\n",
            "Requirement already satisfied: python-dateutil>=2.7.3 in /usr/local/lib/python3.6/dist-packages (from pandas) (2.8.1)\n",
            "Requirement already satisfied: numpy>=1.15.4 in /usr/local/lib/python3.6/dist-packages (from pandas) (1.19.5)\n",
            "Requirement already satisfied: pytz>=2017.2 in /usr/local/lib/python3.6/dist-packages (from pandas) (2018.9)\n",
            "Requirement already satisfied: six>=1.5 in /usr/local/lib/python3.6/dist-packages (from python-dateutil>=2.7.3->pandas) (1.15.0)\n",
            "Requirement already satisfied: scikit-learn in /usr/local/lib/python3.6/dist-packages (0.22.2.post1)\n",
            "Requirement already satisfied: numpy>=1.11.0 in /usr/local/lib/python3.6/dist-packages (from scikit-learn) (1.19.5)\n",
            "Requirement already satisfied: scipy>=0.17.0 in /usr/local/lib/python3.6/dist-packages (from scikit-learn) (1.4.1)\n",
            "Requirement already satisfied: joblib>=0.11 in /usr/local/lib/python3.6/dist-packages (from scikit-learn) (1.0.0)\n"
          ],
          "name": "stdout"
        }
      ]
    },
    {
      "cell_type": "code",
      "metadata": {
        "id": "l_x4YVLu45SO"
      },
      "source": [
        "#\r\n",
        "from nltk.tokenize import TweetTokenizer\r\n",
        "tknzr = TweetTokenizer()\r\n",
        "s0 = \"This is a cooool #dummysmiley: :-) :-P <3 and some arrows < > -> <--\"\r\n",
        "print(tknzr.tokenize(s0))\r\n",
        "print(\"########################################################################\")\r\n",
        "\r\n",
        "#  numpy \r\n",
        "import numpy as np\r\n",
        "random_sample = np.random.random_sample()\r\n",
        "print(random_sample)\r\n",
        "print(\"########################################################################\")\r\n",
        "\r\n",
        "#  scipy\r\n",
        "import numpy as np\r\n",
        "from scipy.optimize import minimize\r\n",
        "def rosen(x):\r\n",
        "  \"\"\"The Rosenbrock function\"\"\"\r\n",
        "  return sum(100.0*(x[1:]-x[:-1]**2.0)**2.0 + (1-x[:-1])**2.0)\r\n",
        "x0 = np.array([1.3, 0.7, 0.8, 1.9, 1.2])\r\n",
        "res = minimize(rosen, x0, method='nelder-mead', options={'xatol': 1e-8, 'disp': True})\r\n",
        "print(res)\r\n",
        "print(\"########################################################################\")\r\n",
        "\r\n",
        "#  pandas\r\n",
        "import pandas as pd\r\n",
        "d = {'col1': [1, 2], 'col2': [3, 4]}\r\n",
        "df = pd.DataFrame(data=d)\r\n",
        "print(df)\r\n",
        "print(\"########################################################################\")"
      ],
      "execution_count": null,
      "outputs": []
    }
  ]
}