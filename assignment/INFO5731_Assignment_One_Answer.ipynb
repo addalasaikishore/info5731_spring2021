{
 "cells": [
  {
   "cell_type": "markdown",
   "metadata": {
    "colab_type": "text",
    "id": "view-in-github"
   },
   "source": [
    "<a href=\"https://colab.research.google.com/github/unt-iialab/INFO5731_Spring2020/blob/master/Assignments/INFO5731_Assignment_One_Answer.ipynb\" target=\"_parent\"><img src=\"https://colab.research.google.com/assets/colab-badge.svg\" alt=\"Open In Colab\"/></a>"
   ]
  },
  {
   "cell_type": "markdown",
   "metadata": {
    "colab_type": "text",
    "id": "Ryk8D1Q4Wsrp"
   },
   "source": [
    "# **INFO5731 Assignment One Answer**"
   ]
  },
  {
   "cell_type": "markdown",
   "metadata": {
    "colab_type": "text",
    "id": "90_NR8c5XGWc"
   },
   "source": [
    "# Question 1\n",
    "\n",
    "(20 points). Write a Python program to generate 12 random numbers between 1 and 100. Sort the list of numbers in ascending order and print it out. Sort the list of numbers in descending order and print it out. Calculate the average for the group and print it out."
   ]
  },
  {
   "cell_type": "code",
   "execution_count": 0,
   "metadata": {
    "colab": {
     "base_uri": "https://localhost:8080/",
     "height": 51
    },
    "colab_type": "code",
    "id": "5QX6bJjGWXY9",
    "outputId": "d4593eca-fd56-43d1-d605-8d0c3198ac9f"
   },
   "outputs": [
    {
     "name": "stdout",
     "output_type": "stream",
     "text": [
      "[36, 44, 48, 53, 54, 60, 61, 63, 73, 90, 95, 97]\n",
      "Average: 64.5\n"
     ]
    }
   ],
   "source": [
    "# Your code here\n",
    "\n",
    "from random import randrange\n",
    "r = [ randrange(1,100) for i in range(12)]\n",
    "print(sorted(r))\n",
    "average = sum(r)/len(r)\n",
    "print(f\"Average: {average}\")"
   ]
  },
  {
   "cell_type": "markdown",
   "metadata": {
    "colab_type": "text",
    "id": "1F_PZdH9Sh49"
   },
   "source": [
    "# Question 2\n",
    "(25 points). Write a program that will do the following string formatting tasks:\n",
    "\n",
    "(1) Ask the user to enter two sentences.\n",
    "\n",
    "(2) Make each sentence into a list. Each element in the list should correspond to a word in the sentence. For example, if the sentence is \"Alas! Am I alive? This is my first python program\", the program should print out ['Alas, '!', 'Am', 'I', 'alive, '?', 'This', 'is', 'my', 'first', 'python', 'program'].\n",
    "\n",
    "(3) Compare the two sentences. Print out a list of words that occur in both sentences.\n",
    "\n",
    "(4) Remove any punctuation from the sentence and print it back out. It should remove at least the following characters, but it can remove more: period(“.”), comma (“,”), semicolon (“;”), and colon (“:”)\n",
    "\n",
    "(5) Count the number of vowels in the sentences. Print out each vowel and the number of times it appears in the sentences, such as: a:2, e:1, i:0, etc"
   ]
  },
  {
   "cell_type": "code",
   "execution_count": 0,
   "metadata": {
    "colab": {
     "base_uri": "https://localhost:8080/",
     "height": 394
    },
    "colab_type": "code",
    "id": "Y0oOSlsOS0cq",
    "outputId": "c53566e8-42fa-41bb-f58c-1229077f6aac"
   },
   "outputs": [
    {
     "name": "stdout",
     "output_type": "stream",
     "text": [
      "Enter a sentence: All the parts of this question are worth\n",
      "Enter another sentence: Sort the list of numbers in descending order and print it out. Calculate the average for the group and print it out\n",
      "You entered first sentence:  All the parts of this question are worth\n",
      "You entered second sentence:  Sort the list of numbers in descending order and print it out. Calculate the average for the group and print it out\n",
      "The first sentence you entered, formatted as a list is:  ['All', 'the', 'parts', 'of', 'this', 'question', 'are', 'worth']\n",
      "The second sentence you entered, formatted as a list is:  ['Sort', 'the', 'list', 'of', 'numbers', 'in', 'descending', 'order', 'and', 'print', 'it', 'out.', 'Calculate', 'the', 'average', 'for', 'the', 'group', 'and', 'print', 'it', 'out']\n",
      "The common words are:  {'the', 'of'}\n",
      "The sentence you entered without punctuation is:   All the parts of this question are worth\n",
      "The sentence you entered without punctuation is:   Sort the list of numbers in descending order and print it out Calculate the average for the group and print it out\n",
      "First sentence vowels:\n",
      "a : 3\n",
      "e : 3\n",
      "i : 2\n",
      "o : 3\n",
      "u : 1\n",
      "Second sentence vowels:\n",
      "a : 3\n",
      "e : 3\n",
      "i : 2\n",
      "o : 3\n",
      "u : 1\n"
     ]
    }
   ],
   "source": [
    "# Your code here\n",
    "\n",
    "import string\t\t\t\n",
    "import math\t\t\t\t\n",
    "import collections\t\t\n",
    "\n",
    "#Have the user enter a random sentence\n",
    "user_input=input(\"Enter a sentence: \")\t\n",
    "user_input1=input(\"Enter another sentence: \")\n",
    "\n",
    "print(\"You entered first sentence: \", user_input)\n",
    "print(\"You entered second sentence: \", user_input1)\n",
    "\n",
    "#splitting the sentence and storing it into a list\n",
    "sentence_list = user_input.split()\n",
    "print(\"The first sentence you entered, formatted as a list is: \", sentence_list)\n",
    "sentence_list1 = user_input1.split()\n",
    "print(\"The second sentence you entered, formatted as a list is: \", sentence_list1)\n",
    "\n",
    "common_words = set(sentence_list) & set(sentence_list1)\n",
    "print(\"The common words are: \", common_words)\n",
    "\n",
    "#The string.punctuation module contains the most common punctuation marks in English\n",
    "mark=set(string.punctuation)\n",
    "#For each item in the list check if is is a punctuation and print the letter and discard the punctuation\t\n",
    "\n",
    "def punctuation(x):\n",
    "  sentence_no_punctuation = \" \"\n",
    "  for letter in x:\n",
    "\t  if letter not in mark:\n",
    "\t\t  sentence_no_punctuation=sentence_no_punctuation + letter\n",
    "  print(\"The sentence you entered without punctuation is: \", sentence_no_punctuation)\n",
    "punctuation(user_input)\n",
    "\n",
    "punctuation(user_input1)\n",
    "\n",
    "vowels=\"aeiou\"\n",
    "print(\"First sentence vowels:\")\n",
    "def vowel(x):\n",
    "  for x in vowels:\n",
    "    print (x,\":\", user_input.lower().count(x))\n",
    "vowel(user_input)\n",
    "print(\"Second sentence vowels:\")\n",
    "vowel(user_input1)"
   ]
  },
  {
   "cell_type": "markdown",
   "metadata": {
    "colab_type": "text",
    "id": "CmFoI4jDS9nx"
   },
   "source": [
    "# Question 3 \n",
    "\n",
    "(15 points). The formula that describes the volume V of a sphere with radius r is the following:\n",
    "\n",
    "$ V=\\frac{4}{3}\\ast\\ \\pi\\ast\\ r^3 $\n",
    "\n",
    "Write a program to calculate the value of V when r is in the range of 1–10. Output the result in the following format:\n",
    "\n",
    "\tr\tV\n",
    "\t1\t…\n",
    "\t2\t…\n",
    "\t3\t…\n"
   ]
  },
  {
   "cell_type": "code",
   "execution_count": 0,
   "metadata": {
    "colab": {
     "base_uri": "https://localhost:8080/",
     "height": 204
    },
    "colab_type": "code",
    "id": "pEyqeioAT95b",
    "outputId": "7e1f59d2-c00d-4a8a-c172-4b3b0ec72a02"
   },
   "outputs": [
    {
     "name": "stdout",
     "output_type": "stream",
     "text": [
      "r\t V\n",
      "1 \t 4.1888\n",
      "2 \t 33.5103\n",
      "3 \t 113.0973\n",
      "4 \t 268.0826\n",
      "5 \t 523.5988\n",
      "6 \t 904.7787\n",
      "7 \t 1436.755\n",
      "8 \t 2144.6606\n",
      "9 \t 3053.6281\n",
      "10 \t 4188.7902\n"
     ]
    }
   ],
   "source": [
    "# Your code here\n",
    "\n",
    "import math\n",
    "# Definiion of volume equation\n",
    "def volume(radius):\n",
    "    return (4/3)*math.pi*(radius**3)\n",
    "\n",
    "print(\"r\\t V\")\n",
    "r=1\n",
    "# Loop to print volume for radius range 1-10\n",
    "while r <= 10:\n",
    "    print(r,\"\\t\",round(volume(r),4))\n",
    "    r += 1"
   ]
  },
  {
   "cell_type": "markdown",
   "metadata": {
    "colab_type": "text",
    "id": "z3tBE7E-Xn5X"
   },
   "source": [
    "# Question 4\n",
    "\n",
    "(40 points). In the field of Data Science, data is often formatted as a comma-delimited (CSV) file, where each line in a file corresponds to a field's value. Refer to Chapter 9 (p. 106) for more information on comma-delimited files. To answer this question, you will need to download the file [Assignment1_denton_housing.csv](https://github.com/unt-iialab/INFO5731_Spring2020/blob/master/Assignments/Assignment1_denton_housing.csv) included with this assignment. The [file Assignment1_denton_housing.csv](https://github.com/unt-iialab/INFO5731_Spring2020/blob/master/Assignments/Assignment1_denton_housing.csv) contains statistics about housing in the city of Denton from 2008 to 2014. Write a program to implement the following questions.\n",
    "\n",
    "(1) (10 pts) Calculate the difference in the number of Occupied Housing Units from year to year and print it. The difference must be calculated for the consecutive years such as 2008-2009, 2009-2010 etc. Finally, print the values in the ascending order.\n",
    "\n",
    "(2) (10 pts) For all the years, calculate the percentage of housing units which are vacant an occupied. Print the results in the following format:\n",
    "\n",
    "Year Vacant Housing Units Occupied Housing Units\n",
    "\n",
    "    2008  30%   70%                          \n",
    "\t2009 ----- -----\n",
    "\t2010 ----- -----\n",
    "    2011 ----- -----\n",
    "\t2012 ----- -----\n",
    "    2013 ----- -----\n",
    "\t2014 ----- -----\n",
    "  \n",
    "  \n",
    "\n",
    "(3) (10 pts) Calculate and print the valued and years in which the highest number of housing units were vacant and occupied. Print the results in the following format:  \n",
    "\n",
    "                              Year\tValue\n",
    "\tVacant Housing Units\t  -----   -----\n",
    "\tOccupied Housing Units\t-----   -----\n",
    "\n",
    "(4) (10 pts) Calculate the harmonic mean of the total housing units and print it out. You can find the information about harmonic mean here: https://ncalculators.com/statistics/harmonic-mean-calculator.htm"
   ]
  },
  {
   "cell_type": "markdown",
   "metadata": {
    "colab_type": "text",
    "id": "9z1A83LqoHt-"
   },
   "source": [
    "**Question 4-1**"
   ]
  },
  {
   "cell_type": "code",
   "execution_count": 0,
   "metadata": {
    "colab": {
     "base_uri": "https://localhost:8080/",
     "height": 119
    },
    "colab_type": "code",
    "id": "lqGYuHBhcsRH",
    "outputId": "0a1cb625-7442-4f5c-fb1d-fef8b03f76b1"
   },
   "outputs": [
    {
     "name": "stdout",
     "output_type": "stream",
     "text": [
      "From 2008-2009: -795\n",
      "From 2009-2010: 5091\n",
      "From 2010-2011: -303\n",
      "From 2011-2012: 1404\n",
      "From 2012-2013: 1565\n",
      "From 2013-2014: 2622\n"
     ]
    }
   ],
   "source": [
    "# Your code here\n",
    "\n",
    "import csv\n",
    "housing_units_occupied = {} # Create dictionary to store housing data\n",
    "# Open input file to read data\n",
    "with open(\"/content/Assignment1_denton_housing.csv\",'r') as input_file:\n",
    "    file_reader = csv.reader(input_file) # Create file reading variable \n",
    "    for row in file_reader: # Iterate through the rows to read and store data\n",
    "        if row[1] == \"Occupied Housing Units\": # Store data for occupied housing only\n",
    "            housing_units_occupied[int(row[0])] = int(row[2])\n",
    "unit_diff = {} # Create dictionary to store unit differences\n",
    "year = 2008 # Create year variable as iteration variable\n",
    "while year < 2014: # Loop to calculate unit differences from 2008 to 2014\n",
    "    unit_diff[housing_units_occupied[year+1]-housing_units_occupied[year]] = str(year)+\"-\"+str(year+1)\n",
    "    year+=1 # Increment year by one\n",
    "# Loop to print unit difference values by ascending year\n",
    "for item in unit_diff:\n",
    "    print(\"From\",unit_diff[item]+\":\",item)\n"
   ]
  },
  {
   "cell_type": "markdown",
   "metadata": {
    "colab_type": "text",
    "id": "oRz2T5tVoMB1"
   },
   "source": [
    "**Question 4-2**"
   ]
  },
  {
   "cell_type": "code",
   "execution_count": 0,
   "metadata": {
    "colab": {
     "base_uri": "https://localhost:8080/",
     "height": 153
    },
    "colab_type": "code",
    "id": "1OJLebSaoPzK",
    "outputId": "7dd8e839-16c6-443c-f2e0-fda29d57a433"
   },
   "outputs": [
    {
     "name": "stdout",
     "output_type": "stream",
     "text": [
      "Year\tVacant Housing Units\tOccupied Housing Units\n",
      "2008\t10.9%\t\t\t89.1%\n",
      "2009\t9.1%\t\t\t90.9%\n",
      "2010\t8.1%\t\t\t91.9%\n",
      "2011\t9.4%\t\t\t90.6%\n",
      "2012\t6.7%\t\t\t93.3%\n",
      "2013\t8.8%\t\t\t91.2%\n",
      "2014\t5.7%\t\t\t94.3%\n"
     ]
    }
   ],
   "source": [
    "import csv\n",
    "# Create dictionaries to store housing data\n",
    "housing_units_total = {}\n",
    "housing_units_occupied = {}\n",
    "housing_units_vacant = {}\n",
    "# Open input file to read data\n",
    "with open(\"/content/Assignment1_denton_housing.csv\",'r') as input_file:\n",
    "    file_reader = csv.reader(input_file) # Create file reading variable \n",
    "    for row in file_reader: # Iterate through the rows to read and store data\n",
    "        if row[1] == \"Total Housing Units\": # Store data for total housing\n",
    "            housing_units_total[int(row[0])] = int(row[2])\n",
    "        elif row[1] == \"Occupied Housing Units\": # Store data for occupied housing\n",
    "            housing_units_occupied[int(row[0])] = int(row[2])\n",
    "        elif row[1] == \"Vacant Housing Units\": # Store data for vacant housing\n",
    "            housing_units_vacant[int(row[0])] = int(row[2])\n",
    "year = 2008 # Create year variable as iteration variable\n",
    "print(\"Year\\tVacant Housing Units\\tOccupied Housing Units\") # Print table headers\n",
    "while year <= 2014: # Loop to calculate unit differences from 2008 to 2014\n",
    "    vacant_percent = (housing_units_vacant[year]/housing_units_total[year])*100\n",
    "    occupied_percent = (housing_units_occupied[year]/housing_units_total[year])*100\n",
    "    print(str(year)+\"\\t\"+str(round(vacant_percent,1))+\"%\\t\\t\\t\"+str(round(occupied_percent,1))+\"%\")\n",
    "    year+=1"
   ]
  },
  {
   "cell_type": "markdown",
   "metadata": {
    "colab_type": "text",
    "id": "CJ0_d6QZoY39"
   },
   "source": [
    "**Question 4-3**"
   ]
  },
  {
   "cell_type": "code",
   "execution_count": 0,
   "metadata": {
    "colab": {
     "base_uri": "https://localhost:8080/",
     "height": 68
    },
    "colab_type": "code",
    "id": "HWBDOr3Dob5W",
    "outputId": "442a3954-1164-4dee-b2eb-aafa76b03525"
   },
   "outputs": [
    {
     "name": "stdout",
     "output_type": "stream",
     "text": [
      "\t\t\tYear\tValue\n",
      "Vacant Housing Units\t2008\t4483\n",
      "Occupied Housing Units\t2014\t46295\n"
     ]
    }
   ],
   "source": [
    "import csv\n",
    "# Create dictionaries to store housing data\n",
    "housing_units_occupied = {}\n",
    "housing_units_vacant = {}\n",
    "# Open input file to read data\n",
    "with open(\"/content/Assignment1_denton_housing.csv\",'r') as input_file:\n",
    "    file_reader = csv.reader(input_file) # Create file reading variable \n",
    "    for row in file_reader: # Iterate through the rows to read and store data\n",
    "        if row[1] == \"Occupied Housing Units\": # Store data for occupied housing\n",
    "            housing_units_occupied[int(row[0])] = int(row[2])\n",
    "        elif row[1] == \"Vacant Housing Units\": # Store data for vacant housing\n",
    "            housing_units_vacant[int(row[0])] = int(row[2])\n",
    "max_vacant = max(housing_units_vacant.values()) # Determine the maximum vacant units\n",
    "max_occupied = max(housing_units_occupied.values()) # Determine the maximum occupied units\n",
    "print(\"\\t\\t\\tYear\\tValue\") # Print table headers\n",
    "for item in housing_units_vacant.items():\n",
    "    if item[1] == max_vacant:\n",
    "        print(\"Vacant Housing Units\\t\"+str(item[0])+\"\\t\"+str(max_vacant))\n",
    "for item in housing_units_occupied.items():\n",
    "    if item[1] == max_occupied:\n",
    "        print(\"Occupied Housing Units\\t\"+str(item[0])+\"\\t\"+str(max_occupied))"
   ]
  },
  {
   "cell_type": "markdown",
   "metadata": {
    "colab_type": "text",
    "id": "AMqL1oE1oc9V"
   },
   "source": [
    "**Question 4-4**"
   ]
  },
  {
   "cell_type": "code",
   "execution_count": 0,
   "metadata": {
    "colab": {
     "base_uri": "https://localhost:8080/",
     "height": 34
    },
    "colab_type": "code",
    "id": "KbDdRTQboiWt",
    "outputId": "63a2c9a3-48af-437a-af54-23701833b281"
   },
   "outputs": [
    {
     "name": "stdout",
     "output_type": "stream",
     "text": [
      "The harmonic mean of the total housing units is 44398.29\n"
     ]
    }
   ],
   "source": [
    "# Define function to calculate harmonic mean\n",
    "def harmonic_mean(list_name):\n",
    "    sum_rec = 0\n",
    "    for n in list_name:\n",
    "        sum_rec += (1/n)\n",
    "    return round(len(list_name)/sum_rec,2)\n",
    "\n",
    "import csv\n",
    "housing_units_total = [] # Create list to store housing data\n",
    "# Open input file to read data\n",
    "with open(\"/content/Assignment1_denton_housing.csv\",'r') as input_file:\n",
    "    file_reader = csv.reader(input_file) # Create file reading variable \n",
    "    for row in file_reader: # Iterate through the rows to read and store data\n",
    "        if row[1] == \"Total Housing Units\": # Store data for total housing only\n",
    "            housing_units_total.append(int(row[2]))\n",
    "\n",
    "print(\"The harmonic mean of the total housing units is\",str(harmonic_mean(housing_units_total)))"
   ]
  }
 ],
 "metadata": {
  "colab": {
   "authorship_tag": "ABX9TyOCmBUmyrqQKEN6M93cE9/Y",
   "collapsed_sections": [],
   "include_colab_link": true,
   "name": "INFO5731_Assignment_One.ipynb",
   "provenance": []
  },
  "kernelspec": {
   "display_name": "Python 3",
   "language": "python",
   "name": "python3"
  },
  "language_info": {
   "codemirror_mode": {
    "name": "ipython",
    "version": 3
   },
   "file_extension": ".py",
   "mimetype": "text/x-python",
   "name": "python",
   "nbconvert_exporter": "python",
   "pygments_lexer": "ipython3",
   "version": "3.7.4"
  }
 },
 "nbformat": 4,
 "nbformat_minor": 1
}
