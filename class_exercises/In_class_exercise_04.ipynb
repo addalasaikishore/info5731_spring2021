{
 "cells": [
  {
   "cell_type": "markdown",
   "metadata": {
    "colab_type": "text",
    "id": "view-in-github"
   },
   "source": [
    "<a href=\"https://colab.research.google.com/github/unt-iialab/INFO5731_Spring2020/blob/master/In_class_exercise/In_class_exercise_04.ipynb\" target=\"_parent\"><img src=\"https://colab.research.google.com/assets/colab-badge.svg\" alt=\"Open In Colab\"/></a>"
   ]
  },
  {
   "cell_type": "markdown",
   "metadata": {
    "colab_type": "text",
    "id": "EuX00KHNeSpw"
   },
   "source": [
    "# **The fourth in-class-exercise (20 points in total, 2/9/2021)**"
   ]
  },
  {
   "cell_type": "markdown",
   "metadata": {
    "colab_type": "text",
    "id": "s-vTOb03hG1f"
   },
   "source": [
    "# 1. Text Data Preprocessing\n",
    "\n",
    "Here is a [legal case](https://github.com/unt-iialab/info5731_spring2021/blob/main/class_exercises/01-05-1%20%20Adams%20v%20Tanner.txt) we collected from westlaw, please follow the steps we mentioned in lesson 5 to clean the data:\n",
    "\n",
    "\n",
    "\n",
    "## 1.1 Basic feature extraction using text data (4 points)\n",
    "\n",
    "*   Number of sentences\n",
    "*   Number of words\n",
    "*   Number of characters\n",
    "*   Average word length\n",
    "*   Number of stopwords\n",
    "*   Number of special characters\n",
    "*   Number of numerics\n",
    "*   Number of uppercase words\n",
    "\n",
    "## 1.2 Basic Text Pre-processing of text data (4 points)\n",
    "\n",
    "*   Lower casing\n",
    "*   Punctuation removal\n",
    "*   Stopwords removal\n",
    "*   Frequent words removal\n",
    "*   Rare words removal\n",
    "*   Spelling correction\n",
    "*   Tokenization\n",
    "*   Stemming\n",
    "*   Lemmatization\n",
    "\n",
    "## 1.3 Save all the **clean sentences** to a **csv file** (one column, each raw is a sentence) after finishing all the steps above. (4 points)\n",
    "\n",
    "\n",
    "## 1.4 Advance Text Processing (Extra credit: 4 points)\n",
    "\n",
    "*   Calculate the term frequency of all the terms.\n",
    "*   Print out top 10 1-gram, top 10 2-grams, and top 10 3-grams terms as features.\n"
   ]
  },
  {
   "cell_type": "code",
   "execution_count": 0,
   "metadata": {
    "colab": {},
    "colab_type": "code",
    "id": "vR0L3_CreM_A"
   },
   "outputs": [],
   "source": [
    "# Write your code here\n",
    "\n"
   ]
  },
  {
   "cell_type": "markdown",
   "metadata": {
    "colab_type": "text",
    "id": "BBiC4E_kefvV"
   },
   "source": [
    "# 2. Python Regular Expression"
   ]
  },
  {
   "cell_type": "markdown",
   "metadata": {
    "colab_type": "text",
    "id": "Z1QJ-UwCenvN"
   },
   "source": [
    "## 2.1 Write a Python program to remove leading zeros from an IP address. (4 points)\n",
    "\n",
    "ip = \"260.08.094.109\""
   ]
  },
  {
   "cell_type": "code",
   "execution_count": 0,
   "metadata": {
    "colab": {},
    "colab_type": "code",
    "id": "wSv6fVhOfFmv"
   },
   "outputs": [],
   "source": [
    "# Write your code here\n",
    "\n",
    "\n",
    "\n",
    "\n"
   ]
  },
  {
   "cell_type": "markdown",
   "metadata": {
    "colab_type": "text",
    "id": "PXRjaHzrfKAy"
   },
   "source": [
    "## 2.2 Write a Python Program to extract all the years from the following sentence. (4 points)\n",
    "\n",
    "sentence = \"The 2010s were a dramatic decade, filled with ups and downs, more than 1000 stroies have happened. As the decade comes to a close, Insider took a look back at some of the biggest headline-grabbing stories, from 2010 to 2019. The result was 119 news stories that ranged from the heartwarming rescue of a Thai boys' soccer team from a flooded cave to the divisive election of President Donald Trump.\""
   ]
  },
  {
   "cell_type": "code",
   "execution_count": 0,
   "metadata": {
    "colab": {},
    "colab_type": "code",
    "id": "7xdJpDx9gjbX"
   },
   "outputs": [],
   "source": [
    "# Write your code here"
   ]
  }
 ],
 "metadata": {
  "colab": {
   "authorship_tag": "ABX9TyPBbHN93zlE4UST77Gx/JWu",
   "collapsed_sections": [],
   "include_colab_link": true,
   "name": "In-class-exercise-04.ipynb",
   "provenance": []
  },
  "kernelspec": {
   "display_name": "Python 3",
   "language": "python",
   "name": "python3"
  },
  "language_info": {
   "codemirror_mode": {
    "name": "ipython",
    "version": 3
   },
   "file_extension": ".py",
   "mimetype": "text/x-python",
   "name": "python",
   "nbconvert_exporter": "python",
   "pygments_lexer": "ipython3",
   "version": "3.8.5"
  }
 },
 "nbformat": 4,
 "nbformat_minor": 1
}
