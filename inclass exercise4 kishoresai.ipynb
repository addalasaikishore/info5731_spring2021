{
  "nbformat": 4,
  "nbformat_minor": 0,
  "metadata": {
    "colab": {
      "name": "Untitled9.ipynb",
      "provenance": [],
      "authorship_tag": "ABX9TyMyI1ymzsZxvKu/SCmOiiBI",
      "include_colab_link": true
    },
    "kernelspec": {
      "name": "python3",
      "display_name": "Python 3"
    }
  },
  "cells": [
    {
      "cell_type": "markdown",
      "metadata": {
        "id": "view-in-github",
        "colab_type": "text"
      },
      "source": [
        "<a href=\"https://colab.research.google.com/github/addalasaikishore/info5731_spring2021/blob/main/inclass%20exercise4%20kishoresai.ipynb\" target=\"_parent\"><img src=\"https://colab.research.google.com/assets/colab-badge.svg\" alt=\"Open In Colab\"/></a>"
      ]
    },
    {
      "cell_type": "code",
      "metadata": {
        "id": "XOPPtIri90CI"
      },
      "source": [
        ""
      ],
      "execution_count": null,
      "outputs": []
    },
    {
      "cell_type": "code",
      "metadata": {
        "id": "KuuiWkUM1v8g"
      },
      "source": [
        ""
      ],
      "execution_count": 4,
      "outputs": []
    },
    {
      "cell_type": "markdown",
      "metadata": {
        "id": "VKh72Vng9eCv"
      },
      "source": [
        "The fourth in-class-exercise (20 points in total, 2/9/2021)\n",
        "1. Text Data Preprocessing\n",
        "Here is a legal case we collected from westlaw, please follow the steps we mentioned in lesson 5 to clean the data:\n",
        "\n",
        "1.1 Basic feature extraction using text data (4 points)\n",
        "\n",
        "Number of sentences\n",
        "\n",
        "Number of words\n",
        "\n",
        "Number of characters\n",
        "\n",
        "Average word length\n",
        "\n",
        "Number of stopwords\n",
        "\n",
        "Number of special characters\n",
        "\n",
        "Number of numerics\n",
        "\n",
        "Number of uppercase words\n",
        "\n",
        "1.2 Basic Text Pre-processing of text data (4 points)\n",
        "\n",
        "Lower casing\n",
        "\n",
        "Punctuation removal\n",
        "\n",
        "Stopwords removal\n",
        "\n",
        "Frequent words removal\n",
        "\n",
        "Rare words removal\n",
        "\n",
        "Spelling correction\n",
        "\n",
        "Tokenization\n",
        "Stemming\n",
        "Lemmatization"
      ]
    },
    {
      "cell_type": "code",
      "metadata": {
        "id": "VIHfbIWJ9PqP"
      },
      "source": [
        "import urllib.request\n",
        "import pandas as pd\n",
        "import string\n",
        "from textblob import TextBlob"
      ],
      "execution_count": null,
      "outputs": []
    },
    {
      "cell_type": "code",
      "metadata": {
        "id": "cZtOwhE-11-q"
      },
      "source": [
        "\n",
        "df = urllib.request.urlopen(\"https://github.com/unt-iialab/info5731_spring2021/blob/main/class_exercises/01-05-1%20%20Adams%20v%20Tanner.txt\")\n",
        "\n",
        "sentences=list()\n",
        "for value in df:\n",
        "  sentence = value.decode(\"utf-8\").replace(\"\\r\\n\",'')\n",
        "  if sentence:\n",
        "    sentences.append(sentence)\n"
      ],
      "execution_count": 5,
      "outputs": []
    },
    {
      "cell_type": "code",
      "metadata": {
        "colab": {
          "base_uri": "https://localhost:8080/"
        },
        "id": "ZL3FMSsU2k70",
        "outputId": "1d75625c-2786-4360-e3d6-11ec0624468d"
      },
      "source": [
        "# number of sentences\n",
        "print(\"Total sentences : \", len(sentences))\n",
        "\n",
        "total_df = pd.DataFrame(sentences,columns=['input'])"
      ],
      "execution_count": 8,
      "outputs": [
        {
          "output_type": "stream",
          "text": [
            "Total sentences :  1659\n"
          ],
          "name": "stdout"
        }
      ]
    },
    {
      "cell_type": "code",
      "metadata": {
        "id": "4Q89qTOF3eId"
      },
      "source": [
        "def merge_two_dataframes(ip1, ip2):\n",
        "  return pd.concat([ip1,ip2],axis=1)"
      ],
      "execution_count": 9,
      "outputs": []
    },
    {
      "cell_type": "code",
      "metadata": {
        "colab": {
          "base_uri": "https://localhost:8080/"
        },
        "id": "Vc8xyG7-3l3q",
        "outputId": "528a5a08-8ca7-4f0a-cd0d-6178cc8fe14a"
      },
      "source": [
        "#number of words \n",
        "def count_the_words(ip):\n",
        "  return len(ip.split())\n",
        "\n",
        "words = merge_two_dataframes(total_df, total_df['input'].apply(lambda a: count_the_words(a)).to_frame().rename(columns = {\"input\":\"word_count\"}))\n",
        "print(words)"
      ],
      "execution_count": 10,
      "outputs": [
        {
          "output_type": "stream",
          "text": [
            "            input  word_count\n",
            "0              \\n           0\n",
            "1              \\n           0\n",
            "2              \\n           0\n",
            "3              \\n           0\n",
            "4              \\n           0\n",
            "...           ...         ...\n",
            "1654           \\n           0\n",
            "1655           \\n           0\n",
            "1656    </body>\\n           1\n",
            "1657    </html>\\n           1\n",
            "1658           \\n           0\n",
            "\n",
            "[1659 rows x 2 columns]\n"
          ],
          "name": "stdout"
        }
      ]
    },
    {
      "cell_type": "code",
      "metadata": {
        "colab": {
          "base_uri": "https://localhost:8080/"
        },
        "id": "EKYTMCKN30ar",
        "outputId": "aec11480-671e-49c5-f071-62ecdf8dcd34"
      },
      "source": [
        "#number of characters \n",
        "\n",
        "def number_of_characters(ip):\n",
        "  val = list()\n",
        "  for i in ip:\n",
        "    if i not in string.punctuation:\n",
        "      val.append(i)\n",
        "  formatted_data = ''.join(val);\n",
        "  return len(formatted_data.replace(\" \",\"\"))\n",
        "\n",
        "char_count = merge_two_dataframes(total_df, total_df['input'].apply(lambda a: number_of_characters(a)).to_frame().rename(columns = {\"input\":\"character count\"}))\n",
        "print(char_count)"
      ],
      "execution_count": 12,
      "outputs": [
        {
          "output_type": "stream",
          "text": [
            "            input  character count\n",
            "0              \\n                1\n",
            "1              \\n                1\n",
            "2              \\n                1\n",
            "3              \\n                1\n",
            "4              \\n                1\n",
            "...           ...              ...\n",
            "1654           \\n                1\n",
            "1655           \\n                1\n",
            "1656    </body>\\n                5\n",
            "1657    </html>\\n                5\n",
            "1658           \\n                1\n",
            "\n",
            "[1659 rows x 2 columns]\n"
          ],
          "name": "stdout"
        }
      ]
    },
    {
      "cell_type": "code",
      "metadata": {
        "colab": {
          "base_uri": "https://localhost:8080/"
        },
        "id": "cMcUlclz4GH-",
        "outputId": "eb7023e6-b0b0-4d64-fffe-1979c43c6743"
      },
      "source": [
        "#Average word length \n",
        "\n",
        "def avg_word_length(ip):\n",
        "  if(len(ip.split())!=0):\n",
        "    count = len(ip.replace(\" \",\"\"))\n",
        "    count1 = len(ip.split())\n",
        "    return count/count1\n",
        "  else:\n",
        "    return 0\n",
        "\n",
        "avg_words = merge_two_dataframes(total_df, total_df['input'].apply(lambda a: avg_word_length(a)).to_frame().rename(columns = {\"input\":\"Average word count\"}))\n",
        "print(avg_words)"
      ],
      "execution_count": 13,
      "outputs": [
        {
          "output_type": "stream",
          "text": [
            "            input  Average word count\n",
            "0              \\n                 0.0\n",
            "1              \\n                 0.0\n",
            "2              \\n                 0.0\n",
            "3              \\n                 0.0\n",
            "4              \\n                 0.0\n",
            "...           ...                 ...\n",
            "1654           \\n                 0.0\n",
            "1655           \\n                 0.0\n",
            "1656    </body>\\n                 8.0\n",
            "1657    </html>\\n                 8.0\n",
            "1658           \\n                 0.0\n",
            "\n",
            "[1659 rows x 2 columns]\n"
          ],
          "name": "stdout"
        }
      ]
    },
    {
      "cell_type": "code",
      "metadata": {
        "id": "jaY69Omg4jnQ",
        "outputId": "9e462166-e29f-42e8-cd3b-9d2ddfc93877",
        "colab": {
          "base_uri": "https://localhost:8080/"
        }
      },
      "source": [
        "import nltk\n",
        "from nltk.corpus import stopwords\n",
        "nltk.download('stopwords')"
      ],
      "execution_count": 14,
      "outputs": [
        {
          "output_type": "stream",
          "text": [
            "[nltk_data] Downloading package stopwords to /root/nltk_data...\n",
            "[nltk_data]   Unzipping corpora/stopwords.zip.\n"
          ],
          "name": "stdout"
        },
        {
          "output_type": "execute_result",
          "data": {
            "text/plain": [
              "True"
            ]
          },
          "metadata": {
            "tags": []
          },
          "execution_count": 14
        }
      ]
    },
    {
      "cell_type": "code",
      "metadata": {
        "id": "ABGvdthG4oPu",
        "outputId": "f16c0d79-3cc4-4f6a-cf95-4d54f9ecc2bb",
        "colab": {
          "base_uri": "https://localhost:8080/"
        }
      },
      "source": [
        "#Number of stop words\n",
        "words_data = set(stopwords.words('english'))\n",
        "def stop_words(ip):\n",
        "  count = 0\n",
        "  for i in ip.split():\n",
        "    if i in words_data:\n",
        "      count = count+1\n",
        "  return count\n",
        "\n",
        "stopwords = merge_two_dataframes(total_df, total_df['input'].apply(lambda a: stop_words(a)).to_frame().rename(columns = {\"input\":\"Number of stop words\"}))\n",
        "print(stopwords)"
      ],
      "execution_count": 15,
      "outputs": [
        {
          "output_type": "stream",
          "text": [
            "            input  Number of stop words\n",
            "0              \\n                     0\n",
            "1              \\n                     0\n",
            "2              \\n                     0\n",
            "3              \\n                     0\n",
            "4              \\n                     0\n",
            "...           ...                   ...\n",
            "1654           \\n                     0\n",
            "1655           \\n                     0\n",
            "1656    </body>\\n                     0\n",
            "1657    </html>\\n                     0\n",
            "1658           \\n                     0\n",
            "\n",
            "[1659 rows x 2 columns]\n"
          ],
          "name": "stdout"
        }
      ]
    },
    {
      "cell_type": "code",
      "metadata": {
        "id": "oZjlzbrF4xrs",
        "outputId": "449245e8-6204-4cdf-ab63-8c6897988389",
        "colab": {
          "base_uri": "https://localhost:8080/"
        }
      },
      "source": [
        "# Number of special characters  \n",
        "\n",
        "def number_of_special_characters(ip):\n",
        "  count = 0\n",
        "  for val in ip:\n",
        "    if val.isdigit() or val.isalpha() or (val == ' '):\n",
        "      count=count\n",
        "    else:\n",
        "      count=count+1\n",
        "  return count\n",
        "\n",
        "special_chars = merge_two_dataframes(total_df, total_df['input'].apply(lambda a: number_of_special_characters(a)).to_frame().rename(columns = {\"input\":\"special_chars\"}))\n",
        "print(special_chars)\n",
        "\n",
        "\n",
        "\n"
      ],
      "execution_count": 16,
      "outputs": [
        {
          "output_type": "stream",
          "text": [
            "            input  special_chars\n",
            "0              \\n              1\n",
            "1              \\n              1\n",
            "2              \\n              1\n",
            "3              \\n              1\n",
            "4              \\n              1\n",
            "...           ...            ...\n",
            "1654           \\n              1\n",
            "1655           \\n              1\n",
            "1656    </body>\\n              4\n",
            "1657    </html>\\n              4\n",
            "1658           \\n              1\n",
            "\n",
            "[1659 rows x 2 columns]\n"
          ],
          "name": "stdout"
        }
      ]
    },
    {
      "cell_type": "code",
      "metadata": {
        "id": "pj0I9-S35OLN",
        "outputId": "080e4d6f-b0ed-46be-f0be-90e74c9aca9b",
        "colab": {
          "base_uri": "https://localhost:8080/"
        }
      },
      "source": [
        "# Number of numerics '''\n",
        "def count_of_numeric(ip):\n",
        "  count = 0\n",
        "  for val in ip:\n",
        "    if val.isdigit():\n",
        "      count = count+1\n",
        "  return count\n",
        "number_of_numerics = merge_two_dataframes(total_df, total_df['input'].apply(lambda a: count_of_numeric(a)).to_frame().rename(columns = {\"input\":\"number_of_numeric_values\"}))\n",
        "print(number_of_numerics)"
      ],
      "execution_count": 17,
      "outputs": [
        {
          "output_type": "stream",
          "text": [
            "            input  number_of_numeric_values\n",
            "0              \\n                         0\n",
            "1              \\n                         0\n",
            "2              \\n                         0\n",
            "3              \\n                         0\n",
            "4              \\n                         0\n",
            "...           ...                       ...\n",
            "1654           \\n                         0\n",
            "1655           \\n                         0\n",
            "1656    </body>\\n                         0\n",
            "1657    </html>\\n                         0\n",
            "1658           \\n                         0\n",
            "\n",
            "[1659 rows x 2 columns]\n"
          ],
          "name": "stdout"
        }
      ]
    },
    {
      "cell_type": "code",
      "metadata": {
        "id": "aHjGrtx05YAz",
        "outputId": "2270b4f3-f456-4dee-bdb1-b483f3574166",
        "colab": {
          "base_uri": "https://localhost:8080/"
        }
      },
      "source": [
        "#number of upper case words\n",
        "def upper_case_count(ip):\n",
        "  count = 0\n",
        "  for i in ip:\n",
        "    if i.isupper():\n",
        "      count = count+1\n",
        "  return count\n",
        "\n",
        "upper_case_count = merge_two_dataframes(total_df, total_df['input'].apply(lambda a: upper_case_count(a)).to_frame().rename(columns = {\"input\":\"upper_case_count\"}))\n",
        "print(upper_case_count)"
      ],
      "execution_count": 18,
      "outputs": [
        {
          "output_type": "stream",
          "text": [
            "            input  upper_case_count\n",
            "0              \\n                 0\n",
            "1              \\n                 0\n",
            "2              \\n                 0\n",
            "3              \\n                 0\n",
            "4              \\n                 0\n",
            "...           ...               ...\n",
            "1654           \\n                 0\n",
            "1655           \\n                 0\n",
            "1656    </body>\\n                 0\n",
            "1657    </html>\\n                 0\n",
            "1658           \\n                 0\n",
            "\n",
            "[1659 rows x 2 columns]\n"
          ],
          "name": "stdout"
        }
      ]
    },
    {
      "cell_type": "code",
      "metadata": {
        "id": "xWwmbK-85eef",
        "outputId": "cf1806c2-2ca4-4d27-b170-078668ae97c9",
        "colab": {
          "base_uri": "https://localhost:8080/"
        }
      },
      "source": [
        "#1.2 Basic Text Pre-processing of text data\n",
        "\n",
        "#lower casing \n",
        "\n",
        "lower_case_df = merge_two_dataframes(total_df, total_df['input'].apply(lambda a: a.lower()).to_frame().rename(columns = {\"input\":\"lower_case\"}))\n",
        "print(lower_case_df)"
      ],
      "execution_count": 19,
      "outputs": [
        {
          "output_type": "stream",
          "text": [
            "            input   lower_case\n",
            "0              \\n           \\n\n",
            "1              \\n           \\n\n",
            "2              \\n           \\n\n",
            "3              \\n           \\n\n",
            "4              \\n           \\n\n",
            "...           ...          ...\n",
            "1654           \\n           \\n\n",
            "1655           \\n           \\n\n",
            "1656    </body>\\n    </body>\\n\n",
            "1657    </html>\\n    </html>\\n\n",
            "1658           \\n           \\n\n",
            "\n",
            "[1659 rows x 2 columns]\n"
          ],
          "name": "stdout"
        }
      ]
    },
    {
      "cell_type": "code",
      "metadata": {
        "id": "h8FKGIT25vjf",
        "outputId": "c0c6d9a3-4943-4707-d45a-83e62da57761",
        "colab": {
          "base_uri": "https://localhost:8080/",
          "height": 419
        }
      },
      "source": [
        "#special characters removal '''\n",
        "\n",
        "\n",
        "def remove_spl_characters(ip):\n",
        "  res = list()\n",
        "  for val in ip:\n",
        "    if val not in string.punctuation:\n",
        "      res.append(val)\n",
        "  return ''.join(res)\n",
        "\n",
        "spl_chars_df = merge_two_dataframes(lower_case_df, lower_case_df['lower_case'].apply(lambda a: remove_spl_characters(a)).to_frame().rename(columns = {\"lower_case\":\"string_after_removing_spl_chars\"}))\n",
        "spl_chars_df"
      ],
      "execution_count": 20,
      "outputs": [
        {
          "output_type": "execute_result",
          "data": {
            "text/html": [
              "<div>\n",
              "<style scoped>\n",
              "    .dataframe tbody tr th:only-of-type {\n",
              "        vertical-align: middle;\n",
              "    }\n",
              "\n",
              "    .dataframe tbody tr th {\n",
              "        vertical-align: top;\n",
              "    }\n",
              "\n",
              "    .dataframe thead th {\n",
              "        text-align: right;\n",
              "    }\n",
              "</style>\n",
              "<table border=\"1\" class=\"dataframe\">\n",
              "  <thead>\n",
              "    <tr style=\"text-align: right;\">\n",
              "      <th></th>\n",
              "      <th>input</th>\n",
              "      <th>lower_case</th>\n",
              "      <th>string_after_removing_spl_chars</th>\n",
              "    </tr>\n",
              "  </thead>\n",
              "  <tbody>\n",
              "    <tr>\n",
              "      <th>0</th>\n",
              "      <td>\\n</td>\n",
              "      <td>\\n</td>\n",
              "      <td>\\n</td>\n",
              "    </tr>\n",
              "    <tr>\n",
              "      <th>1</th>\n",
              "      <td>\\n</td>\n",
              "      <td>\\n</td>\n",
              "      <td>\\n</td>\n",
              "    </tr>\n",
              "    <tr>\n",
              "      <th>2</th>\n",
              "      <td>\\n</td>\n",
              "      <td>\\n</td>\n",
              "      <td>\\n</td>\n",
              "    </tr>\n",
              "    <tr>\n",
              "      <th>3</th>\n",
              "      <td>\\n</td>\n",
              "      <td>\\n</td>\n",
              "      <td>\\n</td>\n",
              "    </tr>\n",
              "    <tr>\n",
              "      <th>4</th>\n",
              "      <td>\\n</td>\n",
              "      <td>\\n</td>\n",
              "      <td>\\n</td>\n",
              "    </tr>\n",
              "    <tr>\n",
              "      <th>...</th>\n",
              "      <td>...</td>\n",
              "      <td>...</td>\n",
              "      <td>...</td>\n",
              "    </tr>\n",
              "    <tr>\n",
              "      <th>1654</th>\n",
              "      <td>\\n</td>\n",
              "      <td>\\n</td>\n",
              "      <td>\\n</td>\n",
              "    </tr>\n",
              "    <tr>\n",
              "      <th>1655</th>\n",
              "      <td>\\n</td>\n",
              "      <td>\\n</td>\n",
              "      <td>\\n</td>\n",
              "    </tr>\n",
              "    <tr>\n",
              "      <th>1656</th>\n",
              "      <td>&lt;/body&gt;\\n</td>\n",
              "      <td>&lt;/body&gt;\\n</td>\n",
              "      <td>body\\n</td>\n",
              "    </tr>\n",
              "    <tr>\n",
              "      <th>1657</th>\n",
              "      <td>&lt;/html&gt;\\n</td>\n",
              "      <td>&lt;/html&gt;\\n</td>\n",
              "      <td>html\\n</td>\n",
              "    </tr>\n",
              "    <tr>\n",
              "      <th>1658</th>\n",
              "      <td>\\n</td>\n",
              "      <td>\\n</td>\n",
              "      <td>\\n</td>\n",
              "    </tr>\n",
              "  </tbody>\n",
              "</table>\n",
              "<p>1659 rows × 3 columns</p>\n",
              "</div>"
            ],
            "text/plain": [
              "            input   lower_case string_after_removing_spl_chars\n",
              "0              \\n           \\n                              \\n\n",
              "1              \\n           \\n                              \\n\n",
              "2              \\n           \\n                              \\n\n",
              "3              \\n           \\n                              \\n\n",
              "4              \\n           \\n                              \\n\n",
              "...           ...          ...                             ...\n",
              "1654           \\n           \\n                              \\n\n",
              "1655           \\n           \\n                              \\n\n",
              "1656    </body>\\n    </body>\\n                          body\\n\n",
              "1657    </html>\\n    </html>\\n                          html\\n\n",
              "1658           \\n           \\n                              \\n\n",
              "\n",
              "[1659 rows x 3 columns]"
            ]
          },
          "metadata": {
            "tags": []
          },
          "execution_count": 20
        }
      ]
    },
    {
      "cell_type": "code",
      "metadata": {
        "id": "ib1CtKH952TS",
        "outputId": "7d5cadb0-77e1-4b10-9141-39565cd623bf",
        "colab": {
          "base_uri": "https://localhost:8080/",
          "height": 419
        }
      },
      "source": [
        "#stop words removal\n",
        "\n",
        "def remove_stop_words(ip):\n",
        "  res = list()\n",
        "  for val in ip:\n",
        "    if val not in words_data:\n",
        "      res.append(val)\n",
        "  return ' '.join(res)\n",
        "\n",
        "\n",
        "stop_words_rm_df = merge_two_dataframes(spl_chars_df, spl_chars_df['string_after_removing_spl_chars'].apply(lambda a:remove_stop_words(a.split())).to_frame().rename(columns = {\"string_after_removing_spl_chars\":\"stop_words_removal\"}))\n",
        "stop_words_rm_df"
      ],
      "execution_count": 21,
      "outputs": [
        {
          "output_type": "execute_result",
          "data": {
            "text/html": [
              "<div>\n",
              "<style scoped>\n",
              "    .dataframe tbody tr th:only-of-type {\n",
              "        vertical-align: middle;\n",
              "    }\n",
              "\n",
              "    .dataframe tbody tr th {\n",
              "        vertical-align: top;\n",
              "    }\n",
              "\n",
              "    .dataframe thead th {\n",
              "        text-align: right;\n",
              "    }\n",
              "</style>\n",
              "<table border=\"1\" class=\"dataframe\">\n",
              "  <thead>\n",
              "    <tr style=\"text-align: right;\">\n",
              "      <th></th>\n",
              "      <th>input</th>\n",
              "      <th>lower_case</th>\n",
              "      <th>string_after_removing_spl_chars</th>\n",
              "      <th>stop_words_removal</th>\n",
              "    </tr>\n",
              "  </thead>\n",
              "  <tbody>\n",
              "    <tr>\n",
              "      <th>0</th>\n",
              "      <td>\\n</td>\n",
              "      <td>\\n</td>\n",
              "      <td>\\n</td>\n",
              "      <td></td>\n",
              "    </tr>\n",
              "    <tr>\n",
              "      <th>1</th>\n",
              "      <td>\\n</td>\n",
              "      <td>\\n</td>\n",
              "      <td>\\n</td>\n",
              "      <td></td>\n",
              "    </tr>\n",
              "    <tr>\n",
              "      <th>2</th>\n",
              "      <td>\\n</td>\n",
              "      <td>\\n</td>\n",
              "      <td>\\n</td>\n",
              "      <td></td>\n",
              "    </tr>\n",
              "    <tr>\n",
              "      <th>3</th>\n",
              "      <td>\\n</td>\n",
              "      <td>\\n</td>\n",
              "      <td>\\n</td>\n",
              "      <td></td>\n",
              "    </tr>\n",
              "    <tr>\n",
              "      <th>4</th>\n",
              "      <td>\\n</td>\n",
              "      <td>\\n</td>\n",
              "      <td>\\n</td>\n",
              "      <td></td>\n",
              "    </tr>\n",
              "    <tr>\n",
              "      <th>...</th>\n",
              "      <td>...</td>\n",
              "      <td>...</td>\n",
              "      <td>...</td>\n",
              "      <td>...</td>\n",
              "    </tr>\n",
              "    <tr>\n",
              "      <th>1654</th>\n",
              "      <td>\\n</td>\n",
              "      <td>\\n</td>\n",
              "      <td>\\n</td>\n",
              "      <td></td>\n",
              "    </tr>\n",
              "    <tr>\n",
              "      <th>1655</th>\n",
              "      <td>\\n</td>\n",
              "      <td>\\n</td>\n",
              "      <td>\\n</td>\n",
              "      <td></td>\n",
              "    </tr>\n",
              "    <tr>\n",
              "      <th>1656</th>\n",
              "      <td>&lt;/body&gt;\\n</td>\n",
              "      <td>&lt;/body&gt;\\n</td>\n",
              "      <td>body\\n</td>\n",
              "      <td>body</td>\n",
              "    </tr>\n",
              "    <tr>\n",
              "      <th>1657</th>\n",
              "      <td>&lt;/html&gt;\\n</td>\n",
              "      <td>&lt;/html&gt;\\n</td>\n",
              "      <td>html\\n</td>\n",
              "      <td>html</td>\n",
              "    </tr>\n",
              "    <tr>\n",
              "      <th>1658</th>\n",
              "      <td>\\n</td>\n",
              "      <td>\\n</td>\n",
              "      <td>\\n</td>\n",
              "      <td></td>\n",
              "    </tr>\n",
              "  </tbody>\n",
              "</table>\n",
              "<p>1659 rows × 4 columns</p>\n",
              "</div>"
            ],
            "text/plain": [
              "            input  ... stop_words_removal\n",
              "0              \\n  ...                   \n",
              "1              \\n  ...                   \n",
              "2              \\n  ...                   \n",
              "3              \\n  ...                   \n",
              "4              \\n  ...                   \n",
              "...           ...  ...                ...\n",
              "1654           \\n  ...                   \n",
              "1655           \\n  ...                   \n",
              "1656    </body>\\n  ...               body\n",
              "1657    </html>\\n  ...               html\n",
              "1658           \\n  ...                   \n",
              "\n",
              "[1659 rows x 4 columns]"
            ]
          },
          "metadata": {
            "tags": []
          },
          "execution_count": 21
        }
      ]
    },
    {
      "cell_type": "code",
      "metadata": {
        "id": "ZUJ4r2At6Bo2"
      },
      "source": [
        "#5 frequent words\n",
        "frequent_words = list(pd.Series(' '.join(stop_words_rm_df['string_after_removing_spl_chars']).split()).value_counts()[:5].index)\n",
        "#5 rare words\n",
        "rare_words = list(pd.Series(' '.join(stop_words_rm_df['string_after_removing_spl_chars']).split()).value_counts()[-5:].index)"
      ],
      "execution_count": 22,
      "outputs": []
    },
    {
      "cell_type": "code",
      "metadata": {
        "id": "fR7b07cZ6KtL",
        "outputId": "d592a86c-a687-4474-925b-066cbe6aa6b5",
        "colab": {
          "base_uri": "https://localhost:8080/",
          "height": 419
        }
      },
      "source": [
        "#Frequent words removal \n",
        "def remove_frequent_words(ip):\n",
        "  res = list()\n",
        "  for val in ip:\n",
        "    if val not in frequent_words:\n",
        "      res.append(val)\n",
        "  return ' '.join(res)\n",
        "\n",
        "frequent_words_df = merge_two_dataframes(stop_words_rm_df, stop_words_rm_df['stop_words_removal'].apply(lambda a:remove_frequent_words(a.split())).to_frame().rename(columns = {\"stop_words_removal\":\"frequent_words\"}))\n",
        "frequent_words_df"
      ],
      "execution_count": 23,
      "outputs": [
        {
          "output_type": "execute_result",
          "data": {
            "text/html": [
              "<div>\n",
              "<style scoped>\n",
              "    .dataframe tbody tr th:only-of-type {\n",
              "        vertical-align: middle;\n",
              "    }\n",
              "\n",
              "    .dataframe tbody tr th {\n",
              "        vertical-align: top;\n",
              "    }\n",
              "\n",
              "    .dataframe thead th {\n",
              "        text-align: right;\n",
              "    }\n",
              "</style>\n",
              "<table border=\"1\" class=\"dataframe\">\n",
              "  <thead>\n",
              "    <tr style=\"text-align: right;\">\n",
              "      <th></th>\n",
              "      <th>input</th>\n",
              "      <th>lower_case</th>\n",
              "      <th>string_after_removing_spl_chars</th>\n",
              "      <th>stop_words_removal</th>\n",
              "      <th>frequent_words</th>\n",
              "    </tr>\n",
              "  </thead>\n",
              "  <tbody>\n",
              "    <tr>\n",
              "      <th>0</th>\n",
              "      <td>\\n</td>\n",
              "      <td>\\n</td>\n",
              "      <td>\\n</td>\n",
              "      <td></td>\n",
              "      <td></td>\n",
              "    </tr>\n",
              "    <tr>\n",
              "      <th>1</th>\n",
              "      <td>\\n</td>\n",
              "      <td>\\n</td>\n",
              "      <td>\\n</td>\n",
              "      <td></td>\n",
              "      <td></td>\n",
              "    </tr>\n",
              "    <tr>\n",
              "      <th>2</th>\n",
              "      <td>\\n</td>\n",
              "      <td>\\n</td>\n",
              "      <td>\\n</td>\n",
              "      <td></td>\n",
              "      <td></td>\n",
              "    </tr>\n",
              "    <tr>\n",
              "      <th>3</th>\n",
              "      <td>\\n</td>\n",
              "      <td>\\n</td>\n",
              "      <td>\\n</td>\n",
              "      <td></td>\n",
              "      <td></td>\n",
              "    </tr>\n",
              "    <tr>\n",
              "      <th>4</th>\n",
              "      <td>\\n</td>\n",
              "      <td>\\n</td>\n",
              "      <td>\\n</td>\n",
              "      <td></td>\n",
              "      <td></td>\n",
              "    </tr>\n",
              "    <tr>\n",
              "      <th>...</th>\n",
              "      <td>...</td>\n",
              "      <td>...</td>\n",
              "      <td>...</td>\n",
              "      <td>...</td>\n",
              "      <td>...</td>\n",
              "    </tr>\n",
              "    <tr>\n",
              "      <th>1654</th>\n",
              "      <td>\\n</td>\n",
              "      <td>\\n</td>\n",
              "      <td>\\n</td>\n",
              "      <td></td>\n",
              "      <td></td>\n",
              "    </tr>\n",
              "    <tr>\n",
              "      <th>1655</th>\n",
              "      <td>\\n</td>\n",
              "      <td>\\n</td>\n",
              "      <td>\\n</td>\n",
              "      <td></td>\n",
              "      <td></td>\n",
              "    </tr>\n",
              "    <tr>\n",
              "      <th>1656</th>\n",
              "      <td>&lt;/body&gt;\\n</td>\n",
              "      <td>&lt;/body&gt;\\n</td>\n",
              "      <td>body\\n</td>\n",
              "      <td>body</td>\n",
              "      <td>body</td>\n",
              "    </tr>\n",
              "    <tr>\n",
              "      <th>1657</th>\n",
              "      <td>&lt;/html&gt;\\n</td>\n",
              "      <td>&lt;/html&gt;\\n</td>\n",
              "      <td>html\\n</td>\n",
              "      <td>html</td>\n",
              "      <td>html</td>\n",
              "    </tr>\n",
              "    <tr>\n",
              "      <th>1658</th>\n",
              "      <td>\\n</td>\n",
              "      <td>\\n</td>\n",
              "      <td>\\n</td>\n",
              "      <td></td>\n",
              "      <td></td>\n",
              "    </tr>\n",
              "  </tbody>\n",
              "</table>\n",
              "<p>1659 rows × 5 columns</p>\n",
              "</div>"
            ],
            "text/plain": [
              "            input   lower_case  ... stop_words_removal frequent_words\n",
              "0              \\n           \\n  ...                                  \n",
              "1              \\n           \\n  ...                                  \n",
              "2              \\n           \\n  ...                                  \n",
              "3              \\n           \\n  ...                                  \n",
              "4              \\n           \\n  ...                                  \n",
              "...           ...          ...  ...                ...            ...\n",
              "1654           \\n           \\n  ...                                  \n",
              "1655           \\n           \\n  ...                                  \n",
              "1656    </body>\\n    </body>\\n  ...               body           body\n",
              "1657    </html>\\n    </html>\\n  ...               html           html\n",
              "1658           \\n           \\n  ...                                  \n",
              "\n",
              "[1659 rows x 5 columns]"
            ]
          },
          "metadata": {
            "tags": []
          },
          "execution_count": 23
        }
      ]
    },
    {
      "cell_type": "code",
      "metadata": {
        "id": "ttnPzNgl6swE",
        "outputId": "ba4272be-2649-493e-c33f-d16a35805c24",
        "colab": {
          "base_uri": "https://localhost:8080/",
          "height": 419
        }
      },
      "source": [
        "''' Frequent words removal  '''\n",
        "def remove_frequent_words(ip):\n",
        "  res = list()\n",
        "  for val in ip:\n",
        "    if val not in rare_words:\n",
        "      res.append(val)\n",
        "  return ' '.join(res)\n",
        "\n",
        "rare_words_df = merge_two_dataframes(frequent_words_df, stop_words_rm_df['stop_words_removal'].apply(lambda a:remove_frequent_words(a.split())).to_frame().rename(columns = {\"stop_words_removal\":\"rare_words\"}))\n",
        "rare_words_df"
      ],
      "execution_count": 26,
      "outputs": [
        {
          "output_type": "execute_result",
          "data": {
            "text/html": [
              "<div>\n",
              "<style scoped>\n",
              "    .dataframe tbody tr th:only-of-type {\n",
              "        vertical-align: middle;\n",
              "    }\n",
              "\n",
              "    .dataframe tbody tr th {\n",
              "        vertical-align: top;\n",
              "    }\n",
              "\n",
              "    .dataframe thead th {\n",
              "        text-align: right;\n",
              "    }\n",
              "</style>\n",
              "<table border=\"1\" class=\"dataframe\">\n",
              "  <thead>\n",
              "    <tr style=\"text-align: right;\">\n",
              "      <th></th>\n",
              "      <th>input</th>\n",
              "      <th>lower_case</th>\n",
              "      <th>string_after_removing_spl_chars</th>\n",
              "      <th>stop_words_removal</th>\n",
              "      <th>frequent_words</th>\n",
              "      <th>rare_words</th>\n",
              "    </tr>\n",
              "  </thead>\n",
              "  <tbody>\n",
              "    <tr>\n",
              "      <th>0</th>\n",
              "      <td>\\n</td>\n",
              "      <td>\\n</td>\n",
              "      <td>\\n</td>\n",
              "      <td></td>\n",
              "      <td></td>\n",
              "      <td></td>\n",
              "    </tr>\n",
              "    <tr>\n",
              "      <th>1</th>\n",
              "      <td>\\n</td>\n",
              "      <td>\\n</td>\n",
              "      <td>\\n</td>\n",
              "      <td></td>\n",
              "      <td></td>\n",
              "      <td></td>\n",
              "    </tr>\n",
              "    <tr>\n",
              "      <th>2</th>\n",
              "      <td>\\n</td>\n",
              "      <td>\\n</td>\n",
              "      <td>\\n</td>\n",
              "      <td></td>\n",
              "      <td></td>\n",
              "      <td></td>\n",
              "    </tr>\n",
              "    <tr>\n",
              "      <th>3</th>\n",
              "      <td>\\n</td>\n",
              "      <td>\\n</td>\n",
              "      <td>\\n</td>\n",
              "      <td></td>\n",
              "      <td></td>\n",
              "      <td></td>\n",
              "    </tr>\n",
              "    <tr>\n",
              "      <th>4</th>\n",
              "      <td>\\n</td>\n",
              "      <td>\\n</td>\n",
              "      <td>\\n</td>\n",
              "      <td></td>\n",
              "      <td></td>\n",
              "      <td></td>\n",
              "    </tr>\n",
              "    <tr>\n",
              "      <th>...</th>\n",
              "      <td>...</td>\n",
              "      <td>...</td>\n",
              "      <td>...</td>\n",
              "      <td>...</td>\n",
              "      <td>...</td>\n",
              "      <td>...</td>\n",
              "    </tr>\n",
              "    <tr>\n",
              "      <th>1654</th>\n",
              "      <td>\\n</td>\n",
              "      <td>\\n</td>\n",
              "      <td>\\n</td>\n",
              "      <td></td>\n",
              "      <td></td>\n",
              "      <td></td>\n",
              "    </tr>\n",
              "    <tr>\n",
              "      <th>1655</th>\n",
              "      <td>\\n</td>\n",
              "      <td>\\n</td>\n",
              "      <td>\\n</td>\n",
              "      <td></td>\n",
              "      <td></td>\n",
              "      <td></td>\n",
              "    </tr>\n",
              "    <tr>\n",
              "      <th>1656</th>\n",
              "      <td>&lt;/body&gt;\\n</td>\n",
              "      <td>&lt;/body&gt;\\n</td>\n",
              "      <td>body\\n</td>\n",
              "      <td>body</td>\n",
              "      <td>body</td>\n",
              "      <td>body</td>\n",
              "    </tr>\n",
              "    <tr>\n",
              "      <th>1657</th>\n",
              "      <td>&lt;/html&gt;\\n</td>\n",
              "      <td>&lt;/html&gt;\\n</td>\n",
              "      <td>html\\n</td>\n",
              "      <td>html</td>\n",
              "      <td>html</td>\n",
              "      <td>html</td>\n",
              "    </tr>\n",
              "    <tr>\n",
              "      <th>1658</th>\n",
              "      <td>\\n</td>\n",
              "      <td>\\n</td>\n",
              "      <td>\\n</td>\n",
              "      <td></td>\n",
              "      <td></td>\n",
              "      <td></td>\n",
              "    </tr>\n",
              "  </tbody>\n",
              "</table>\n",
              "<p>1659 rows × 6 columns</p>\n",
              "</div>"
            ],
            "text/plain": [
              "            input   lower_case  ... frequent_words rare_words\n",
              "0              \\n           \\n  ...                          \n",
              "1              \\n           \\n  ...                          \n",
              "2              \\n           \\n  ...                          \n",
              "3              \\n           \\n  ...                          \n",
              "4              \\n           \\n  ...                          \n",
              "...           ...          ...  ...            ...        ...\n",
              "1654           \\n           \\n  ...                          \n",
              "1655           \\n           \\n  ...                          \n",
              "1656    </body>\\n    </body>\\n  ...           body       body\n",
              "1657    </html>\\n    </html>\\n  ...           html       html\n",
              "1658           \\n           \\n  ...                          \n",
              "\n",
              "[1659 rows x 6 columns]"
            ]
          },
          "metadata": {
            "tags": []
          },
          "execution_count": 26
        }
      ]
    },
    {
      "cell_type": "code",
      "metadata": {
        "id": "dJAQZR8M7Npj",
        "outputId": "08cdab32-d929-45c6-913f-9e9685d4a96e",
        "colab": {
          "base_uri": "https://localhost:8080/",
          "height": 419
        }
      },
      "source": [
        "#spelling corrections\n",
        "\n",
        "spell_corrector_df = merge_two_dataframes(rare_words_df, rare_words_df['rare_words'].apply(lambda a:remove_frequent_words(a.split())).to_frame().rename(columns = {\"rare_words\":\"spelling_check\"}))\n",
        "spell_corrector_df"
      ],
      "execution_count": 27,
      "outputs": [
        {
          "output_type": "execute_result",
          "data": {
            "text/html": [
              "<div>\n",
              "<style scoped>\n",
              "    .dataframe tbody tr th:only-of-type {\n",
              "        vertical-align: middle;\n",
              "    }\n",
              "\n",
              "    .dataframe tbody tr th {\n",
              "        vertical-align: top;\n",
              "    }\n",
              "\n",
              "    .dataframe thead th {\n",
              "        text-align: right;\n",
              "    }\n",
              "</style>\n",
              "<table border=\"1\" class=\"dataframe\">\n",
              "  <thead>\n",
              "    <tr style=\"text-align: right;\">\n",
              "      <th></th>\n",
              "      <th>input</th>\n",
              "      <th>lower_case</th>\n",
              "      <th>string_after_removing_spl_chars</th>\n",
              "      <th>stop_words_removal</th>\n",
              "      <th>frequent_words</th>\n",
              "      <th>rare_words</th>\n",
              "      <th>spelling_check</th>\n",
              "    </tr>\n",
              "  </thead>\n",
              "  <tbody>\n",
              "    <tr>\n",
              "      <th>0</th>\n",
              "      <td>\\n</td>\n",
              "      <td>\\n</td>\n",
              "      <td>\\n</td>\n",
              "      <td></td>\n",
              "      <td></td>\n",
              "      <td></td>\n",
              "      <td></td>\n",
              "    </tr>\n",
              "    <tr>\n",
              "      <th>1</th>\n",
              "      <td>\\n</td>\n",
              "      <td>\\n</td>\n",
              "      <td>\\n</td>\n",
              "      <td></td>\n",
              "      <td></td>\n",
              "      <td></td>\n",
              "      <td></td>\n",
              "    </tr>\n",
              "    <tr>\n",
              "      <th>2</th>\n",
              "      <td>\\n</td>\n",
              "      <td>\\n</td>\n",
              "      <td>\\n</td>\n",
              "      <td></td>\n",
              "      <td></td>\n",
              "      <td></td>\n",
              "      <td></td>\n",
              "    </tr>\n",
              "    <tr>\n",
              "      <th>3</th>\n",
              "      <td>\\n</td>\n",
              "      <td>\\n</td>\n",
              "      <td>\\n</td>\n",
              "      <td></td>\n",
              "      <td></td>\n",
              "      <td></td>\n",
              "      <td></td>\n",
              "    </tr>\n",
              "    <tr>\n",
              "      <th>4</th>\n",
              "      <td>\\n</td>\n",
              "      <td>\\n</td>\n",
              "      <td>\\n</td>\n",
              "      <td></td>\n",
              "      <td></td>\n",
              "      <td></td>\n",
              "      <td></td>\n",
              "    </tr>\n",
              "    <tr>\n",
              "      <th>...</th>\n",
              "      <td>...</td>\n",
              "      <td>...</td>\n",
              "      <td>...</td>\n",
              "      <td>...</td>\n",
              "      <td>...</td>\n",
              "      <td>...</td>\n",
              "      <td>...</td>\n",
              "    </tr>\n",
              "    <tr>\n",
              "      <th>1654</th>\n",
              "      <td>\\n</td>\n",
              "      <td>\\n</td>\n",
              "      <td>\\n</td>\n",
              "      <td></td>\n",
              "      <td></td>\n",
              "      <td></td>\n",
              "      <td></td>\n",
              "    </tr>\n",
              "    <tr>\n",
              "      <th>1655</th>\n",
              "      <td>\\n</td>\n",
              "      <td>\\n</td>\n",
              "      <td>\\n</td>\n",
              "      <td></td>\n",
              "      <td></td>\n",
              "      <td></td>\n",
              "      <td></td>\n",
              "    </tr>\n",
              "    <tr>\n",
              "      <th>1656</th>\n",
              "      <td>&lt;/body&gt;\\n</td>\n",
              "      <td>&lt;/body&gt;\\n</td>\n",
              "      <td>body\\n</td>\n",
              "      <td>body</td>\n",
              "      <td>body</td>\n",
              "      <td>body</td>\n",
              "      <td>body</td>\n",
              "    </tr>\n",
              "    <tr>\n",
              "      <th>1657</th>\n",
              "      <td>&lt;/html&gt;\\n</td>\n",
              "      <td>&lt;/html&gt;\\n</td>\n",
              "      <td>html\\n</td>\n",
              "      <td>html</td>\n",
              "      <td>html</td>\n",
              "      <td>html</td>\n",
              "      <td>html</td>\n",
              "    </tr>\n",
              "    <tr>\n",
              "      <th>1658</th>\n",
              "      <td>\\n</td>\n",
              "      <td>\\n</td>\n",
              "      <td>\\n</td>\n",
              "      <td></td>\n",
              "      <td></td>\n",
              "      <td></td>\n",
              "      <td></td>\n",
              "    </tr>\n",
              "  </tbody>\n",
              "</table>\n",
              "<p>1659 rows × 7 columns</p>\n",
              "</div>"
            ],
            "text/plain": [
              "            input   lower_case  ... rare_words spelling_check\n",
              "0              \\n           \\n  ...                          \n",
              "1              \\n           \\n  ...                          \n",
              "2              \\n           \\n  ...                          \n",
              "3              \\n           \\n  ...                          \n",
              "4              \\n           \\n  ...                          \n",
              "...           ...          ...  ...        ...            ...\n",
              "1654           \\n           \\n  ...                          \n",
              "1655           \\n           \\n  ...                          \n",
              "1656    </body>\\n    </body>\\n  ...       body           body\n",
              "1657    </html>\\n    </html>\\n  ...       html           html\n",
              "1658           \\n           \\n  ...                          \n",
              "\n",
              "[1659 rows x 7 columns]"
            ]
          },
          "metadata": {
            "tags": []
          },
          "execution_count": 27
        }
      ]
    },
    {
      "cell_type": "code",
      "metadata": {
        "id": "KRu143qq7WL4",
        "outputId": "d7a76211-5fc4-4d59-89fb-38f7c2709b2b",
        "colab": {
          "base_uri": "https://localhost:8080/"
        }
      },
      "source": [
        "nltk.download('punkt')"
      ],
      "execution_count": 28,
      "outputs": [
        {
          "output_type": "stream",
          "text": [
            "[nltk_data] Downloading package punkt to /root/nltk_data...\n",
            "[nltk_data]   Unzipping tokenizers/punkt.zip.\n"
          ],
          "name": "stdout"
        },
        {
          "output_type": "execute_result",
          "data": {
            "text/plain": [
              "True"
            ]
          },
          "metadata": {
            "tags": []
          },
          "execution_count": 28
        }
      ]
    },
    {
      "cell_type": "code",
      "metadata": {
        "id": "xu5RHw6g7cYy",
        "outputId": "350b1e6b-e71a-48cc-9824-707c98d538b4",
        "colab": {
          "base_uri": "https://localhost:8080/",
          "height": 419
        }
      },
      "source": [
        "''' tokenization '''\n",
        "from nltk import word_tokenize\n",
        "tokenization_df = merge_two_dataframes(spell_corrector_df, spell_corrector_df['spelling_check'].apply(lambda a:word_tokenize(str(a))).to_frame().rename(columns = {\"spelling_check\":\"tokenization\"}))\n",
        "tokenization_df"
      ],
      "execution_count": 29,
      "outputs": [
        {
          "output_type": "execute_result",
          "data": {
            "text/html": [
              "<div>\n",
              "<style scoped>\n",
              "    .dataframe tbody tr th:only-of-type {\n",
              "        vertical-align: middle;\n",
              "    }\n",
              "\n",
              "    .dataframe tbody tr th {\n",
              "        vertical-align: top;\n",
              "    }\n",
              "\n",
              "    .dataframe thead th {\n",
              "        text-align: right;\n",
              "    }\n",
              "</style>\n",
              "<table border=\"1\" class=\"dataframe\">\n",
              "  <thead>\n",
              "    <tr style=\"text-align: right;\">\n",
              "      <th></th>\n",
              "      <th>input</th>\n",
              "      <th>lower_case</th>\n",
              "      <th>string_after_removing_spl_chars</th>\n",
              "      <th>stop_words_removal</th>\n",
              "      <th>frequent_words</th>\n",
              "      <th>rare_words</th>\n",
              "      <th>spelling_check</th>\n",
              "      <th>tokenization</th>\n",
              "    </tr>\n",
              "  </thead>\n",
              "  <tbody>\n",
              "    <tr>\n",
              "      <th>0</th>\n",
              "      <td>\\n</td>\n",
              "      <td>\\n</td>\n",
              "      <td>\\n</td>\n",
              "      <td></td>\n",
              "      <td></td>\n",
              "      <td></td>\n",
              "      <td></td>\n",
              "      <td>[]</td>\n",
              "    </tr>\n",
              "    <tr>\n",
              "      <th>1</th>\n",
              "      <td>\\n</td>\n",
              "      <td>\\n</td>\n",
              "      <td>\\n</td>\n",
              "      <td></td>\n",
              "      <td></td>\n",
              "      <td></td>\n",
              "      <td></td>\n",
              "      <td>[]</td>\n",
              "    </tr>\n",
              "    <tr>\n",
              "      <th>2</th>\n",
              "      <td>\\n</td>\n",
              "      <td>\\n</td>\n",
              "      <td>\\n</td>\n",
              "      <td></td>\n",
              "      <td></td>\n",
              "      <td></td>\n",
              "      <td></td>\n",
              "      <td>[]</td>\n",
              "    </tr>\n",
              "    <tr>\n",
              "      <th>3</th>\n",
              "      <td>\\n</td>\n",
              "      <td>\\n</td>\n",
              "      <td>\\n</td>\n",
              "      <td></td>\n",
              "      <td></td>\n",
              "      <td></td>\n",
              "      <td></td>\n",
              "      <td>[]</td>\n",
              "    </tr>\n",
              "    <tr>\n",
              "      <th>4</th>\n",
              "      <td>\\n</td>\n",
              "      <td>\\n</td>\n",
              "      <td>\\n</td>\n",
              "      <td></td>\n",
              "      <td></td>\n",
              "      <td></td>\n",
              "      <td></td>\n",
              "      <td>[]</td>\n",
              "    </tr>\n",
              "    <tr>\n",
              "      <th>...</th>\n",
              "      <td>...</td>\n",
              "      <td>...</td>\n",
              "      <td>...</td>\n",
              "      <td>...</td>\n",
              "      <td>...</td>\n",
              "      <td>...</td>\n",
              "      <td>...</td>\n",
              "      <td>...</td>\n",
              "    </tr>\n",
              "    <tr>\n",
              "      <th>1654</th>\n",
              "      <td>\\n</td>\n",
              "      <td>\\n</td>\n",
              "      <td>\\n</td>\n",
              "      <td></td>\n",
              "      <td></td>\n",
              "      <td></td>\n",
              "      <td></td>\n",
              "      <td>[]</td>\n",
              "    </tr>\n",
              "    <tr>\n",
              "      <th>1655</th>\n",
              "      <td>\\n</td>\n",
              "      <td>\\n</td>\n",
              "      <td>\\n</td>\n",
              "      <td></td>\n",
              "      <td></td>\n",
              "      <td></td>\n",
              "      <td></td>\n",
              "      <td>[]</td>\n",
              "    </tr>\n",
              "    <tr>\n",
              "      <th>1656</th>\n",
              "      <td>&lt;/body&gt;\\n</td>\n",
              "      <td>&lt;/body&gt;\\n</td>\n",
              "      <td>body\\n</td>\n",
              "      <td>body</td>\n",
              "      <td>body</td>\n",
              "      <td>body</td>\n",
              "      <td>body</td>\n",
              "      <td>[body]</td>\n",
              "    </tr>\n",
              "    <tr>\n",
              "      <th>1657</th>\n",
              "      <td>&lt;/html&gt;\\n</td>\n",
              "      <td>&lt;/html&gt;\\n</td>\n",
              "      <td>html\\n</td>\n",
              "      <td>html</td>\n",
              "      <td>html</td>\n",
              "      <td>html</td>\n",
              "      <td>html</td>\n",
              "      <td>[html]</td>\n",
              "    </tr>\n",
              "    <tr>\n",
              "      <th>1658</th>\n",
              "      <td>\\n</td>\n",
              "      <td>\\n</td>\n",
              "      <td>\\n</td>\n",
              "      <td></td>\n",
              "      <td></td>\n",
              "      <td></td>\n",
              "      <td></td>\n",
              "      <td>[]</td>\n",
              "    </tr>\n",
              "  </tbody>\n",
              "</table>\n",
              "<p>1659 rows × 8 columns</p>\n",
              "</div>"
            ],
            "text/plain": [
              "            input   lower_case  ... spelling_check tokenization\n",
              "0              \\n           \\n  ...                          []\n",
              "1              \\n           \\n  ...                          []\n",
              "2              \\n           \\n  ...                          []\n",
              "3              \\n           \\n  ...                          []\n",
              "4              \\n           \\n  ...                          []\n",
              "...           ...          ...  ...            ...          ...\n",
              "1654           \\n           \\n  ...                          []\n",
              "1655           \\n           \\n  ...                          []\n",
              "1656    </body>\\n    </body>\\n  ...           body       [body]\n",
              "1657    </html>\\n    </html>\\n  ...           html       [html]\n",
              "1658           \\n           \\n  ...                          []\n",
              "\n",
              "[1659 rows x 8 columns]"
            ]
          },
          "metadata": {
            "tags": []
          },
          "execution_count": 29
        }
      ]
    },
    {
      "cell_type": "code",
      "metadata": {
        "id": "GvzDkuX87gYL",
        "outputId": "0e9397ba-dd6f-466c-8110-9e485051f788",
        "colab": {
          "base_uri": "https://localhost:8080/",
          "height": 419
        }
      },
      "source": [
        "#stemming \n",
        "from nltk.stem import PorterStemmer\n",
        "valobj = PorterStemmer()  \n",
        "def stemming_func(ip):\n",
        "  res = list()\n",
        "  for i in ip:\n",
        "    res.append(valobj.stem(i))\n",
        "  return ' '.join(res)\n",
        "\n",
        "stemming_df = merge_two_dataframes(tokenization_df, tokenization_df['tokenization'].apply(lambda a:stemming_func(a)).to_frame().rename(columns = {\"tokenization\":\"stemming\"}))\n",
        "stemming_df\n"
      ],
      "execution_count": 30,
      "outputs": [
        {
          "output_type": "execute_result",
          "data": {
            "text/html": [
              "<div>\n",
              "<style scoped>\n",
              "    .dataframe tbody tr th:only-of-type {\n",
              "        vertical-align: middle;\n",
              "    }\n",
              "\n",
              "    .dataframe tbody tr th {\n",
              "        vertical-align: top;\n",
              "    }\n",
              "\n",
              "    .dataframe thead th {\n",
              "        text-align: right;\n",
              "    }\n",
              "</style>\n",
              "<table border=\"1\" class=\"dataframe\">\n",
              "  <thead>\n",
              "    <tr style=\"text-align: right;\">\n",
              "      <th></th>\n",
              "      <th>input</th>\n",
              "      <th>lower_case</th>\n",
              "      <th>string_after_removing_spl_chars</th>\n",
              "      <th>stop_words_removal</th>\n",
              "      <th>frequent_words</th>\n",
              "      <th>rare_words</th>\n",
              "      <th>spelling_check</th>\n",
              "      <th>tokenization</th>\n",
              "      <th>stemming</th>\n",
              "    </tr>\n",
              "  </thead>\n",
              "  <tbody>\n",
              "    <tr>\n",
              "      <th>0</th>\n",
              "      <td>\\n</td>\n",
              "      <td>\\n</td>\n",
              "      <td>\\n</td>\n",
              "      <td></td>\n",
              "      <td></td>\n",
              "      <td></td>\n",
              "      <td></td>\n",
              "      <td>[]</td>\n",
              "      <td></td>\n",
              "    </tr>\n",
              "    <tr>\n",
              "      <th>1</th>\n",
              "      <td>\\n</td>\n",
              "      <td>\\n</td>\n",
              "      <td>\\n</td>\n",
              "      <td></td>\n",
              "      <td></td>\n",
              "      <td></td>\n",
              "      <td></td>\n",
              "      <td>[]</td>\n",
              "      <td></td>\n",
              "    </tr>\n",
              "    <tr>\n",
              "      <th>2</th>\n",
              "      <td>\\n</td>\n",
              "      <td>\\n</td>\n",
              "      <td>\\n</td>\n",
              "      <td></td>\n",
              "      <td></td>\n",
              "      <td></td>\n",
              "      <td></td>\n",
              "      <td>[]</td>\n",
              "      <td></td>\n",
              "    </tr>\n",
              "    <tr>\n",
              "      <th>3</th>\n",
              "      <td>\\n</td>\n",
              "      <td>\\n</td>\n",
              "      <td>\\n</td>\n",
              "      <td></td>\n",
              "      <td></td>\n",
              "      <td></td>\n",
              "      <td></td>\n",
              "      <td>[]</td>\n",
              "      <td></td>\n",
              "    </tr>\n",
              "    <tr>\n",
              "      <th>4</th>\n",
              "      <td>\\n</td>\n",
              "      <td>\\n</td>\n",
              "      <td>\\n</td>\n",
              "      <td></td>\n",
              "      <td></td>\n",
              "      <td></td>\n",
              "      <td></td>\n",
              "      <td>[]</td>\n",
              "      <td></td>\n",
              "    </tr>\n",
              "    <tr>\n",
              "      <th>...</th>\n",
              "      <td>...</td>\n",
              "      <td>...</td>\n",
              "      <td>...</td>\n",
              "      <td>...</td>\n",
              "      <td>...</td>\n",
              "      <td>...</td>\n",
              "      <td>...</td>\n",
              "      <td>...</td>\n",
              "      <td>...</td>\n",
              "    </tr>\n",
              "    <tr>\n",
              "      <th>1654</th>\n",
              "      <td>\\n</td>\n",
              "      <td>\\n</td>\n",
              "      <td>\\n</td>\n",
              "      <td></td>\n",
              "      <td></td>\n",
              "      <td></td>\n",
              "      <td></td>\n",
              "      <td>[]</td>\n",
              "      <td></td>\n",
              "    </tr>\n",
              "    <tr>\n",
              "      <th>1655</th>\n",
              "      <td>\\n</td>\n",
              "      <td>\\n</td>\n",
              "      <td>\\n</td>\n",
              "      <td></td>\n",
              "      <td></td>\n",
              "      <td></td>\n",
              "      <td></td>\n",
              "      <td>[]</td>\n",
              "      <td></td>\n",
              "    </tr>\n",
              "    <tr>\n",
              "      <th>1656</th>\n",
              "      <td>&lt;/body&gt;\\n</td>\n",
              "      <td>&lt;/body&gt;\\n</td>\n",
              "      <td>body\\n</td>\n",
              "      <td>body</td>\n",
              "      <td>body</td>\n",
              "      <td>body</td>\n",
              "      <td>body</td>\n",
              "      <td>[body]</td>\n",
              "      <td>bodi</td>\n",
              "    </tr>\n",
              "    <tr>\n",
              "      <th>1657</th>\n",
              "      <td>&lt;/html&gt;\\n</td>\n",
              "      <td>&lt;/html&gt;\\n</td>\n",
              "      <td>html\\n</td>\n",
              "      <td>html</td>\n",
              "      <td>html</td>\n",
              "      <td>html</td>\n",
              "      <td>html</td>\n",
              "      <td>[html]</td>\n",
              "      <td>html</td>\n",
              "    </tr>\n",
              "    <tr>\n",
              "      <th>1658</th>\n",
              "      <td>\\n</td>\n",
              "      <td>\\n</td>\n",
              "      <td>\\n</td>\n",
              "      <td></td>\n",
              "      <td></td>\n",
              "      <td></td>\n",
              "      <td></td>\n",
              "      <td>[]</td>\n",
              "      <td></td>\n",
              "    </tr>\n",
              "  </tbody>\n",
              "</table>\n",
              "<p>1659 rows × 9 columns</p>\n",
              "</div>"
            ],
            "text/plain": [
              "            input   lower_case  ... tokenization stemming\n",
              "0              \\n           \\n  ...           []         \n",
              "1              \\n           \\n  ...           []         \n",
              "2              \\n           \\n  ...           []         \n",
              "3              \\n           \\n  ...           []         \n",
              "4              \\n           \\n  ...           []         \n",
              "...           ...          ...  ...          ...      ...\n",
              "1654           \\n           \\n  ...           []         \n",
              "1655           \\n           \\n  ...           []         \n",
              "1656    </body>\\n    </body>\\n  ...       [body]     bodi\n",
              "1657    </html>\\n    </html>\\n  ...       [html]     html\n",
              "1658           \\n           \\n  ...           []         \n",
              "\n",
              "[1659 rows x 9 columns]"
            ]
          },
          "metadata": {
            "tags": []
          },
          "execution_count": 30
        }
      ]
    },
    {
      "cell_type": "code",
      "metadata": {
        "id": "NOQEEcmS7ply",
        "outputId": "15b0c30d-0e76-4ac8-ebd4-62b2584c5a5d",
        "colab": {
          "base_uri": "https://localhost:8080/"
        }
      },
      "source": [
        "nltk.download('wordnet')"
      ],
      "execution_count": 31,
      "outputs": [
        {
          "output_type": "stream",
          "text": [
            "[nltk_data] Downloading package wordnet to /root/nltk_data...\n",
            "[nltk_data]   Unzipping corpora/wordnet.zip.\n"
          ],
          "name": "stdout"
        },
        {
          "output_type": "execute_result",
          "data": {
            "text/plain": [
              "True"
            ]
          },
          "metadata": {
            "tags": []
          },
          "execution_count": 31
        }
      ]
    },
    {
      "cell_type": "code",
      "metadata": {
        "id": "5k3azyhh7vf8",
        "outputId": "512a7963-ab91-45a4-ab3a-5278ebf15ce7",
        "colab": {
          "base_uri": "https://localhost:8080/",
          "height": 439
        }
      },
      "source": [
        "import textblob\n",
        "\n",
        "def lemmitization_func(ip):\n",
        "  res = list()\n",
        "  for i in ip:\n",
        "    res.append(textblob.Word(i).lemmatize())\n",
        "  return ' '.join(res)\n",
        "\n",
        "lemmitization_df = merge_two_dataframes(stemming_df, tokenization_df['tokenization'].apply(lambda a:lemmitization_func(a)).to_frame().rename(columns = {\"tokenization\":\"lemmitization\"}))\n",
        "lemmitization_df"
      ],
      "execution_count": 32,
      "outputs": [
        {
          "output_type": "execute_result",
          "data": {
            "text/html": [
              "<div>\n",
              "<style scoped>\n",
              "    .dataframe tbody tr th:only-of-type {\n",
              "        vertical-align: middle;\n",
              "    }\n",
              "\n",
              "    .dataframe tbody tr th {\n",
              "        vertical-align: top;\n",
              "    }\n",
              "\n",
              "    .dataframe thead th {\n",
              "        text-align: right;\n",
              "    }\n",
              "</style>\n",
              "<table border=\"1\" class=\"dataframe\">\n",
              "  <thead>\n",
              "    <tr style=\"text-align: right;\">\n",
              "      <th></th>\n",
              "      <th>input</th>\n",
              "      <th>lower_case</th>\n",
              "      <th>string_after_removing_spl_chars</th>\n",
              "      <th>stop_words_removal</th>\n",
              "      <th>frequent_words</th>\n",
              "      <th>rare_words</th>\n",
              "      <th>spelling_check</th>\n",
              "      <th>tokenization</th>\n",
              "      <th>stemming</th>\n",
              "      <th>lemmitization</th>\n",
              "    </tr>\n",
              "  </thead>\n",
              "  <tbody>\n",
              "    <tr>\n",
              "      <th>0</th>\n",
              "      <td>\\n</td>\n",
              "      <td>\\n</td>\n",
              "      <td>\\n</td>\n",
              "      <td></td>\n",
              "      <td></td>\n",
              "      <td></td>\n",
              "      <td></td>\n",
              "      <td>[]</td>\n",
              "      <td></td>\n",
              "      <td></td>\n",
              "    </tr>\n",
              "    <tr>\n",
              "      <th>1</th>\n",
              "      <td>\\n</td>\n",
              "      <td>\\n</td>\n",
              "      <td>\\n</td>\n",
              "      <td></td>\n",
              "      <td></td>\n",
              "      <td></td>\n",
              "      <td></td>\n",
              "      <td>[]</td>\n",
              "      <td></td>\n",
              "      <td></td>\n",
              "    </tr>\n",
              "    <tr>\n",
              "      <th>2</th>\n",
              "      <td>\\n</td>\n",
              "      <td>\\n</td>\n",
              "      <td>\\n</td>\n",
              "      <td></td>\n",
              "      <td></td>\n",
              "      <td></td>\n",
              "      <td></td>\n",
              "      <td>[]</td>\n",
              "      <td></td>\n",
              "      <td></td>\n",
              "    </tr>\n",
              "    <tr>\n",
              "      <th>3</th>\n",
              "      <td>\\n</td>\n",
              "      <td>\\n</td>\n",
              "      <td>\\n</td>\n",
              "      <td></td>\n",
              "      <td></td>\n",
              "      <td></td>\n",
              "      <td></td>\n",
              "      <td>[]</td>\n",
              "      <td></td>\n",
              "      <td></td>\n",
              "    </tr>\n",
              "    <tr>\n",
              "      <th>4</th>\n",
              "      <td>\\n</td>\n",
              "      <td>\\n</td>\n",
              "      <td>\\n</td>\n",
              "      <td></td>\n",
              "      <td></td>\n",
              "      <td></td>\n",
              "      <td></td>\n",
              "      <td>[]</td>\n",
              "      <td></td>\n",
              "      <td></td>\n",
              "    </tr>\n",
              "    <tr>\n",
              "      <th>...</th>\n",
              "      <td>...</td>\n",
              "      <td>...</td>\n",
              "      <td>...</td>\n",
              "      <td>...</td>\n",
              "      <td>...</td>\n",
              "      <td>...</td>\n",
              "      <td>...</td>\n",
              "      <td>...</td>\n",
              "      <td>...</td>\n",
              "      <td>...</td>\n",
              "    </tr>\n",
              "    <tr>\n",
              "      <th>1654</th>\n",
              "      <td>\\n</td>\n",
              "      <td>\\n</td>\n",
              "      <td>\\n</td>\n",
              "      <td></td>\n",
              "      <td></td>\n",
              "      <td></td>\n",
              "      <td></td>\n",
              "      <td>[]</td>\n",
              "      <td></td>\n",
              "      <td></td>\n",
              "    </tr>\n",
              "    <tr>\n",
              "      <th>1655</th>\n",
              "      <td>\\n</td>\n",
              "      <td>\\n</td>\n",
              "      <td>\\n</td>\n",
              "      <td></td>\n",
              "      <td></td>\n",
              "      <td></td>\n",
              "      <td></td>\n",
              "      <td>[]</td>\n",
              "      <td></td>\n",
              "      <td></td>\n",
              "    </tr>\n",
              "    <tr>\n",
              "      <th>1656</th>\n",
              "      <td>&lt;/body&gt;\\n</td>\n",
              "      <td>&lt;/body&gt;\\n</td>\n",
              "      <td>body\\n</td>\n",
              "      <td>body</td>\n",
              "      <td>body</td>\n",
              "      <td>body</td>\n",
              "      <td>body</td>\n",
              "      <td>[body]</td>\n",
              "      <td>bodi</td>\n",
              "      <td>body</td>\n",
              "    </tr>\n",
              "    <tr>\n",
              "      <th>1657</th>\n",
              "      <td>&lt;/html&gt;\\n</td>\n",
              "      <td>&lt;/html&gt;\\n</td>\n",
              "      <td>html\\n</td>\n",
              "      <td>html</td>\n",
              "      <td>html</td>\n",
              "      <td>html</td>\n",
              "      <td>html</td>\n",
              "      <td>[html]</td>\n",
              "      <td>html</td>\n",
              "      <td>html</td>\n",
              "    </tr>\n",
              "    <tr>\n",
              "      <th>1658</th>\n",
              "      <td>\\n</td>\n",
              "      <td>\\n</td>\n",
              "      <td>\\n</td>\n",
              "      <td></td>\n",
              "      <td></td>\n",
              "      <td></td>\n",
              "      <td></td>\n",
              "      <td>[]</td>\n",
              "      <td></td>\n",
              "      <td></td>\n",
              "    </tr>\n",
              "  </tbody>\n",
              "</table>\n",
              "<p>1659 rows × 10 columns</p>\n",
              "</div>"
            ],
            "text/plain": [
              "            input   lower_case  ... stemming lemmitization\n",
              "0              \\n           \\n  ...                       \n",
              "1              \\n           \\n  ...                       \n",
              "2              \\n           \\n  ...                       \n",
              "3              \\n           \\n  ...                       \n",
              "4              \\n           \\n  ...                       \n",
              "...           ...          ...  ...      ...           ...\n",
              "1654           \\n           \\n  ...                       \n",
              "1655           \\n           \\n  ...                       \n",
              "1656    </body>\\n    </body>\\n  ...     bodi          body\n",
              "1657    </html>\\n    </html>\\n  ...     html          html\n",
              "1658           \\n           \\n  ...                       \n",
              "\n",
              "[1659 rows x 10 columns]"
            ]
          },
          "metadata": {
            "tags": []
          },
          "execution_count": 32
        }
      ]
    },
    {
      "cell_type": "code",
      "metadata": {
        "id": "WmEfFsPl75EJ",
        "outputId": "ce7a5ce6-e704-44e6-cc8c-a6e4399aef8d",
        "colab": {
          "base_uri": "https://localhost:8080/"
        }
      },
      "source": [
        "# Write your code here\n",
        "\n",
        "\n",
        "import re\n",
        "\n",
        "ip = \"260.08.094.109\"\n",
        "res = re.sub(r'\\b0+(\\d)', r'\\1', ip)\n",
        "\n",
        "print(\"updated ip: \",res)"
      ],
      "execution_count": 33,
      "outputs": [
        {
          "output_type": "stream",
          "text": [
            "updated ip:  260.8.94.109\n"
          ],
          "name": "stdout"
        }
      ]
    },
    {
      "cell_type": "markdown",
      "metadata": {
        "id": "gtVAOVv_88CO"
      },
      "source": [
        "2.2 Write a Python Program to extract all the years from the following sentence. (4 points)\n",
        "sentence = \"The 2010s were a dramatic decade, filled with ups and downs, more than 1000 stroies have happened. As the decade comes to a close, Insider took a look back at some of the biggest headline-grabbing stories, from 2010 to 2019. The result was 119 news stories that ranged from the heartwarming rescue of a Thai boys' soccer team from a flooded cave to the divisive election of President Donald Trump.\""
      ]
    },
    {
      "cell_type": "code",
      "metadata": {
        "id": "l9nsKV008UlK",
        "outputId": "8275ce97-ca14-4c86-fc8e-a0f20176ffff",
        "colab": {
          "base_uri": "https://localhost:8080/"
        }
      },
      "source": [
        "# Write your code here\n",
        "\n",
        "sentence = \"The 2010s were a dramatic decade, filled with ups and downs, more than 1000 stroies have happened. As the decade comes to a close, Insider took a look back at some of the biggest headline-grabbing stories, from 2010 to 2019. The result was 119 news stories that ranged from the heartwarming rescue of a Thai boys' soccer team from a flooded cave to the divisive election of President Donald Trump.\"\n",
        "\n",
        "output2=re.findall(r'2\\d\\d\\d', sentence)\n",
        "print(output2)"
      ],
      "execution_count": 37,
      "outputs": [
        {
          "output_type": "stream",
          "text": [
            "['2010', '2010', '2019']\n"
          ],
          "name": "stdout"
        }
      ]
    },
    {
      "cell_type": "code",
      "metadata": {
        "id": "y-8RUJmm8anB"
      },
      "source": [
        ""
      ],
      "execution_count": null,
      "outputs": []
    }
  ]
}